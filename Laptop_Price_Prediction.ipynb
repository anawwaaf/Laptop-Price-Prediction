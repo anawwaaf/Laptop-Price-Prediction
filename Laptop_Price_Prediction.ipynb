{
 "cells": [
  {
   "cell_type": "markdown",
   "metadata": {},
   "source": [
    "# Milestone 2 : Laptop Price Prediction"
   ]
  },
  {
   "cell_type": "markdown",
   "metadata": {},
   "source": [
    "## I. Perkenalan"
   ]
  },
  {
   "cell_type": "markdown",
   "metadata": {},
   "source": [
    "Nama : Ahmad Nawwaaf"
   ]
  },
  {
   "cell_type": "markdown",
   "metadata": {},
   "source": [
    "Batch : 002"
   ]
  },
  {
   "cell_type": "markdown",
   "metadata": {},
   "source": [
    "### I.I Dataset"
   ]
  },
  {
   "cell_type": "markdown",
   "metadata": {},
   "source": [
    "Laptop merupakan barang elektronik yang cukup sering di beli oleh masyarakat. Laptop memiliki banyak tipe yang ditujukan untuk beberapa hal spesifik seperti laptop untuk Gaming, Creator, Student, dll. Untuk membantu pemilihan laptop, kita dapat melakukannya dengan memprediksi harga laptop."
   ]
  },
  {
   "cell_type": "markdown",
   "metadata": {},
   "source": [
    "Pada tugas ini, akan dilakukan prediksi harga laptop yang dimana dataset berasal dari kaggle. Dataset ini berisi spesifikasi laptop dan harga yang beredar di Eropa."
   ]
  },
  {
   "cell_type": "markdown",
   "metadata": {},
   "source": [
    "https://www.kaggle.com/datasets/muhammetvarl/laptop-price\n"
   ]
  },
  {
   "cell_type": "markdown",
   "metadata": {},
   "source": [
    "## I.II Objective"
   ]
  },
  {
   "cell_type": "markdown",
   "metadata": {},
   "source": [
    "- Memprediksi harga laptop dengan menggunakan model regresi"
   ]
  },
  {
   "cell_type": "markdown",
   "metadata": {},
   "source": [
    "## II. Import Libraries"
   ]
  },
  {
   "cell_type": "code",
   "execution_count": 1,
   "metadata": {},
   "outputs": [],
   "source": [
    "# Define Libraries\n",
    "import pandas as pd\n",
    "import numpy as np\n",
    "from scipy import stats\n",
    "import pickle\n",
    "from sklearn import set_config\n",
    "\n",
    "# For plotting\n",
    "import seaborn as sns\n",
    "import matplotlib.pyplot as plt\n",
    "import plotly.express as px\n",
    "%matplotlib inline\n",
    "\n",
    "# For Regression Problems\n",
    "from sklearn.linear_model import LinearRegression,Ridge\n",
    "from sklearn.tree import DecisionTreeRegressor\n",
    "from sklearn.ensemble import RandomForestRegressor\n",
    "\n",
    "# Standarize the Datasets\n",
    "from sklearn.model_selection import train_test_split, GridSearchCV\n",
    "from sklearn.preprocessing import MinMaxScaler, StandardScaler, OneHotEncoder, OrdinalEncoder\n",
    "from feature_engine.outliers import Winsorizer, OutlierTrimmer\n",
    "from sklearn.pipeline import Pipeline\n",
    "from sklearn.compose import ColumnTransformer\n",
    "\n",
    "# Check Multicollinearity\n",
    "from statsmodels.stats.outliers_influence import variance_inflation_factor\n",
    "\n",
    "from sklearn.feature_selection import f_classif, SelectKBest\n",
    "from sklearn.metrics import mean_absolute_error, r2_score,mean_squared_error\n",
    "\n",
    "# Error and Display settings\n",
    "pd.set_option('display.max_column', None)\n",
    "pd.set_option('display.max_rows', 150)\n",
    "import warnings\n",
    "warnings.filterwarnings('ignore')\n",
    "import time"
   ]
  },
  {
   "cell_type": "markdown",
   "metadata": {},
   "source": [
    "## III. Data Loading"
   ]
  },
  {
   "cell_type": "markdown",
   "metadata": {},
   "source": [
    "Pada bab ini, akan dilakukan loading data dan pembersihan data."
   ]
  },
  {
   "cell_type": "code",
   "execution_count": 2,
   "metadata": {},
   "outputs": [
    {
     "data": {
      "text/html": [
       "<div>\n",
       "<style scoped>\n",
       "    .dataframe tbody tr th:only-of-type {\n",
       "        vertical-align: middle;\n",
       "    }\n",
       "\n",
       "    .dataframe tbody tr th {\n",
       "        vertical-align: top;\n",
       "    }\n",
       "\n",
       "    .dataframe thead th {\n",
       "        text-align: right;\n",
       "    }\n",
       "</style>\n",
       "<table border=\"1\" class=\"dataframe\">\n",
       "  <thead>\n",
       "    <tr style=\"text-align: right;\">\n",
       "      <th></th>\n",
       "      <th>laptop_ID</th>\n",
       "      <th>Company</th>\n",
       "      <th>Product</th>\n",
       "      <th>TypeName</th>\n",
       "      <th>Inches</th>\n",
       "      <th>ScreenResolution</th>\n",
       "      <th>Cpu</th>\n",
       "      <th>Ram</th>\n",
       "      <th>Memory</th>\n",
       "      <th>Gpu</th>\n",
       "      <th>OpSys</th>\n",
       "      <th>Weight</th>\n",
       "      <th>Price_euros</th>\n",
       "    </tr>\n",
       "  </thead>\n",
       "  <tbody>\n",
       "    <tr>\n",
       "      <th>0</th>\n",
       "      <td>1</td>\n",
       "      <td>Apple</td>\n",
       "      <td>MacBook Pro</td>\n",
       "      <td>Ultrabook</td>\n",
       "      <td>13.3</td>\n",
       "      <td>IPS Panel Retina Display 2560x1600</td>\n",
       "      <td>Intel Core i5 2.3GHz</td>\n",
       "      <td>8GB</td>\n",
       "      <td>128GB SSD</td>\n",
       "      <td>Intel Iris Plus Graphics 640</td>\n",
       "      <td>macOS</td>\n",
       "      <td>1.37kg</td>\n",
       "      <td>1339.69</td>\n",
       "    </tr>\n",
       "    <tr>\n",
       "      <th>1</th>\n",
       "      <td>2</td>\n",
       "      <td>Apple</td>\n",
       "      <td>Macbook Air</td>\n",
       "      <td>Ultrabook</td>\n",
       "      <td>13.3</td>\n",
       "      <td>1440x900</td>\n",
       "      <td>Intel Core i5 1.8GHz</td>\n",
       "      <td>8GB</td>\n",
       "      <td>128GB Flash Storage</td>\n",
       "      <td>Intel HD Graphics 6000</td>\n",
       "      <td>macOS</td>\n",
       "      <td>1.34kg</td>\n",
       "      <td>898.94</td>\n",
       "    </tr>\n",
       "    <tr>\n",
       "      <th>2</th>\n",
       "      <td>3</td>\n",
       "      <td>HP</td>\n",
       "      <td>250 G6</td>\n",
       "      <td>Notebook</td>\n",
       "      <td>15.6</td>\n",
       "      <td>Full HD 1920x1080</td>\n",
       "      <td>Intel Core i5 7200U 2.5GHz</td>\n",
       "      <td>8GB</td>\n",
       "      <td>256GB SSD</td>\n",
       "      <td>Intel HD Graphics 620</td>\n",
       "      <td>No OS</td>\n",
       "      <td>1.86kg</td>\n",
       "      <td>575.00</td>\n",
       "    </tr>\n",
       "    <tr>\n",
       "      <th>3</th>\n",
       "      <td>4</td>\n",
       "      <td>Apple</td>\n",
       "      <td>MacBook Pro</td>\n",
       "      <td>Ultrabook</td>\n",
       "      <td>15.4</td>\n",
       "      <td>IPS Panel Retina Display 2880x1800</td>\n",
       "      <td>Intel Core i7 2.7GHz</td>\n",
       "      <td>16GB</td>\n",
       "      <td>512GB SSD</td>\n",
       "      <td>AMD Radeon Pro 455</td>\n",
       "      <td>macOS</td>\n",
       "      <td>1.83kg</td>\n",
       "      <td>2537.45</td>\n",
       "    </tr>\n",
       "    <tr>\n",
       "      <th>4</th>\n",
       "      <td>5</td>\n",
       "      <td>Apple</td>\n",
       "      <td>MacBook Pro</td>\n",
       "      <td>Ultrabook</td>\n",
       "      <td>13.3</td>\n",
       "      <td>IPS Panel Retina Display 2560x1600</td>\n",
       "      <td>Intel Core i5 3.1GHz</td>\n",
       "      <td>8GB</td>\n",
       "      <td>256GB SSD</td>\n",
       "      <td>Intel Iris Plus Graphics 650</td>\n",
       "      <td>macOS</td>\n",
       "      <td>1.37kg</td>\n",
       "      <td>1803.60</td>\n",
       "    </tr>\n",
       "  </tbody>\n",
       "</table>\n",
       "</div>"
      ],
      "text/plain": [
       "   laptop_ID Company      Product   TypeName  Inches  \\\n",
       "0          1   Apple  MacBook Pro  Ultrabook    13.3   \n",
       "1          2   Apple  Macbook Air  Ultrabook    13.3   \n",
       "2          3      HP       250 G6   Notebook    15.6   \n",
       "3          4   Apple  MacBook Pro  Ultrabook    15.4   \n",
       "4          5   Apple  MacBook Pro  Ultrabook    13.3   \n",
       "\n",
       "                     ScreenResolution                         Cpu   Ram  \\\n",
       "0  IPS Panel Retina Display 2560x1600        Intel Core i5 2.3GHz   8GB   \n",
       "1                            1440x900        Intel Core i5 1.8GHz   8GB   \n",
       "2                   Full HD 1920x1080  Intel Core i5 7200U 2.5GHz   8GB   \n",
       "3  IPS Panel Retina Display 2880x1800        Intel Core i7 2.7GHz  16GB   \n",
       "4  IPS Panel Retina Display 2560x1600        Intel Core i5 3.1GHz   8GB   \n",
       "\n",
       "                Memory                           Gpu  OpSys  Weight  \\\n",
       "0            128GB SSD  Intel Iris Plus Graphics 640  macOS  1.37kg   \n",
       "1  128GB Flash Storage        Intel HD Graphics 6000  macOS  1.34kg   \n",
       "2            256GB SSD         Intel HD Graphics 620  No OS  1.86kg   \n",
       "3            512GB SSD            AMD Radeon Pro 455  macOS  1.83kg   \n",
       "4            256GB SSD  Intel Iris Plus Graphics 650  macOS  1.37kg   \n",
       "\n",
       "   Price_euros  \n",
       "0      1339.69  \n",
       "1       898.94  \n",
       "2       575.00  \n",
       "3      2537.45  \n",
       "4      1803.60  "
      ]
     },
     "execution_count": 2,
     "metadata": {},
     "output_type": "execute_result"
    }
   ],
   "source": [
    "df = pd.read_csv('laptop_price.csv',encoding='latin-1')\n",
    "df.head()"
   ]
  },
  {
   "cell_type": "markdown",
   "metadata": {},
   "source": [
    "Menampilkan informasi dataframe"
   ]
  },
  {
   "cell_type": "code",
   "execution_count": 3,
   "metadata": {},
   "outputs": [
    {
     "name": "stdout",
     "output_type": "stream",
     "text": [
      "<class 'pandas.core.frame.DataFrame'>\n",
      "RangeIndex: 1302 entries, 0 to 1301\n",
      "Data columns (total 13 columns):\n",
      " #   Column            Non-Null Count  Dtype  \n",
      "---  ------            --------------  -----  \n",
      " 0   laptop_ID         1302 non-null   int64  \n",
      " 1   Company           1302 non-null   object \n",
      " 2   Product           1302 non-null   object \n",
      " 3   TypeName          1302 non-null   object \n",
      " 4   Inches            1302 non-null   float64\n",
      " 5   ScreenResolution  1302 non-null   object \n",
      " 6   Cpu               1302 non-null   object \n",
      " 7   Ram               1302 non-null   object \n",
      " 8   Memory            1302 non-null   object \n",
      " 9   Gpu               1302 non-null   object \n",
      " 10  OpSys             1302 non-null   object \n",
      " 11  Weight            1302 non-null   object \n",
      " 12  Price_euros       1302 non-null   float64\n",
      "dtypes: float64(2), int64(1), object(10)\n",
      "memory usage: 132.4+ KB\n"
     ]
    }
   ],
   "source": [
    "df.info()"
   ]
  },
  {
   "cell_type": "markdown",
   "metadata": {},
   "source": [
    "Dataset yang digunakan terdiri dari 1303 baris dan 13 kolom. Terlihat bahwa tidak ada missing values dari dataset. Setiap kolom akan dicek nilainya dan tipe datanya."
   ]
  },
  {
   "cell_type": "markdown",
   "metadata": {},
   "source": [
    "Mengecek apakah ada data duplikat atau tidak"
   ]
  },
  {
   "cell_type": "code",
   "execution_count": 4,
   "metadata": {},
   "outputs": [
    {
     "data": {
      "text/plain": [
       "False"
      ]
     },
     "execution_count": 4,
     "metadata": {},
     "output_type": "execute_result"
    }
   ],
   "source": [
    "df.duplicated().any()"
   ]
  },
  {
   "cell_type": "markdown",
   "metadata": {},
   "source": [
    "Dari hasil diatas kita dapat mengetahui bahwa tidak ada data duplikat pada dataset."
   ]
  },
  {
   "cell_type": "markdown",
   "metadata": {},
   "source": [
    "### III.I Data Cleaning"
   ]
  },
  {
   "cell_type": "markdown",
   "metadata": {},
   "source": [
    "Menampilkan jumlah index (baris data)"
   ]
  },
  {
   "cell_type": "code",
   "execution_count": 5,
   "metadata": {},
   "outputs": [
    {
     "data": {
      "text/plain": [
       "1302"
      ]
     },
     "execution_count": 5,
     "metadata": {},
     "output_type": "execute_result"
    }
   ],
   "source": [
    "df.index.nunique()"
   ]
  },
  {
   "cell_type": "markdown",
   "metadata": {},
   "source": [
    "Menampilkan jumlah unique value dari kolom `laptop_ID`"
   ]
  },
  {
   "cell_type": "code",
   "execution_count": 6,
   "metadata": {},
   "outputs": [
    {
     "data": {
      "text/plain": [
       "1302"
      ]
     },
     "execution_count": 6,
     "metadata": {},
     "output_type": "execute_result"
    }
   ],
   "source": [
    "df.laptop_ID.nunique()"
   ]
  },
  {
   "cell_type": "markdown",
   "metadata": {},
   "source": [
    "Kolom `laptop_ID` dan index dari dataset berjumlah sama. Kolom `laptop_ID` pada dataset ini dapat diartikan sebagai index dataset sehingga kolom ini akan di drop."
   ]
  },
  {
   "cell_type": "code",
   "execution_count": 7,
   "metadata": {},
   "outputs": [],
   "source": [
    "df_clean = df.drop(columns=['laptop_ID'])"
   ]
  },
  {
   "cell_type": "markdown",
   "metadata": {},
   "source": [
    "Kolom `Weight`"
   ]
  },
  {
   "cell_type": "code",
   "execution_count": 8,
   "metadata": {},
   "outputs": [
    {
     "data": {
      "text/html": [
       "<div>\n",
       "<style scoped>\n",
       "    .dataframe tbody tr th:only-of-type {\n",
       "        vertical-align: middle;\n",
       "    }\n",
       "\n",
       "    .dataframe tbody tr th {\n",
       "        vertical-align: top;\n",
       "    }\n",
       "\n",
       "    .dataframe thead th {\n",
       "        text-align: right;\n",
       "    }\n",
       "</style>\n",
       "<table border=\"1\" class=\"dataframe\">\n",
       "  <thead>\n",
       "    <tr style=\"text-align: right;\">\n",
       "      <th></th>\n",
       "      <th>Weight</th>\n",
       "    </tr>\n",
       "  </thead>\n",
       "  <tbody>\n",
       "    <tr>\n",
       "      <th>0</th>\n",
       "      <td>1.37kg</td>\n",
       "    </tr>\n",
       "    <tr>\n",
       "      <th>1</th>\n",
       "      <td>1.34kg</td>\n",
       "    </tr>\n",
       "    <tr>\n",
       "      <th>2</th>\n",
       "      <td>1.86kg</td>\n",
       "    </tr>\n",
       "    <tr>\n",
       "      <th>3</th>\n",
       "      <td>1.83kg</td>\n",
       "    </tr>\n",
       "    <tr>\n",
       "      <th>4</th>\n",
       "      <td>1.37kg</td>\n",
       "    </tr>\n",
       "  </tbody>\n",
       "</table>\n",
       "</div>"
      ],
      "text/plain": [
       "   Weight\n",
       "0  1.37kg\n",
       "1  1.34kg\n",
       "2  1.86kg\n",
       "3  1.83kg\n",
       "4  1.37kg"
      ]
     },
     "execution_count": 8,
     "metadata": {},
     "output_type": "execute_result"
    }
   ],
   "source": [
    "df_clean[['Weight']].head()"
   ]
  },
  {
   "cell_type": "markdown",
   "metadata": {},
   "source": [
    "Kolom ini menjelaskan berat laptop dalam satuan `kg`. Untuk itu, akan dihilangkan tulisan `kg` sehingga kolom menjadi numerik."
   ]
  },
  {
   "cell_type": "code",
   "execution_count": 9,
   "metadata": {},
   "outputs": [],
   "source": [
    "df_clean['Weight'] = df_clean['Weight'].str.replace('kg', '').astype('float64')\n"
   ]
  },
  {
   "cell_type": "markdown",
   "metadata": {},
   "source": [
    "Kolom `Ram`"
   ]
  },
  {
   "cell_type": "markdown",
   "metadata": {},
   "source": [
    "Merubah nama kolom `Ram` menjadi `RAM`"
   ]
  },
  {
   "cell_type": "code",
   "execution_count": 10,
   "metadata": {},
   "outputs": [],
   "source": [
    "df_clean.rename(columns={'Ram':'RAM'}, inplace=True)"
   ]
  },
  {
   "cell_type": "markdown",
   "metadata": {},
   "source": [
    "Menampilkan 5 data pertama dari kolom `RAM`"
   ]
  },
  {
   "cell_type": "code",
   "execution_count": 11,
   "metadata": {},
   "outputs": [
    {
     "data": {
      "text/plain": [
       "0     8GB\n",
       "1     8GB\n",
       "2     8GB\n",
       "3    16GB\n",
       "4     8GB\n",
       "Name: RAM, dtype: object"
      ]
     },
     "execution_count": 11,
     "metadata": {},
     "output_type": "execute_result"
    }
   ],
   "source": [
    "df_clean['RAM'].head()"
   ]
  },
  {
   "cell_type": "markdown",
   "metadata": {},
   "source": [
    "Kolom ini menjelaskan ram yang digunakan laptop dalam satuan `GB`. Untuk itu, akan dihilangkan tulisan `GB` dan kolom akan diubah menjadi numerik."
   ]
  },
  {
   "cell_type": "code",
   "execution_count": 12,
   "metadata": {},
   "outputs": [],
   "source": [
    "df_clean['RAM'] = df_clean['RAM'].str.replace('GB', '').astype('int')"
   ]
  },
  {
   "cell_type": "code",
   "execution_count": 13,
   "metadata": {},
   "outputs": [
    {
     "name": "stdout",
     "output_type": "stream",
     "text": [
      "<class 'pandas.core.frame.DataFrame'>\n",
      "RangeIndex: 1302 entries, 0 to 1301\n",
      "Data columns (total 12 columns):\n",
      " #   Column            Non-Null Count  Dtype  \n",
      "---  ------            --------------  -----  \n",
      " 0   Company           1302 non-null   object \n",
      " 1   Product           1302 non-null   object \n",
      " 2   TypeName          1302 non-null   object \n",
      " 3   Inches            1302 non-null   float64\n",
      " 4   ScreenResolution  1302 non-null   object \n",
      " 5   Cpu               1302 non-null   object \n",
      " 6   RAM               1302 non-null   int32  \n",
      " 7   Memory            1302 non-null   object \n",
      " 8   Gpu               1302 non-null   object \n",
      " 9   OpSys             1302 non-null   object \n",
      " 10  Weight            1302 non-null   float64\n",
      " 11  Price_euros       1302 non-null   float64\n",
      "dtypes: float64(3), int32(1), object(8)\n",
      "memory usage: 117.1+ KB\n"
     ]
    }
   ],
   "source": [
    "df_clean.info()"
   ]
  },
  {
   "cell_type": "markdown",
   "metadata": {},
   "source": [
    "Terlihat bahwa kolom `Weight` dan `Ram` berhasil diubah tipe datanya."
   ]
  },
  {
   "cell_type": "markdown",
   "metadata": {},
   "source": [
    "Kolom `Memory`"
   ]
  },
  {
   "cell_type": "code",
   "execution_count": 14,
   "metadata": {},
   "outputs": [
    {
     "data": {
      "text/plain": [
       "256GB SSD                        412\n",
       "1TB HDD                          223\n",
       "500GB HDD                        132\n",
       "512GB SSD                        118\n",
       "128GB SSD +  1TB HDD              94\n",
       "128GB SSD                         76\n",
       "256GB SSD +  1TB HDD              73\n",
       "32GB Flash Storage                37\n",
       "2TB HDD                           16\n",
       "64GB Flash Storage                15\n",
       "512GB SSD +  1TB HDD              14\n",
       "1TB SSD                           14\n",
       "256GB SSD +  2TB HDD              10\n",
       "1.0TB Hybrid                       9\n",
       "256GB Flash Storage                8\n",
       "16GB Flash Storage                 7\n",
       "32GB SSD                           6\n",
       "180GB SSD                          5\n",
       "128GB Flash Storage                4\n",
       "512GB SSD +  2TB HDD               3\n",
       "16GB SSD                           3\n",
       "512GB Flash Storage                2\n",
       "1TB SSD +  1TB HDD                 2\n",
       "256GB SSD +  500GB HDD             2\n",
       "128GB SSD +  2TB HDD               2\n",
       "256GB SSD +  256GB SSD             2\n",
       "512GB SSD +  256GB SSD             1\n",
       "512GB SSD +  512GB SSD             1\n",
       "64GB Flash Storage +  1TB HDD      1\n",
       "1TB HDD +  1TB HDD                 1\n",
       "32GB HDD                           1\n",
       "64GB SSD                           1\n",
       "128GB HDD                          1\n",
       "240GB SSD                          1\n",
       "8GB SSD                            1\n",
       "508GB Hybrid                       1\n",
       "1.0TB HDD                          1\n",
       "512GB SSD +  1.0TB Hybrid          1\n",
       "256GB SSD +  1.0TB Hybrid          1\n",
       "Name: Memory, dtype: int64"
      ]
     },
     "execution_count": 14,
     "metadata": {},
     "output_type": "execute_result"
    }
   ],
   "source": [
    "df_clean.Memory.value_counts()"
   ]
  },
  {
   "cell_type": "markdown",
   "metadata": {},
   "source": [
    "Dari hasil diatas, kita akan melakukan cleaning pada kolom `Memory`. Kolom `Memory` adalah kolom yang menjelaskan besar memory yang digunakanan dalam satuan GB."
   ]
  },
  {
   "cell_type": "markdown",
   "metadata": {},
   "source": [
    "Ubah tipe datanya menjadi tipe data string, kemudian menghapus tulisan `.0` dan `GB` serta mengubah tulisan `TB` menjadi `000` (1 TB = 1000 GB)."
   ]
  },
  {
   "cell_type": "code",
   "execution_count": 15,
   "metadata": {},
   "outputs": [],
   "source": [
    "df_clean['Memory'] = df_clean['Memory'].astype(str).replace('\\.0', '', regex=True)\n",
    "df_clean[\"Memory\"] = df_clean[\"Memory\"].str.replace('GB', '')\n",
    "df_clean[\"Memory\"] = df_clean[\"Memory\"].str.replace('TB', '000')"
   ]
  },
  {
   "cell_type": "markdown",
   "metadata": {},
   "source": [
    "Karena ada `Memory` yang berupa gabungan beberapa tipe maka akan di pisahkan menjadi `HDD`, `SSD`, `Hybrid` dan `Flash Storage`"
   ]
  },
  {
   "cell_type": "code",
   "execution_count": 16,
   "metadata": {},
   "outputs": [],
   "source": [
    "new = df_clean[\"Memory\"].str.split(\"+\", n = 1, expand = True)\n",
    "new[0] = new[0].str.strip()\n",
    "new[\"Layer1HDD\"] = new[0].apply(lambda x: 1 if \"HDD\" in x else 0)\n",
    "new[\"Layer1SSD\"] = new[0].apply(lambda x: 1 if \"SSD\" in x else 0)\n",
    "new[\"Layer1Hybrid\"] = new[0].apply(lambda x: 1 if \"Hybrid\" in x else 0)\n",
    "new[\"Layer1Flash_Storage\"] = new[0].apply(lambda x: 1 if \"Flash Storage\" in x else 0)\n",
    "new[0] = new[0].str.replace(r'\\D', '')\n",
    "\n",
    "new[1].fillna('0', inplace=True)\n",
    "new[\"Layer2HDD\"] = new[1].apply(lambda x: 1 if \"HDD\" in x else 0)\n",
    "new[\"Layer2SSD\"] = new[1].apply(lambda x: 1 if \"SSD\" in x else 0)\n",
    "new[\"Layer2Hybrid\"] = new[1].apply(lambda x: 1 if \"Hybrid\" in x else 0)\n",
    "new[\"Layer2Flash_Storage\"] = new[1].apply(lambda x: 1 if \"Flash Storage\" in x else 0)\n",
    "new[1] = new[1].str.replace(r'\\D', '')\n",
    "\n",
    "new[0] = new[0].astype(int)\n",
    "new[1] = new[1].astype(int)\n",
    "\n",
    "new[\"HDD\"]=(new[0]*new[\"Layer1HDD\"]+new[1]*new[\"Layer2HDD\"])\n",
    "new[\"SSD\"]=(new[0]*new[\"Layer1SSD\"]+new[1]*new[\"Layer2SSD\"])\n",
    "new[\"Hybrid\"]=(new[0]*new[\"Layer1Hybrid\"]+new[1]*new[\"Layer2Hybrid\"])\n",
    "new[\"Flash_Storage\"]=(new[0]*new[\"Layer1Flash_Storage\"]+new[1]*new[\"Layer2Flash_Storage\"])\n",
    "\n",
    "new.drop(columns=[0, 1, 'Layer1HDD', 'Layer1SSD', 'Layer1Hybrid',\n",
    "       'Layer1Flash_Storage', 'Layer2HDD', 'Layer2SSD', 'Layer2Hybrid',\n",
    "       'Layer2Flash_Storage'],inplace=True)\n",
    "\n",
    "df_clean[['HDD', 'SSD', 'Hybrid', 'Flash_Storage']] = new[['HDD', 'SSD', 'Hybrid', 'Flash_Storage']]\n",
    "df_clean.drop(columns=['Memory'], inplace=True)"
   ]
  },
  {
   "cell_type": "code",
   "execution_count": 17,
   "metadata": {},
   "outputs": [
    {
     "data": {
      "text/html": [
       "<div>\n",
       "<style scoped>\n",
       "    .dataframe tbody tr th:only-of-type {\n",
       "        vertical-align: middle;\n",
       "    }\n",
       "\n",
       "    .dataframe tbody tr th {\n",
       "        vertical-align: top;\n",
       "    }\n",
       "\n",
       "    .dataframe thead th {\n",
       "        text-align: right;\n",
       "    }\n",
       "</style>\n",
       "<table border=\"1\" class=\"dataframe\">\n",
       "  <thead>\n",
       "    <tr style=\"text-align: right;\">\n",
       "      <th></th>\n",
       "      <th>Company</th>\n",
       "      <th>Product</th>\n",
       "      <th>TypeName</th>\n",
       "      <th>Inches</th>\n",
       "      <th>ScreenResolution</th>\n",
       "      <th>Cpu</th>\n",
       "      <th>RAM</th>\n",
       "      <th>Gpu</th>\n",
       "      <th>OpSys</th>\n",
       "      <th>Weight</th>\n",
       "      <th>Price_euros</th>\n",
       "      <th>HDD</th>\n",
       "      <th>SSD</th>\n",
       "      <th>Hybrid</th>\n",
       "      <th>Flash_Storage</th>\n",
       "    </tr>\n",
       "  </thead>\n",
       "  <tbody>\n",
       "    <tr>\n",
       "      <th>0</th>\n",
       "      <td>Apple</td>\n",
       "      <td>MacBook Pro</td>\n",
       "      <td>Ultrabook</td>\n",
       "      <td>13.3</td>\n",
       "      <td>IPS Panel Retina Display 2560x1600</td>\n",
       "      <td>Intel Core i5 2.3GHz</td>\n",
       "      <td>8</td>\n",
       "      <td>Intel Iris Plus Graphics 640</td>\n",
       "      <td>macOS</td>\n",
       "      <td>1.37</td>\n",
       "      <td>1339.69</td>\n",
       "      <td>0</td>\n",
       "      <td>128</td>\n",
       "      <td>0</td>\n",
       "      <td>0</td>\n",
       "    </tr>\n",
       "    <tr>\n",
       "      <th>1</th>\n",
       "      <td>Apple</td>\n",
       "      <td>Macbook Air</td>\n",
       "      <td>Ultrabook</td>\n",
       "      <td>13.3</td>\n",
       "      <td>1440x900</td>\n",
       "      <td>Intel Core i5 1.8GHz</td>\n",
       "      <td>8</td>\n",
       "      <td>Intel HD Graphics 6000</td>\n",
       "      <td>macOS</td>\n",
       "      <td>1.34</td>\n",
       "      <td>898.94</td>\n",
       "      <td>0</td>\n",
       "      <td>0</td>\n",
       "      <td>0</td>\n",
       "      <td>128</td>\n",
       "    </tr>\n",
       "    <tr>\n",
       "      <th>2</th>\n",
       "      <td>HP</td>\n",
       "      <td>250 G6</td>\n",
       "      <td>Notebook</td>\n",
       "      <td>15.6</td>\n",
       "      <td>Full HD 1920x1080</td>\n",
       "      <td>Intel Core i5 7200U 2.5GHz</td>\n",
       "      <td>8</td>\n",
       "      <td>Intel HD Graphics 620</td>\n",
       "      <td>No OS</td>\n",
       "      <td>1.86</td>\n",
       "      <td>575.00</td>\n",
       "      <td>0</td>\n",
       "      <td>256</td>\n",
       "      <td>0</td>\n",
       "      <td>0</td>\n",
       "    </tr>\n",
       "  </tbody>\n",
       "</table>\n",
       "</div>"
      ],
      "text/plain": [
       "  Company      Product   TypeName  Inches                    ScreenResolution  \\\n",
       "0   Apple  MacBook Pro  Ultrabook    13.3  IPS Panel Retina Display 2560x1600   \n",
       "1   Apple  Macbook Air  Ultrabook    13.3                            1440x900   \n",
       "2      HP       250 G6   Notebook    15.6                   Full HD 1920x1080   \n",
       "\n",
       "                          Cpu  RAM                           Gpu  OpSys  \\\n",
       "0        Intel Core i5 2.3GHz    8  Intel Iris Plus Graphics 640  macOS   \n",
       "1        Intel Core i5 1.8GHz    8        Intel HD Graphics 6000  macOS   \n",
       "2  Intel Core i5 7200U 2.5GHz    8         Intel HD Graphics 620  No OS   \n",
       "\n",
       "   Weight  Price_euros  HDD  SSD  Hybrid  Flash_Storage  \n",
       "0    1.37      1339.69    0  128       0              0  \n",
       "1    1.34       898.94    0    0       0            128  \n",
       "2    1.86       575.00    0  256       0              0  "
      ]
     },
     "execution_count": 17,
     "metadata": {},
     "output_type": "execute_result"
    }
   ],
   "source": [
    "df_clean.head(3)"
   ]
  },
  {
   "cell_type": "markdown",
   "metadata": {},
   "source": [
    "Kolom `OpSys`"
   ]
  },
  {
   "cell_type": "code",
   "execution_count": 18,
   "metadata": {},
   "outputs": [
    {
     "data": {
      "text/plain": [
       "Windows 10      1072\n",
       "No OS             66\n",
       "Linux             62\n",
       "Windows 7         45\n",
       "Chrome OS         26\n",
       "macOS             13\n",
       "Mac OS X           8\n",
       "Windows 10 S       8\n",
       "Android            2\n",
       "Name: OpSys, dtype: int64"
      ]
     },
     "execution_count": 18,
     "metadata": {},
     "output_type": "execute_result"
    }
   ],
   "source": [
    "df_clean.OpSys.value_counts()"
   ]
  },
  {
   "cell_type": "markdown",
   "metadata": {},
   "source": [
    "Kolom `OpSys` menjelaskan operasi sistem yang digunakan oleh laptop, disini saya akan membaginya menjadi `Windows`, `Mac`, `Linux`, `DOS`, `Others`. Others merupakan operasi sistem selain yang sudah disebutkan."
   ]
  },
  {
   "cell_type": "code",
   "execution_count": 19,
   "metadata": {},
   "outputs": [],
   "source": [
    "df_clean['OpSys'].replace(['Windows 10','Windows 7','Windows 10 S'], 'Windows', inplace=True)\n",
    "df_clean['OpSys'].replace(['macOS', 'Mac OS X'], 'Mac', inplace=True)\n",
    "df_clean['OpSys'].replace('No OS', 'DOS', inplace=True)\n",
    "df_clean['OpSys'].replace(['Chrome OS', 'Android'], 'Others', inplace=True)"
   ]
  },
  {
   "cell_type": "markdown",
   "metadata": {},
   "source": [
    "Melihat jenis operasi sistem setelah dilakukan perubahan"
   ]
  },
  {
   "cell_type": "code",
   "execution_count": 20,
   "metadata": {},
   "outputs": [
    {
     "data": {
      "text/plain": [
       "Windows    1125\n",
       "DOS          66\n",
       "Linux        62\n",
       "Others       28\n",
       "Mac          21\n",
       "Name: OpSys, dtype: int64"
      ]
     },
     "execution_count": 20,
     "metadata": {},
     "output_type": "execute_result"
    }
   ],
   "source": [
    "df_clean.OpSys.value_counts()"
   ]
  },
  {
   "cell_type": "markdown",
   "metadata": {},
   "source": [
    "Terlihat bahwa tipe-tipe operasi sistem berhasil diubah."
   ]
  },
  {
   "cell_type": "code",
   "execution_count": 21,
   "metadata": {},
   "outputs": [
    {
     "data": {
      "text/html": [
       "<div>\n",
       "<style scoped>\n",
       "    .dataframe tbody tr th:only-of-type {\n",
       "        vertical-align: middle;\n",
       "    }\n",
       "\n",
       "    .dataframe tbody tr th {\n",
       "        vertical-align: top;\n",
       "    }\n",
       "\n",
       "    .dataframe thead th {\n",
       "        text-align: right;\n",
       "    }\n",
       "</style>\n",
       "<table border=\"1\" class=\"dataframe\">\n",
       "  <thead>\n",
       "    <tr style=\"text-align: right;\">\n",
       "      <th></th>\n",
       "      <th>Company</th>\n",
       "      <th>Product</th>\n",
       "      <th>TypeName</th>\n",
       "      <th>Inches</th>\n",
       "      <th>ScreenResolution</th>\n",
       "      <th>Cpu</th>\n",
       "      <th>RAM</th>\n",
       "      <th>Gpu</th>\n",
       "      <th>OpSys</th>\n",
       "      <th>Weight</th>\n",
       "      <th>Price_euros</th>\n",
       "      <th>HDD</th>\n",
       "      <th>SSD</th>\n",
       "      <th>Hybrid</th>\n",
       "      <th>Flash_Storage</th>\n",
       "    </tr>\n",
       "  </thead>\n",
       "  <tbody>\n",
       "    <tr>\n",
       "      <th>0</th>\n",
       "      <td>Apple</td>\n",
       "      <td>MacBook Pro</td>\n",
       "      <td>Ultrabook</td>\n",
       "      <td>13.3</td>\n",
       "      <td>IPS Panel Retina Display 2560x1600</td>\n",
       "      <td>Intel Core i5 2.3GHz</td>\n",
       "      <td>8</td>\n",
       "      <td>Intel Iris Plus Graphics 640</td>\n",
       "      <td>Mac</td>\n",
       "      <td>1.37</td>\n",
       "      <td>1339.69</td>\n",
       "      <td>0</td>\n",
       "      <td>128</td>\n",
       "      <td>0</td>\n",
       "      <td>0</td>\n",
       "    </tr>\n",
       "    <tr>\n",
       "      <th>1</th>\n",
       "      <td>Apple</td>\n",
       "      <td>Macbook Air</td>\n",
       "      <td>Ultrabook</td>\n",
       "      <td>13.3</td>\n",
       "      <td>1440x900</td>\n",
       "      <td>Intel Core i5 1.8GHz</td>\n",
       "      <td>8</td>\n",
       "      <td>Intel HD Graphics 6000</td>\n",
       "      <td>Mac</td>\n",
       "      <td>1.34</td>\n",
       "      <td>898.94</td>\n",
       "      <td>0</td>\n",
       "      <td>0</td>\n",
       "      <td>0</td>\n",
       "      <td>128</td>\n",
       "    </tr>\n",
       "  </tbody>\n",
       "</table>\n",
       "</div>"
      ],
      "text/plain": [
       "  Company      Product   TypeName  Inches                    ScreenResolution  \\\n",
       "0   Apple  MacBook Pro  Ultrabook    13.3  IPS Panel Retina Display 2560x1600   \n",
       "1   Apple  Macbook Air  Ultrabook    13.3                            1440x900   \n",
       "\n",
       "                    Cpu  RAM                           Gpu OpSys  Weight  \\\n",
       "0  Intel Core i5 2.3GHz    8  Intel Iris Plus Graphics 640   Mac    1.37   \n",
       "1  Intel Core i5 1.8GHz    8        Intel HD Graphics 6000   Mac    1.34   \n",
       "\n",
       "   Price_euros  HDD  SSD  Hybrid  Flash_Storage  \n",
       "0      1339.69    0  128       0              0  \n",
       "1       898.94    0    0       0            128  "
      ]
     },
     "execution_count": 21,
     "metadata": {},
     "output_type": "execute_result"
    }
   ],
   "source": [
    "df_clean.head(2)"
   ]
  },
  {
   "cell_type": "markdown",
   "metadata": {},
   "source": [
    "Kolom `Cpu`"
   ]
  },
  {
   "cell_type": "markdown",
   "metadata": {},
   "source": [
    "Mengganti nama kolom `Cpu` menjadi `CPU`"
   ]
  },
  {
   "cell_type": "code",
   "execution_count": 22,
   "metadata": {},
   "outputs": [],
   "source": [
    "df_clean.rename(columns={'Cpu':'CPU'}, inplace=True)"
   ]
  },
  {
   "cell_type": "code",
   "execution_count": 23,
   "metadata": {},
   "outputs": [
    {
     "data": {
      "text/html": [
       "<div>\n",
       "<style scoped>\n",
       "    .dataframe tbody tr th:only-of-type {\n",
       "        vertical-align: middle;\n",
       "    }\n",
       "\n",
       "    .dataframe tbody tr th {\n",
       "        vertical-align: top;\n",
       "    }\n",
       "\n",
       "    .dataframe thead th {\n",
       "        text-align: right;\n",
       "    }\n",
       "</style>\n",
       "<table border=\"1\" class=\"dataframe\">\n",
       "  <thead>\n",
       "    <tr style=\"text-align: right;\">\n",
       "      <th></th>\n",
       "      <th>CPU</th>\n",
       "    </tr>\n",
       "  </thead>\n",
       "  <tbody>\n",
       "    <tr>\n",
       "      <th>0</th>\n",
       "      <td>Intel Core i5 2.3GHz</td>\n",
       "    </tr>\n",
       "    <tr>\n",
       "      <th>1</th>\n",
       "      <td>Intel Core i5 1.8GHz</td>\n",
       "    </tr>\n",
       "    <tr>\n",
       "      <th>2</th>\n",
       "      <td>Intel Core i5 7200U 2.5GHz</td>\n",
       "    </tr>\n",
       "    <tr>\n",
       "      <th>3</th>\n",
       "      <td>Intel Core i7 2.7GHz</td>\n",
       "    </tr>\n",
       "    <tr>\n",
       "      <th>4</th>\n",
       "      <td>Intel Core i5 3.1GHz</td>\n",
       "    </tr>\n",
       "  </tbody>\n",
       "</table>\n",
       "</div>"
      ],
      "text/plain": [
       "                          CPU\n",
       "0        Intel Core i5 2.3GHz\n",
       "1        Intel Core i5 1.8GHz\n",
       "2  Intel Core i5 7200U 2.5GHz\n",
       "3        Intel Core i7 2.7GHz\n",
       "4        Intel Core i5 3.1GHz"
      ]
     },
     "execution_count": 23,
     "metadata": {},
     "output_type": "execute_result"
    }
   ],
   "source": [
    "df_clean[['CPU']].head()"
   ]
  },
  {
   "cell_type": "markdown",
   "metadata": {},
   "source": [
    "Memisahkan frekuensi dari CPU"
   ]
  },
  {
   "cell_type": "markdown",
   "metadata": {},
   "source": [
    "definisi fungsi untuk mengambil data frequency CPU"
   ]
  },
  {
   "cell_type": "code",
   "execution_count": 24,
   "metadata": {},
   "outputs": [],
   "source": [
    "def laststr(x):\n",
    "    last = x.split(' ')[-1]\n",
    "    return last"
   ]
  },
  {
   "cell_type": "markdown",
   "metadata": {},
   "source": [
    "Membuat kolom frekuensi cpu"
   ]
  },
  {
   "cell_type": "code",
   "execution_count": 25,
   "metadata": {},
   "outputs": [],
   "source": [
    "df_clean['CPU_GHz'] = df_clean['CPU'].apply(laststr)\n",
    "df_clean['CPU_GHz'] = df_clean['CPU_GHz'].str.replace('GHz', '').astype(float)"
   ]
  },
  {
   "cell_type": "markdown",
   "metadata": {},
   "source": [
    "Memisahkan Model CPU"
   ]
  },
  {
   "cell_type": "code",
   "execution_count": 26,
   "metadata": {},
   "outputs": [],
   "source": [
    "df_clean['CPU_Model'] = df_clean['CPU'].apply(lambda x:\" \".join(x.split()[0:3]))\n",
    "df_clean.drop(columns=['CPU'], inplace=True)"
   ]
  },
  {
   "cell_type": "code",
   "execution_count": 27,
   "metadata": {},
   "outputs": [
    {
     "data": {
      "text/html": [
       "<div>\n",
       "<style scoped>\n",
       "    .dataframe tbody tr th:only-of-type {\n",
       "        vertical-align: middle;\n",
       "    }\n",
       "\n",
       "    .dataframe tbody tr th {\n",
       "        vertical-align: top;\n",
       "    }\n",
       "\n",
       "    .dataframe thead th {\n",
       "        text-align: right;\n",
       "    }\n",
       "</style>\n",
       "<table border=\"1\" class=\"dataframe\">\n",
       "  <thead>\n",
       "    <tr style=\"text-align: right;\">\n",
       "      <th></th>\n",
       "      <th>Company</th>\n",
       "      <th>Product</th>\n",
       "      <th>TypeName</th>\n",
       "      <th>Inches</th>\n",
       "      <th>ScreenResolution</th>\n",
       "      <th>RAM</th>\n",
       "      <th>Gpu</th>\n",
       "      <th>OpSys</th>\n",
       "      <th>Weight</th>\n",
       "      <th>Price_euros</th>\n",
       "      <th>HDD</th>\n",
       "      <th>SSD</th>\n",
       "      <th>Hybrid</th>\n",
       "      <th>Flash_Storage</th>\n",
       "      <th>CPU_GHz</th>\n",
       "      <th>CPU_Model</th>\n",
       "    </tr>\n",
       "  </thead>\n",
       "  <tbody>\n",
       "    <tr>\n",
       "      <th>0</th>\n",
       "      <td>Apple</td>\n",
       "      <td>MacBook Pro</td>\n",
       "      <td>Ultrabook</td>\n",
       "      <td>13.3</td>\n",
       "      <td>IPS Panel Retina Display 2560x1600</td>\n",
       "      <td>8</td>\n",
       "      <td>Intel Iris Plus Graphics 640</td>\n",
       "      <td>Mac</td>\n",
       "      <td>1.37</td>\n",
       "      <td>1339.69</td>\n",
       "      <td>0</td>\n",
       "      <td>128</td>\n",
       "      <td>0</td>\n",
       "      <td>0</td>\n",
       "      <td>2.3</td>\n",
       "      <td>Intel Core i5</td>\n",
       "    </tr>\n",
       "    <tr>\n",
       "      <th>1</th>\n",
       "      <td>Apple</td>\n",
       "      <td>Macbook Air</td>\n",
       "      <td>Ultrabook</td>\n",
       "      <td>13.3</td>\n",
       "      <td>1440x900</td>\n",
       "      <td>8</td>\n",
       "      <td>Intel HD Graphics 6000</td>\n",
       "      <td>Mac</td>\n",
       "      <td>1.34</td>\n",
       "      <td>898.94</td>\n",
       "      <td>0</td>\n",
       "      <td>0</td>\n",
       "      <td>0</td>\n",
       "      <td>128</td>\n",
       "      <td>1.8</td>\n",
       "      <td>Intel Core i5</td>\n",
       "    </tr>\n",
       "  </tbody>\n",
       "</table>\n",
       "</div>"
      ],
      "text/plain": [
       "  Company      Product   TypeName  Inches                    ScreenResolution  \\\n",
       "0   Apple  MacBook Pro  Ultrabook    13.3  IPS Panel Retina Display 2560x1600   \n",
       "1   Apple  Macbook Air  Ultrabook    13.3                            1440x900   \n",
       "\n",
       "   RAM                           Gpu OpSys  Weight  Price_euros  HDD  SSD  \\\n",
       "0    8  Intel Iris Plus Graphics 640   Mac    1.37      1339.69    0  128   \n",
       "1    8        Intel HD Graphics 6000   Mac    1.34       898.94    0    0   \n",
       "\n",
       "   Hybrid  Flash_Storage  CPU_GHz      CPU_Model  \n",
       "0       0              0      2.3  Intel Core i5  \n",
       "1       0            128      1.8  Intel Core i5  "
      ]
     },
     "execution_count": 27,
     "metadata": {},
     "output_type": "execute_result"
    }
   ],
   "source": [
    "df_clean.head(2)"
   ]
  },
  {
   "cell_type": "markdown",
   "metadata": {},
   "source": [
    "Kolom `Gpu`"
   ]
  },
  {
   "cell_type": "markdown",
   "metadata": {},
   "source": [
    "Mengganti nama kolom `Gpu` menjadi `GPU`"
   ]
  },
  {
   "cell_type": "code",
   "execution_count": 28,
   "metadata": {},
   "outputs": [
    {
     "data": {
      "text/html": [
       "<div>\n",
       "<style scoped>\n",
       "    .dataframe tbody tr th:only-of-type {\n",
       "        vertical-align: middle;\n",
       "    }\n",
       "\n",
       "    .dataframe tbody tr th {\n",
       "        vertical-align: top;\n",
       "    }\n",
       "\n",
       "    .dataframe thead th {\n",
       "        text-align: right;\n",
       "    }\n",
       "</style>\n",
       "<table border=\"1\" class=\"dataframe\">\n",
       "  <thead>\n",
       "    <tr style=\"text-align: right;\">\n",
       "      <th></th>\n",
       "      <th>GPU</th>\n",
       "    </tr>\n",
       "  </thead>\n",
       "  <tbody>\n",
       "    <tr>\n",
       "      <th>0</th>\n",
       "      <td>Intel Iris Plus Graphics 640</td>\n",
       "    </tr>\n",
       "    <tr>\n",
       "      <th>1</th>\n",
       "      <td>Intel HD Graphics 6000</td>\n",
       "    </tr>\n",
       "    <tr>\n",
       "      <th>2</th>\n",
       "      <td>Intel HD Graphics 620</td>\n",
       "    </tr>\n",
       "    <tr>\n",
       "      <th>3</th>\n",
       "      <td>AMD Radeon Pro 455</td>\n",
       "    </tr>\n",
       "    <tr>\n",
       "      <th>4</th>\n",
       "      <td>Intel Iris Plus Graphics 650</td>\n",
       "    </tr>\n",
       "  </tbody>\n",
       "</table>\n",
       "</div>"
      ],
      "text/plain": [
       "                            GPU\n",
       "0  Intel Iris Plus Graphics 640\n",
       "1        Intel HD Graphics 6000\n",
       "2         Intel HD Graphics 620\n",
       "3            AMD Radeon Pro 455\n",
       "4  Intel Iris Plus Graphics 650"
      ]
     },
     "execution_count": 28,
     "metadata": {},
     "output_type": "execute_result"
    }
   ],
   "source": [
    "df_clean.rename(columns={'Gpu':'GPU'}, inplace=True)\n",
    "df_clean[['GPU']].head()"
   ]
  },
  {
   "cell_type": "markdown",
   "metadata": {},
   "source": [
    "Kolom `ScreenResolution`"
   ]
  },
  {
   "cell_type": "code",
   "execution_count": 29,
   "metadata": {},
   "outputs": [
    {
     "data": {
      "text/plain": [
       "Full HD 1920x1080                                507\n",
       "1366x768                                         281\n",
       "IPS Panel Full HD 1920x1080                      230\n",
       "IPS Panel Full HD / Touchscreen 1920x1080         53\n",
       "Full HD / Touchscreen 1920x1080                   47\n",
       "1600x900                                          23\n",
       "Touchscreen 1366x768                              16\n",
       "Quad HD+ / Touchscreen 3200x1800                  15\n",
       "IPS Panel 4K Ultra HD 3840x2160                   12\n",
       "IPS Panel 4K Ultra HD / Touchscreen 3840x2160     11\n",
       "4K Ultra HD / Touchscreen 3840x2160               10\n",
       "4K Ultra HD 3840x2160                              7\n",
       "Touchscreen 2560x1440                              7\n",
       "IPS Panel 1366x768                                 7\n",
       "IPS Panel Quad HD+ / Touchscreen 3200x1800         6\n",
       "IPS Panel Retina Display 2560x1600                 6\n",
       "IPS Panel Retina Display 2304x1440                 6\n",
       "Touchscreen 2256x1504                              6\n",
       "IPS Panel Touchscreen 2560x1440                    5\n",
       "IPS Panel Retina Display 2880x1800                 4\n",
       "IPS Panel Touchscreen 1920x1200                    4\n",
       "1440x900                                           4\n",
       "IPS Panel 2560x1440                                4\n",
       "2560x1440                                          3\n",
       "Quad HD+ 3200x1800                                 3\n",
       "1920x1080                                          3\n",
       "Touchscreen 2400x1600                              3\n",
       "IPS Panel Quad HD+ 2560x1440                       3\n",
       "IPS Panel Touchscreen 1366x768                     3\n",
       "IPS Panel Touchscreen / 4K Ultra HD 3840x2160      2\n",
       "IPS Panel Full HD 2160x1440                        2\n",
       "IPS Panel Quad HD+ 3200x1800                       2\n",
       "IPS Panel Retina Display 2736x1824                 1\n",
       "IPS Panel Full HD 1920x1200                        1\n",
       "IPS Panel Full HD 2560x1440                        1\n",
       "IPS Panel Full HD 1366x768                         1\n",
       "Touchscreen / Full HD 1920x1080                    1\n",
       "Touchscreen / Quad HD+ 3200x1800                   1\n",
       "Touchscreen / 4K Ultra HD 3840x2160                1\n",
       "Name: ScreenResolution, dtype: int64"
      ]
     },
     "execution_count": 29,
     "metadata": {},
     "output_type": "execute_result"
    }
   ],
   "source": [
    "df_clean.ScreenResolution.value_counts()"
   ]
  },
  {
   "cell_type": "markdown",
   "metadata": {},
   "source": [
    "Dari hasil di atas, terlihat ada laptop yang memiliki layar touchscreen dan tidak. Karena itu, akan dibuat kolom `TouchScreen`"
   ]
  },
  {
   "cell_type": "code",
   "execution_count": 30,
   "metadata": {},
   "outputs": [],
   "source": [
    "df_clean['TouchScreen'] = df_clean['ScreenResolution'].apply(lambda x:1 if 'Touchscreen' in x else 0)"
   ]
  },
  {
   "cell_type": "code",
   "execution_count": 31,
   "metadata": {},
   "outputs": [
    {
     "data": {
      "text/html": [
       "<div>\n",
       "<style scoped>\n",
       "    .dataframe tbody tr th:only-of-type {\n",
       "        vertical-align: middle;\n",
       "    }\n",
       "\n",
       "    .dataframe tbody tr th {\n",
       "        vertical-align: top;\n",
       "    }\n",
       "\n",
       "    .dataframe thead th {\n",
       "        text-align: right;\n",
       "    }\n",
       "</style>\n",
       "<table border=\"1\" class=\"dataframe\">\n",
       "  <thead>\n",
       "    <tr style=\"text-align: right;\">\n",
       "      <th></th>\n",
       "      <th>Company</th>\n",
       "      <th>Product</th>\n",
       "      <th>TypeName</th>\n",
       "      <th>Inches</th>\n",
       "      <th>ScreenResolution</th>\n",
       "      <th>RAM</th>\n",
       "      <th>GPU</th>\n",
       "      <th>OpSys</th>\n",
       "      <th>Weight</th>\n",
       "      <th>Price_euros</th>\n",
       "      <th>HDD</th>\n",
       "      <th>SSD</th>\n",
       "      <th>Hybrid</th>\n",
       "      <th>Flash_Storage</th>\n",
       "      <th>CPU_GHz</th>\n",
       "      <th>CPU_Model</th>\n",
       "      <th>TouchScreen</th>\n",
       "      <th>Resolution</th>\n",
       "      <th>Resolution_X</th>\n",
       "      <th>Resolution_Y</th>\n",
       "    </tr>\n",
       "  </thead>\n",
       "  <tbody>\n",
       "    <tr>\n",
       "      <th>0</th>\n",
       "      <td>Apple</td>\n",
       "      <td>MacBook Pro</td>\n",
       "      <td>Ultrabook</td>\n",
       "      <td>13.3</td>\n",
       "      <td>IPS Panel Retina Display 2560x1600</td>\n",
       "      <td>8</td>\n",
       "      <td>Intel Iris Plus Graphics 640</td>\n",
       "      <td>Mac</td>\n",
       "      <td>1.37</td>\n",
       "      <td>1339.69</td>\n",
       "      <td>0</td>\n",
       "      <td>128</td>\n",
       "      <td>0</td>\n",
       "      <td>0</td>\n",
       "      <td>2.3</td>\n",
       "      <td>Intel Core i5</td>\n",
       "      <td>0</td>\n",
       "      <td>2560x1600</td>\n",
       "      <td>2560</td>\n",
       "      <td>1600</td>\n",
       "    </tr>\n",
       "    <tr>\n",
       "      <th>1</th>\n",
       "      <td>Apple</td>\n",
       "      <td>Macbook Air</td>\n",
       "      <td>Ultrabook</td>\n",
       "      <td>13.3</td>\n",
       "      <td>1440x900</td>\n",
       "      <td>8</td>\n",
       "      <td>Intel HD Graphics 6000</td>\n",
       "      <td>Mac</td>\n",
       "      <td>1.34</td>\n",
       "      <td>898.94</td>\n",
       "      <td>0</td>\n",
       "      <td>0</td>\n",
       "      <td>0</td>\n",
       "      <td>128</td>\n",
       "      <td>1.8</td>\n",
       "      <td>Intel Core i5</td>\n",
       "      <td>0</td>\n",
       "      <td>1440x900</td>\n",
       "      <td>1440</td>\n",
       "      <td>900</td>\n",
       "    </tr>\n",
       "  </tbody>\n",
       "</table>\n",
       "</div>"
      ],
      "text/plain": [
       "  Company      Product   TypeName  Inches                    ScreenResolution  \\\n",
       "0   Apple  MacBook Pro  Ultrabook    13.3  IPS Panel Retina Display 2560x1600   \n",
       "1   Apple  Macbook Air  Ultrabook    13.3                            1440x900   \n",
       "\n",
       "   RAM                           GPU OpSys  Weight  Price_euros  HDD  SSD  \\\n",
       "0    8  Intel Iris Plus Graphics 640   Mac    1.37      1339.69    0  128   \n",
       "1    8        Intel HD Graphics 6000   Mac    1.34       898.94    0    0   \n",
       "\n",
       "   Hybrid  Flash_Storage  CPU_GHz      CPU_Model  TouchScreen Resolution  \\\n",
       "0       0              0      2.3  Intel Core i5            0  2560x1600   \n",
       "1       0            128      1.8  Intel Core i5            0   1440x900   \n",
       "\n",
       "   Resolution_X  Resolution_Y  \n",
       "0          2560          1600  \n",
       "1          1440           900  "
      ]
     },
     "execution_count": 31,
     "metadata": {},
     "output_type": "execute_result"
    }
   ],
   "source": [
    "df_clean['Resolution'] = df_clean['ScreenResolution'].apply(laststr)\n",
    "new_1 = df_clean['Resolution'].str.split('x', 1,expand=True)\n",
    "df_clean['Resolution_X'] = new_1[0]\n",
    "df_clean['Resolution_Y'] = new_1[1]\n",
    "df_clean['Resolution_X'] = df_clean['Resolution_X'].astype(int)\n",
    "df_clean['Resolution_Y'] = df_clean['Resolution_Y'].astype(int)\n",
    "df_clean.head(2)"
   ]
  },
  {
   "cell_type": "markdown",
   "metadata": {},
   "source": [
    "Setelah data resolusi dari layar (`Resolution_X` dan `Resolution_Y`) terekstrak maka kolom `ScreenResolution` dan `Resolution` akan dihapus"
   ]
  },
  {
   "cell_type": "code",
   "execution_count": 32,
   "metadata": {},
   "outputs": [],
   "source": [
    "df_clean.drop(columns=['ScreenResolution', 'Resolution'], inplace=True)"
   ]
  },
  {
   "cell_type": "markdown",
   "metadata": {},
   "source": [
    "Merubah beberapa nama kolom"
   ]
  },
  {
   "cell_type": "code",
   "execution_count": 33,
   "metadata": {},
   "outputs": [],
   "source": [
    "df_clean.rename(columns={'Company':'Laptop_Brand', 'TypeName':'Laptop_Type', 'RAM':'RAM_GB', 'HDD':'HDD_GB', 'SSD':'SSD_GB', 'Hybrid':'Hybrid_GB', 'Flash_Storage':'Flash_Storage_GB', 'Weight':'Weight_Kg'}, inplace=True)"
   ]
  },
  {
   "cell_type": "code",
   "execution_count": 34,
   "metadata": {},
   "outputs": [
    {
     "data": {
      "text/html": [
       "<div>\n",
       "<style scoped>\n",
       "    .dataframe tbody tr th:only-of-type {\n",
       "        vertical-align: middle;\n",
       "    }\n",
       "\n",
       "    .dataframe tbody tr th {\n",
       "        vertical-align: top;\n",
       "    }\n",
       "\n",
       "    .dataframe thead th {\n",
       "        text-align: right;\n",
       "    }\n",
       "</style>\n",
       "<table border=\"1\" class=\"dataframe\">\n",
       "  <thead>\n",
       "    <tr style=\"text-align: right;\">\n",
       "      <th></th>\n",
       "      <th>Laptop_Brand</th>\n",
       "      <th>Product</th>\n",
       "      <th>Laptop_Type</th>\n",
       "      <th>Inches</th>\n",
       "      <th>RAM_GB</th>\n",
       "      <th>GPU</th>\n",
       "      <th>OpSys</th>\n",
       "      <th>Weight_Kg</th>\n",
       "      <th>Price_euros</th>\n",
       "      <th>HDD_GB</th>\n",
       "      <th>SSD_GB</th>\n",
       "      <th>Hybrid_GB</th>\n",
       "      <th>Flash_Storage_GB</th>\n",
       "      <th>CPU_GHz</th>\n",
       "      <th>CPU_Model</th>\n",
       "      <th>TouchScreen</th>\n",
       "      <th>Resolution_X</th>\n",
       "      <th>Resolution_Y</th>\n",
       "    </tr>\n",
       "  </thead>\n",
       "  <tbody>\n",
       "    <tr>\n",
       "      <th>0</th>\n",
       "      <td>Apple</td>\n",
       "      <td>MacBook Pro</td>\n",
       "      <td>Ultrabook</td>\n",
       "      <td>13.3</td>\n",
       "      <td>8</td>\n",
       "      <td>Intel Iris Plus Graphics 640</td>\n",
       "      <td>Mac</td>\n",
       "      <td>1.37</td>\n",
       "      <td>1339.69</td>\n",
       "      <td>0</td>\n",
       "      <td>128</td>\n",
       "      <td>0</td>\n",
       "      <td>0</td>\n",
       "      <td>2.3</td>\n",
       "      <td>Intel Core i5</td>\n",
       "      <td>0</td>\n",
       "      <td>2560</td>\n",
       "      <td>1600</td>\n",
       "    </tr>\n",
       "    <tr>\n",
       "      <th>1</th>\n",
       "      <td>Apple</td>\n",
       "      <td>Macbook Air</td>\n",
       "      <td>Ultrabook</td>\n",
       "      <td>13.3</td>\n",
       "      <td>8</td>\n",
       "      <td>Intel HD Graphics 6000</td>\n",
       "      <td>Mac</td>\n",
       "      <td>1.34</td>\n",
       "      <td>898.94</td>\n",
       "      <td>0</td>\n",
       "      <td>0</td>\n",
       "      <td>0</td>\n",
       "      <td>128</td>\n",
       "      <td>1.8</td>\n",
       "      <td>Intel Core i5</td>\n",
       "      <td>0</td>\n",
       "      <td>1440</td>\n",
       "      <td>900</td>\n",
       "    </tr>\n",
       "  </tbody>\n",
       "</table>\n",
       "</div>"
      ],
      "text/plain": [
       "  Laptop_Brand      Product Laptop_Type  Inches  RAM_GB  \\\n",
       "0        Apple  MacBook Pro   Ultrabook    13.3       8   \n",
       "1        Apple  Macbook Air   Ultrabook    13.3       8   \n",
       "\n",
       "                            GPU OpSys  Weight_Kg  Price_euros  HDD_GB  SSD_GB  \\\n",
       "0  Intel Iris Plus Graphics 640   Mac       1.37      1339.69       0     128   \n",
       "1        Intel HD Graphics 6000   Mac       1.34       898.94       0       0   \n",
       "\n",
       "   Hybrid_GB  Flash_Storage_GB  CPU_GHz      CPU_Model  TouchScreen  \\\n",
       "0          0                 0      2.3  Intel Core i5            0   \n",
       "1          0               128      1.8  Intel Core i5            0   \n",
       "\n",
       "   Resolution_X  Resolution_Y  \n",
       "0          2560          1600  \n",
       "1          1440           900  "
      ]
     },
     "execution_count": 34,
     "metadata": {},
     "output_type": "execute_result"
    }
   ],
   "source": [
    "df_clean.head(2)"
   ]
  },
  {
   "cell_type": "markdown",
   "metadata": {},
   "source": [
    "Mengecek data duplikat"
   ]
  },
  {
   "cell_type": "code",
   "execution_count": 35,
   "metadata": {},
   "outputs": [
    {
     "data": {
      "text/plain": [
       "True"
      ]
     },
     "execution_count": 35,
     "metadata": {},
     "output_type": "execute_result"
    }
   ],
   "source": [
    "df_clean.duplicated().any()"
   ]
  },
  {
   "cell_type": "markdown",
   "metadata": {},
   "source": [
    "Karena terdapat data duplikat maka data tersebut akan dihapus"
   ]
  },
  {
   "cell_type": "code",
   "execution_count": 36,
   "metadata": {},
   "outputs": [],
   "source": [
    "df_clean.drop_duplicates(inplace=True)"
   ]
  },
  {
   "cell_type": "markdown",
   "metadata": {},
   "source": [
    "Setelah selesai melakukan data cleaning, maka selanjutnya akan dilakukan Exploratory Data Analysis (EDA). Sebelum melakukan EDA, sebaiknya kita mengetahui makna dari kolom yang digunakan, berikut ini penjelasan dari setiap kolom:"
   ]
  },
  {
   "cell_type": "markdown",
   "metadata": {},
   "source": [
    "- `Laptop_Brand` : Nama brand dari laptop\n",
    "- `Product` : Nama produk yang dikeluarkan oleh brand laptop\n",
    "- `Laptop_Type` : Nama tipe laptop\n",
    "- `Inches` : Panjang diagonal layar laptop (inch)\n",
    "- `RAM_GB` : Besar RAM yang digunakan laptop\n",
    "- `OpSys` : Sistem operasi yang digunakan pada laptop\n",
    "- `Weight_Kg` : Berat dari laptop (Kg)\n",
    "- `Price_euros` : Harga Laptop (Euro)\n",
    "- `HDD_GB` : Tipe penyimpanan Hardisk yang digunakan pada laptop (GB)\n",
    "- `SSD_GB` : Tipe penyimpanan SSD yang digunakan pada laptop (GB)\n",
    "- `Hybrid_GB` : Tipe penyimpanan Hybrid yang digunakan pada laptop (GB)\n",
    "- `Flash_Storage_GB` : Tipe penyimpanan Flash Storage yang digunakan pada laptop (GB)\n",
    "- `CPU_GHz` : Besar frekuensi CPU yang digunakan pada laptop\n",
    "- `CPU_Brand` : Nama brand CPU yang digunakan pada laptop\n",
    "- `CPU_Model` : Nama model dari brand CPU yang digunakan pada laptop\n",
    "- `GPU_Brand` : Nama brand GPU yang digunakan pada laptop\n",
    "- `GPU_Model` : Nama model dari brand GPU yang digunakan pada laptop\n",
    "- `TouchScreen` : Apakah layar laptop yang digunakan touch-screen(layar sentuh) atau tidak? (0=tidak, 1=ya)\n",
    "- `Resolusi_X` : Resolusi pada layar laptop (sumbu X horizontal) dalam satuan pixel\n",
    "- `Resolusi_Y` : Resolusi pada layar laptop (sumbu Y vertikal) dalam satuan pixel"
   ]
  },
  {
   "cell_type": "markdown",
   "metadata": {},
   "source": [
    "## IV. Exploratory Data Analysis (EDA)"
   ]
  },
  {
   "cell_type": "markdown",
   "metadata": {},
   "source": [
    "### IV.I Brand Laptop"
   ]
  },
  {
   "cell_type": "code",
   "execution_count": 37,
   "metadata": {},
   "outputs": [
    {
     "data": {
      "image/png": "[encoded data removed]",
      "text/plain": [
       "<Figure size 2160x2160 with 1 Axes>"
      ]
     },
     "metadata": {
      "needs_background": "light"
     },
     "output_type": "display_data"
    }
   ],
   "source": [
    "plt.figure(figsize=(30,30))\n",
    "ax = sns.countplot(data=df_clean, x='Laptop_Brand', palette='tab10')\n",
    "ax.bar_label(ax.containers[0], fmt='%g', fontsize=12)\n",
    "plt.show()"
   ]
  },
  {
   "cell_type": "code",
   "execution_count": 38,
   "metadata": {},
   "outputs": [
    {
     "name": "stdout",
     "output_type": "stream",
     "text": [
      "Dell : XPS 13\n",
      "Lenovo : Legion Y520-15IKBN\n",
      "HP : 250 G6\n",
      "Asus : Rog Strix\n",
      "Acer : Aspire 3\n"
     ]
    }
   ],
   "source": [
    "laptop = ['Dell', 'Lenovo', 'HP', 'Asus', 'Acer']\n",
    "for i in laptop:\n",
    "    a = df_clean[df_clean['Laptop_Brand']==i]\n",
    "    print(i, ':', a['Product'].mode()[0])"
   ]
  },
  {
   "cell_type": "markdown",
   "metadata": {},
   "source": [
    "Dari grafik diatas, diketahui bahwa laptop yang dijual kebanyakan berasal dari Brand DELL, kemudian LENOVO, HP, ASUS, dan ACER. Dari ke lima brand ini, Laptop yang terbanyak terjual adalah XPS 13 untuk DELL, Legion Y520-15IKBN untuk LENOVO, 250 G6 untuk HP, Rog Strix untuk ASUS, dan Aspire 3 untuk Acer."
   ]
  },
  {
   "cell_type": "markdown",
   "metadata": {},
   "source": [
    "### IV.II Harga Laptop Berdasarkan Brand"
   ]
  },
  {
   "cell_type": "code",
   "execution_count": 39,
   "metadata": {},
   "outputs": [
    {
     "data": {
      "image/png": "[encoded data removed]",
      "text/plain": [
       "<Figure size 2160x2160 with 1 Axes>"
      ]
     },
     "metadata": {
      "needs_background": "light"
     },
     "output_type": "display_data"
    }
   ],
   "source": [
    "Harga_brand = df_clean.groupby(['Laptop_Brand', 'Product'], as_index=False)['Price_euros'].mean().sort_values(by='Price_euros', ascending=False)\n",
    "mean_harga = Harga_brand.groupby(['Laptop_Brand'], as_index=False)['Price_euros'].mean().sort_values(by='Price_euros', ascending=False)\n",
    "plt.figure(figsize=(30,30))\n",
    "ax = sns.barplot(data=mean_harga, x='Laptop_Brand', y='Price_euros', palette='tab10')\n",
    "ax.bar_label(ax.containers[0], fmt='%g', fontsize=12)\n",
    "plt.show()"
   ]
  },
  {
   "cell_type": "markdown",
   "metadata": {},
   "source": [
    "Dari grafik di atas, kita dapat mengetahui harga rata-rata dari setiap brand laptop.\n",
    "\n",
    "3 Laptop termahal yaitu :\n",
    "1. `Razer` dengan harga rata-rata 2766,5 Euro\n",
    "2. `LG` dengan harga rata-rata 2099 Euro\n",
    "3. `MSI` dengan harga rata-rata 1725,41 Euro\n",
    "\n",
    "3 Laptop termurah yaitu :\n",
    "1. `Vero` dengan harga rata-rata 217,43 Euro\n",
    "2. `Mediacom` dengan harga rata-rata 281 Euro\n",
    "3. `Chuwi` dengan harga rata-rata 314,29 Euro\n",
    "\n"
   ]
  },
  {
   "cell_type": "markdown",
   "metadata": {},
   "source": [
    "### IV.III Harga Laptop Berdasarkan Sistem Operasi"
   ]
  },
  {
   "cell_type": "code",
   "execution_count": 40,
   "metadata": {},
   "outputs": [
    {
     "data": {
      "image/png": "[encoded data removed]",
      "text/plain": [
       "<Figure size 2160x2160 with 1 Axes>"
      ]
     },
     "metadata": {
      "needs_background": "light"
     },
     "output_type": "display_data"
    }
   ],
   "source": [
    "OS_mean = df_clean.groupby(['OpSys'], as_index=False)['Price_euros'].mean().sort_values(by='Price_euros', ascending=False)\n",
    "plt.figure(figsize=(30,30))\n",
    "ax = sns.barplot(data=OS_mean, x='OpSys', y='Price_euros', palette='tab10')\n",
    "ax.bar_label(ax.containers[0], fmt='%g', fontsize=12)\n",
    "plt.show()"
   ]
  },
  {
   "cell_type": "markdown",
   "metadata": {},
   "source": [
    "Dar grafik diatas, kita dapat mengetahui bahwa Laptop dengan Sistem Operasi Mac memiliki harga rata-rata laptop yang tertinggi dengan 1564,2 Euro, Kemudian disusul oleh Laptop dengan sistem operasi Windows dengan harga rata-rata 1202,12 Euro, lalu laptop dengan sistem operasi Linux dengan harga rata-rata 621,87 Euro, lalu laptop tanpa sistem operasi (DOS) dengan harga rata-rata 587,97 Euro, dan yang terakhir adalah laptop dengan sistem operasi yang lainnya seperti Chrome dan Android dengan harga rata-rata 545,34 Euro."
   ]
  },
  {
   "cell_type": "markdown",
   "metadata": {},
   "source": [
    "### IV.IV Harga rata-rata Tipe Laptop"
   ]
  },
  {
   "cell_type": "code",
   "execution_count": 112,
   "metadata": {},
   "outputs": [
    {
     "data": {
      "image/png": "[encoded data removed]",
      "text/plain": [
       "<Figure size 2160x2160 with 1 Axes>"
      ]
     },
     "metadata": {
      "needs_background": "light"
     },
     "output_type": "display_data"
    }
   ],
   "source": [
    "Harga_brand = df_clean.groupby(['Laptop_Brand', 'Product', 'Laptop_Type'], as_index=False)['Price_euros'].mean().sort_values(by='Price_euros', ascending=False)\n",
    "mean_harga = Harga_brand.groupby(['Laptop_Type'], as_index=False)['Price_euros'].mean().sort_values(by='Price_euros', ascending=False)\n",
    "plt.figure(figsize=(30,30))\n",
    "ax = sns.barplot(data=mean_harga, x='Laptop_Type', y='Price_euros', palette='tab10')\n",
    "ax.bar_label(ax.containers[0], fmt='%g', fontsize=12)\n",
    "plt.show()"
   ]
  },
  {
   "cell_type": "markdown",
   "metadata": {},
   "source": [
    "Berdasarkan tipe laptopnya, Tipe Workstation memiliki harga rata-rata termahal yaitu 2313,74 Euro, kemudian laptop Gaming dengan harga 1678,03 Euro, lalu Ultrabook dengan harga 1504,17 Euro, lalu laptop 2 in 1 Convertible 1120,6 Euro, lalu Notebook dengan harga 768,55 Euro dan laptop termurah adalah tipe Netbook dengan harga rata-rata adalah 591,324 Euro. "
   ]
  },
  {
   "cell_type": "markdown",
   "metadata": {},
   "source": [
    "## V. Data Preprocessing"
   ]
  },
  {
   "cell_type": "markdown",
   "metadata": {},
   "source": [
    "Sebelum data dimasukkan kedalam model, data akan dilakukan preprocessing terlebih dahulu. Langkah pertama adalah membagi data kedalam data inference dan data train-test. Data train-test ini akan dibagi kembali menjadi data X Feature dan data y Target."
   ]
  },
  {
   "cell_type": "markdown",
   "metadata": {},
   "source": [
    "### V.I Split Data"
   ]
  },
  {
   "cell_type": "markdown",
   "metadata": {},
   "source": [
    "Membuat data inference"
   ]
  },
  {
   "cell_type": "code",
   "execution_count": 41,
   "metadata": {},
   "outputs": [
    {
     "data": {
      "text/html": [
       "<div>\n",
       "<style scoped>\n",
       "    .dataframe tbody tr th:only-of-type {\n",
       "        vertical-align: middle;\n",
       "    }\n",
       "\n",
       "    .dataframe tbody tr th {\n",
       "        vertical-align: top;\n",
       "    }\n",
       "\n",
       "    .dataframe thead th {\n",
       "        text-align: right;\n",
       "    }\n",
       "</style>\n",
       "<table border=\"1\" class=\"dataframe\">\n",
       "  <thead>\n",
       "    <tr style=\"text-align: right;\">\n",
       "      <th></th>\n",
       "      <th>Laptop_Brand</th>\n",
       "      <th>Product</th>\n",
       "      <th>Laptop_Type</th>\n",
       "      <th>Inches</th>\n",
       "      <th>RAM_GB</th>\n",
       "      <th>GPU</th>\n",
       "      <th>OpSys</th>\n",
       "      <th>Weight_Kg</th>\n",
       "      <th>Price_euros</th>\n",
       "      <th>HDD_GB</th>\n",
       "      <th>SSD_GB</th>\n",
       "      <th>Hybrid_GB</th>\n",
       "      <th>Flash_Storage_GB</th>\n",
       "      <th>CPU_GHz</th>\n",
       "      <th>CPU_Model</th>\n",
       "      <th>TouchScreen</th>\n",
       "      <th>Resolution_X</th>\n",
       "      <th>Resolution_Y</th>\n",
       "    </tr>\n",
       "  </thead>\n",
       "  <tbody>\n",
       "    <tr>\n",
       "      <th>712</th>\n",
       "      <td>Dell</td>\n",
       "      <td>Vostro 5568</td>\n",
       "      <td>Notebook</td>\n",
       "      <td>15.6</td>\n",
       "      <td>8</td>\n",
       "      <td>Intel HD Graphics 620</td>\n",
       "      <td>Linux</td>\n",
       "      <td>1.98</td>\n",
       "      <td>726.0</td>\n",
       "      <td>1000</td>\n",
       "      <td>0</td>\n",
       "      <td>0</td>\n",
       "      <td>0</td>\n",
       "      <td>2.5</td>\n",
       "      <td>Intel Core i5</td>\n",
       "      <td>0</td>\n",
       "      <td>1920</td>\n",
       "      <td>1080</td>\n",
       "    </tr>\n",
       "    <tr>\n",
       "      <th>745</th>\n",
       "      <td>Acer</td>\n",
       "      <td>Chromebook 14</td>\n",
       "      <td>Notebook</td>\n",
       "      <td>14.0</td>\n",
       "      <td>2</td>\n",
       "      <td>Intel HD Graphics 400</td>\n",
       "      <td>Others</td>\n",
       "      <td>1.68</td>\n",
       "      <td>330.0</td>\n",
       "      <td>0</td>\n",
       "      <td>0</td>\n",
       "      <td>0</td>\n",
       "      <td>32</td>\n",
       "      <td>1.6</td>\n",
       "      <td>Intel Celeron Dual</td>\n",
       "      <td>0</td>\n",
       "      <td>1366</td>\n",
       "      <td>768</td>\n",
       "    </tr>\n",
       "  </tbody>\n",
       "</table>\n",
       "</div>"
      ],
      "text/plain": [
       "    Laptop_Brand        Product Laptop_Type  Inches  RAM_GB  \\\n",
       "712         Dell    Vostro 5568    Notebook    15.6       8   \n",
       "745         Acer  Chromebook 14    Notebook    14.0       2   \n",
       "\n",
       "                       GPU   OpSys  Weight_Kg  Price_euros  HDD_GB  SSD_GB  \\\n",
       "712  Intel HD Graphics 620   Linux       1.98        726.0    1000       0   \n",
       "745  Intel HD Graphics 400  Others       1.68        330.0       0       0   \n",
       "\n",
       "     Hybrid_GB  Flash_Storage_GB  CPU_GHz           CPU_Model  TouchScreen  \\\n",
       "712          0                 0      2.5       Intel Core i5            0   \n",
       "745          0                32      1.6  Intel Celeron Dual            0   \n",
       "\n",
       "     Resolution_X  Resolution_Y  \n",
       "712          1920          1080  \n",
       "745          1366           768  "
      ]
     },
     "execution_count": 41,
     "metadata": {},
     "output_type": "execute_result"
    }
   ],
   "source": [
    "data_inf = df_clean.sample(2, random_state=3)\n",
    "data_inf"
   ]
  },
  {
   "cell_type": "markdown",
   "metadata": {},
   "source": [
    "Membuat data train-test"
   ]
  },
  {
   "cell_type": "code",
   "execution_count": 42,
   "metadata": {},
   "outputs": [
    {
     "data": {
      "text/html": [
       "<div>\n",
       "<style scoped>\n",
       "    .dataframe tbody tr th:only-of-type {\n",
       "        vertical-align: middle;\n",
       "    }\n",
       "\n",
       "    .dataframe tbody tr th {\n",
       "        vertical-align: top;\n",
       "    }\n",
       "\n",
       "    .dataframe thead th {\n",
       "        text-align: right;\n",
       "    }\n",
       "</style>\n",
       "<table border=\"1\" class=\"dataframe\">\n",
       "  <thead>\n",
       "    <tr style=\"text-align: right;\">\n",
       "      <th></th>\n",
       "      <th>Laptop_Brand</th>\n",
       "      <th>Product</th>\n",
       "      <th>Laptop_Type</th>\n",
       "      <th>Inches</th>\n",
       "      <th>RAM_GB</th>\n",
       "      <th>GPU</th>\n",
       "      <th>OpSys</th>\n",
       "      <th>Weight_Kg</th>\n",
       "      <th>Price_euros</th>\n",
       "      <th>HDD_GB</th>\n",
       "      <th>SSD_GB</th>\n",
       "      <th>Hybrid_GB</th>\n",
       "      <th>Flash_Storage_GB</th>\n",
       "      <th>CPU_GHz</th>\n",
       "      <th>CPU_Model</th>\n",
       "      <th>TouchScreen</th>\n",
       "      <th>Resolution_X</th>\n",
       "      <th>Resolution_Y</th>\n",
       "    </tr>\n",
       "  </thead>\n",
       "  <tbody>\n",
       "    <tr>\n",
       "      <th>0</th>\n",
       "      <td>Apple</td>\n",
       "      <td>MacBook Pro</td>\n",
       "      <td>Ultrabook</td>\n",
       "      <td>13.3</td>\n",
       "      <td>8</td>\n",
       "      <td>Intel Iris Plus Graphics 640</td>\n",
       "      <td>Mac</td>\n",
       "      <td>1.37</td>\n",
       "      <td>1339.69</td>\n",
       "      <td>0</td>\n",
       "      <td>128</td>\n",
       "      <td>0</td>\n",
       "      <td>0</td>\n",
       "      <td>2.3</td>\n",
       "      <td>Intel Core i5</td>\n",
       "      <td>0</td>\n",
       "      <td>2560</td>\n",
       "      <td>1600</td>\n",
       "    </tr>\n",
       "    <tr>\n",
       "      <th>1</th>\n",
       "      <td>Apple</td>\n",
       "      <td>Macbook Air</td>\n",
       "      <td>Ultrabook</td>\n",
       "      <td>13.3</td>\n",
       "      <td>8</td>\n",
       "      <td>Intel HD Graphics 6000</td>\n",
       "      <td>Mac</td>\n",
       "      <td>1.34</td>\n",
       "      <td>898.94</td>\n",
       "      <td>0</td>\n",
       "      <td>0</td>\n",
       "      <td>0</td>\n",
       "      <td>128</td>\n",
       "      <td>1.8</td>\n",
       "      <td>Intel Core i5</td>\n",
       "      <td>0</td>\n",
       "      <td>1440</td>\n",
       "      <td>900</td>\n",
       "    </tr>\n",
       "    <tr>\n",
       "      <th>2</th>\n",
       "      <td>HP</td>\n",
       "      <td>250 G6</td>\n",
       "      <td>Notebook</td>\n",
       "      <td>15.6</td>\n",
       "      <td>8</td>\n",
       "      <td>Intel HD Graphics 620</td>\n",
       "      <td>DOS</td>\n",
       "      <td>1.86</td>\n",
       "      <td>575.00</td>\n",
       "      <td>0</td>\n",
       "      <td>256</td>\n",
       "      <td>0</td>\n",
       "      <td>0</td>\n",
       "      <td>2.5</td>\n",
       "      <td>Intel Core i5</td>\n",
       "      <td>0</td>\n",
       "      <td>1920</td>\n",
       "      <td>1080</td>\n",
       "    </tr>\n",
       "    <tr>\n",
       "      <th>3</th>\n",
       "      <td>Apple</td>\n",
       "      <td>MacBook Pro</td>\n",
       "      <td>Ultrabook</td>\n",
       "      <td>15.4</td>\n",
       "      <td>16</td>\n",
       "      <td>AMD Radeon Pro 455</td>\n",
       "      <td>Mac</td>\n",
       "      <td>1.83</td>\n",
       "      <td>2537.45</td>\n",
       "      <td>0</td>\n",
       "      <td>512</td>\n",
       "      <td>0</td>\n",
       "      <td>0</td>\n",
       "      <td>2.7</td>\n",
       "      <td>Intel Core i7</td>\n",
       "      <td>0</td>\n",
       "      <td>2880</td>\n",
       "      <td>1800</td>\n",
       "    </tr>\n",
       "    <tr>\n",
       "      <th>4</th>\n",
       "      <td>Apple</td>\n",
       "      <td>MacBook Pro</td>\n",
       "      <td>Ultrabook</td>\n",
       "      <td>13.3</td>\n",
       "      <td>8</td>\n",
       "      <td>Intel Iris Plus Graphics 650</td>\n",
       "      <td>Mac</td>\n",
       "      <td>1.37</td>\n",
       "      <td>1803.60</td>\n",
       "      <td>0</td>\n",
       "      <td>256</td>\n",
       "      <td>0</td>\n",
       "      <td>0</td>\n",
       "      <td>3.1</td>\n",
       "      <td>Intel Core i5</td>\n",
       "      <td>0</td>\n",
       "      <td>2560</td>\n",
       "      <td>1600</td>\n",
       "    </tr>\n",
       "    <tr>\n",
       "      <th>...</th>\n",
       "      <td>...</td>\n",
       "      <td>...</td>\n",
       "      <td>...</td>\n",
       "      <td>...</td>\n",
       "      <td>...</td>\n",
       "      <td>...</td>\n",
       "      <td>...</td>\n",
       "      <td>...</td>\n",
       "      <td>...</td>\n",
       "      <td>...</td>\n",
       "      <td>...</td>\n",
       "      <td>...</td>\n",
       "      <td>...</td>\n",
       "      <td>...</td>\n",
       "      <td>...</td>\n",
       "      <td>...</td>\n",
       "      <td>...</td>\n",
       "      <td>...</td>\n",
       "    </tr>\n",
       "    <tr>\n",
       "      <th>1269</th>\n",
       "      <td>Lenovo</td>\n",
       "      <td>Yoga 500-14ISK</td>\n",
       "      <td>2 in 1 Convertible</td>\n",
       "      <td>14.0</td>\n",
       "      <td>4</td>\n",
       "      <td>Intel HD Graphics 520</td>\n",
       "      <td>Windows</td>\n",
       "      <td>1.80</td>\n",
       "      <td>638.00</td>\n",
       "      <td>0</td>\n",
       "      <td>128</td>\n",
       "      <td>0</td>\n",
       "      <td>0</td>\n",
       "      <td>2.5</td>\n",
       "      <td>Intel Core i7</td>\n",
       "      <td>1</td>\n",
       "      <td>1920</td>\n",
       "      <td>1080</td>\n",
       "    </tr>\n",
       "    <tr>\n",
       "      <th>1270</th>\n",
       "      <td>Lenovo</td>\n",
       "      <td>Yoga 900-13ISK</td>\n",
       "      <td>2 in 1 Convertible</td>\n",
       "      <td>13.3</td>\n",
       "      <td>16</td>\n",
       "      <td>Intel HD Graphics 520</td>\n",
       "      <td>Windows</td>\n",
       "      <td>1.30</td>\n",
       "      <td>1499.00</td>\n",
       "      <td>0</td>\n",
       "      <td>512</td>\n",
       "      <td>0</td>\n",
       "      <td>0</td>\n",
       "      <td>2.5</td>\n",
       "      <td>Intel Core i7</td>\n",
       "      <td>1</td>\n",
       "      <td>3200</td>\n",
       "      <td>1800</td>\n",
       "    </tr>\n",
       "    <tr>\n",
       "      <th>1271</th>\n",
       "      <td>Lenovo</td>\n",
       "      <td>IdeaPad 100S-14IBR</td>\n",
       "      <td>Notebook</td>\n",
       "      <td>14.0</td>\n",
       "      <td>2</td>\n",
       "      <td>Intel HD Graphics</td>\n",
       "      <td>Windows</td>\n",
       "      <td>1.50</td>\n",
       "      <td>229.00</td>\n",
       "      <td>0</td>\n",
       "      <td>0</td>\n",
       "      <td>0</td>\n",
       "      <td>64</td>\n",
       "      <td>1.6</td>\n",
       "      <td>Intel Celeron Dual</td>\n",
       "      <td>0</td>\n",
       "      <td>1366</td>\n",
       "      <td>768</td>\n",
       "    </tr>\n",
       "    <tr>\n",
       "      <th>1272</th>\n",
       "      <td>HP</td>\n",
       "      <td>15-AC110nv (i7-6500U/6GB/1TB/Radeon</td>\n",
       "      <td>Notebook</td>\n",
       "      <td>15.6</td>\n",
       "      <td>6</td>\n",
       "      <td>AMD Radeon R5 M330</td>\n",
       "      <td>Windows</td>\n",
       "      <td>2.19</td>\n",
       "      <td>764.00</td>\n",
       "      <td>1000</td>\n",
       "      <td>0</td>\n",
       "      <td>0</td>\n",
       "      <td>0</td>\n",
       "      <td>2.5</td>\n",
       "      <td>Intel Core i7</td>\n",
       "      <td>0</td>\n",
       "      <td>1366</td>\n",
       "      <td>768</td>\n",
       "    </tr>\n",
       "    <tr>\n",
       "      <th>1273</th>\n",
       "      <td>Asus</td>\n",
       "      <td>X553SA-XX031T (N3050/4GB/500GB/W10)</td>\n",
       "      <td>Notebook</td>\n",
       "      <td>15.6</td>\n",
       "      <td>4</td>\n",
       "      <td>Intel HD Graphics</td>\n",
       "      <td>Windows</td>\n",
       "      <td>2.20</td>\n",
       "      <td>369.00</td>\n",
       "      <td>500</td>\n",
       "      <td>0</td>\n",
       "      <td>0</td>\n",
       "      <td>0</td>\n",
       "      <td>1.6</td>\n",
       "      <td>Intel Celeron Dual</td>\n",
       "      <td>0</td>\n",
       "      <td>1366</td>\n",
       "      <td>768</td>\n",
       "    </tr>\n",
       "  </tbody>\n",
       "</table>\n",
       "<p>1272 rows × 18 columns</p>\n",
       "</div>"
      ],
      "text/plain": [
       "     Laptop_Brand                              Product         Laptop_Type  \\\n",
       "0           Apple                          MacBook Pro           Ultrabook   \n",
       "1           Apple                          Macbook Air           Ultrabook   \n",
       "2              HP                               250 G6            Notebook   \n",
       "3           Apple                          MacBook Pro           Ultrabook   \n",
       "4           Apple                          MacBook Pro           Ultrabook   \n",
       "...           ...                                  ...                 ...   \n",
       "1269       Lenovo                       Yoga 500-14ISK  2 in 1 Convertible   \n",
       "1270       Lenovo                       Yoga 900-13ISK  2 in 1 Convertible   \n",
       "1271       Lenovo                   IdeaPad 100S-14IBR            Notebook   \n",
       "1272           HP  15-AC110nv (i7-6500U/6GB/1TB/Radeon            Notebook   \n",
       "1273         Asus  X553SA-XX031T (N3050/4GB/500GB/W10)            Notebook   \n",
       "\n",
       "      Inches  RAM_GB                           GPU    OpSys  Weight_Kg  \\\n",
       "0       13.3       8  Intel Iris Plus Graphics 640      Mac       1.37   \n",
       "1       13.3       8        Intel HD Graphics 6000      Mac       1.34   \n",
       "2       15.6       8         Intel HD Graphics 620      DOS       1.86   \n",
       "3       15.4      16            AMD Radeon Pro 455      Mac       1.83   \n",
       "4       13.3       8  Intel Iris Plus Graphics 650      Mac       1.37   \n",
       "...      ...     ...                           ...      ...        ...   \n",
       "1269    14.0       4         Intel HD Graphics 520  Windows       1.80   \n",
       "1270    13.3      16         Intel HD Graphics 520  Windows       1.30   \n",
       "1271    14.0       2             Intel HD Graphics  Windows       1.50   \n",
       "1272    15.6       6            AMD Radeon R5 M330  Windows       2.19   \n",
       "1273    15.6       4             Intel HD Graphics  Windows       2.20   \n",
       "\n",
       "      Price_euros  HDD_GB  SSD_GB  Hybrid_GB  Flash_Storage_GB  CPU_GHz  \\\n",
       "0         1339.69       0     128          0                 0      2.3   \n",
       "1          898.94       0       0          0               128      1.8   \n",
       "2          575.00       0     256          0                 0      2.5   \n",
       "3         2537.45       0     512          0                 0      2.7   \n",
       "4         1803.60       0     256          0                 0      3.1   \n",
       "...           ...     ...     ...        ...               ...      ...   \n",
       "1269       638.00       0     128          0                 0      2.5   \n",
       "1270      1499.00       0     512          0                 0      2.5   \n",
       "1271       229.00       0       0          0                64      1.6   \n",
       "1272       764.00    1000       0          0                 0      2.5   \n",
       "1273       369.00     500       0          0                 0      1.6   \n",
       "\n",
       "               CPU_Model  TouchScreen  Resolution_X  Resolution_Y  \n",
       "0          Intel Core i5            0          2560          1600  \n",
       "1          Intel Core i5            0          1440           900  \n",
       "2          Intel Core i5            0          1920          1080  \n",
       "3          Intel Core i7            0          2880          1800  \n",
       "4          Intel Core i5            0          2560          1600  \n",
       "...                  ...          ...           ...           ...  \n",
       "1269       Intel Core i7            1          1920          1080  \n",
       "1270       Intel Core i7            1          3200          1800  \n",
       "1271  Intel Celeron Dual            0          1366           768  \n",
       "1272       Intel Core i7            0          1366           768  \n",
       "1273  Intel Celeron Dual            0          1366           768  \n",
       "\n",
       "[1272 rows x 18 columns]"
      ]
     },
     "execution_count": 42,
     "metadata": {},
     "output_type": "execute_result"
    }
   ],
   "source": [
    "data_train_test = df_clean.drop(data_inf.index)\n",
    "data_train_test"
   ]
  },
  {
   "cell_type": "markdown",
   "metadata": {},
   "source": [
    "Reset Index"
   ]
  },
  {
   "cell_type": "code",
   "execution_count": 43,
   "metadata": {},
   "outputs": [],
   "source": [
    "data_train_test.reset_index(drop=True, inplace=True)\n",
    "data_inf.reset_index(drop=True, inplace=True)"
   ]
  },
  {
   "cell_type": "markdown",
   "metadata": {},
   "source": [
    "Memisahkan antara X Feature dan y Target pada data train-test"
   ]
  },
  {
   "cell_type": "code",
   "execution_count": 44,
   "metadata": {},
   "outputs": [],
   "source": [
    "X = data_train_test.drop('Price_euros', axis=1)\n",
    "y = data_train_test['Price_euros']\n",
    "\n",
    "X_train, X_test, y_train, y_test = train_test_split(X, y, train_size=0.8, random_state=3)"
   ]
  },
  {
   "cell_type": "markdown",
   "metadata": {},
   "source": [
    "### V.II EDA for Modeling"
   ]
  },
  {
   "cell_type": "markdown",
   "metadata": {},
   "source": [
    "Setelah split data, kemudian akan dilakukan EDA untuk melihat distribusi data dan outlier pada feature numerik data train"
   ]
  },
  {
   "cell_type": "code",
   "execution_count": 45,
   "metadata": {},
   "outputs": [
    {
     "data": {
      "text/html": [
       "<div>\n",
       "<style scoped>\n",
       "    .dataframe tbody tr th:only-of-type {\n",
       "        vertical-align: middle;\n",
       "    }\n",
       "\n",
       "    .dataframe tbody tr th {\n",
       "        vertical-align: top;\n",
       "    }\n",
       "\n",
       "    .dataframe thead th {\n",
       "        text-align: right;\n",
       "    }\n",
       "</style>\n",
       "<table border=\"1\" class=\"dataframe\">\n",
       "  <thead>\n",
       "    <tr style=\"text-align: right;\">\n",
       "      <th></th>\n",
       "      <th>Laptop_Brand</th>\n",
       "      <th>Product</th>\n",
       "      <th>Laptop_Type</th>\n",
       "      <th>Inches</th>\n",
       "      <th>RAM_GB</th>\n",
       "      <th>GPU</th>\n",
       "      <th>OpSys</th>\n",
       "      <th>Weight_Kg</th>\n",
       "      <th>HDD_GB</th>\n",
       "      <th>SSD_GB</th>\n",
       "      <th>Hybrid_GB</th>\n",
       "      <th>Flash_Storage_GB</th>\n",
       "      <th>CPU_GHz</th>\n",
       "      <th>CPU_Model</th>\n",
       "      <th>TouchScreen</th>\n",
       "      <th>Resolution_X</th>\n",
       "      <th>Resolution_Y</th>\n",
       "      <th>Price_euros</th>\n",
       "    </tr>\n",
       "  </thead>\n",
       "  <tbody>\n",
       "    <tr>\n",
       "      <th>516</th>\n",
       "      <td>HP</td>\n",
       "      <td>15-bs190od (i5-8250U/4GB/1TB/W10)</td>\n",
       "      <td>Notebook</td>\n",
       "      <td>15.6</td>\n",
       "      <td>4</td>\n",
       "      <td>Intel UHD Graphics 620</td>\n",
       "      <td>Windows</td>\n",
       "      <td>2.04</td>\n",
       "      <td>1000</td>\n",
       "      <td>0</td>\n",
       "      <td>0</td>\n",
       "      <td>0</td>\n",
       "      <td>1.6</td>\n",
       "      <td>Intel Core i5</td>\n",
       "      <td>1</td>\n",
       "      <td>1366</td>\n",
       "      <td>768</td>\n",
       "      <td>521.47</td>\n",
       "    </tr>\n",
       "    <tr>\n",
       "      <th>1002</th>\n",
       "      <td>Toshiba</td>\n",
       "      <td>Portege Z30-C-16H</td>\n",
       "      <td>Notebook</td>\n",
       "      <td>13.3</td>\n",
       "      <td>4</td>\n",
       "      <td>Intel HD Graphics 520</td>\n",
       "      <td>Windows</td>\n",
       "      <td>1.20</td>\n",
       "      <td>0</td>\n",
       "      <td>128</td>\n",
       "      <td>0</td>\n",
       "      <td>0</td>\n",
       "      <td>2.3</td>\n",
       "      <td>Intel Core i5</td>\n",
       "      <td>0</td>\n",
       "      <td>1920</td>\n",
       "      <td>1080</td>\n",
       "      <td>1195.00</td>\n",
       "    </tr>\n",
       "    <tr>\n",
       "      <th>1249</th>\n",
       "      <td>Lenovo</td>\n",
       "      <td>IdeaPad 310-15ISK</td>\n",
       "      <td>Notebook</td>\n",
       "      <td>15.6</td>\n",
       "      <td>6</td>\n",
       "      <td>Nvidia GeForce 920MX</td>\n",
       "      <td>Windows</td>\n",
       "      <td>2.40</td>\n",
       "      <td>0</td>\n",
       "      <td>128</td>\n",
       "      <td>0</td>\n",
       "      <td>0</td>\n",
       "      <td>2.3</td>\n",
       "      <td>Intel Core i3</td>\n",
       "      <td>0</td>\n",
       "      <td>1920</td>\n",
       "      <td>1080</td>\n",
       "      <td>569.00</td>\n",
       "    </tr>\n",
       "    <tr>\n",
       "      <th>782</th>\n",
       "      <td>Lenovo</td>\n",
       "      <td>ThinkPad T470s</td>\n",
       "      <td>Ultrabook</td>\n",
       "      <td>14.0</td>\n",
       "      <td>16</td>\n",
       "      <td>Intel HD Graphics 620</td>\n",
       "      <td>Windows</td>\n",
       "      <td>1.70</td>\n",
       "      <td>0</td>\n",
       "      <td>512</td>\n",
       "      <td>0</td>\n",
       "      <td>0</td>\n",
       "      <td>2.7</td>\n",
       "      <td>Intel Core i7</td>\n",
       "      <td>0</td>\n",
       "      <td>1920</td>\n",
       "      <td>1080</td>\n",
       "      <td>2299.00</td>\n",
       "    </tr>\n",
       "    <tr>\n",
       "      <th>235</th>\n",
       "      <td>Dell</td>\n",
       "      <td>Inspiron 5567</td>\n",
       "      <td>Notebook</td>\n",
       "      <td>15.6</td>\n",
       "      <td>16</td>\n",
       "      <td>AMD Radeon R7 M445</td>\n",
       "      <td>Linux</td>\n",
       "      <td>2.36</td>\n",
       "      <td>0</td>\n",
       "      <td>256</td>\n",
       "      <td>0</td>\n",
       "      <td>0</td>\n",
       "      <td>2.7</td>\n",
       "      <td>Intel Core i7</td>\n",
       "      <td>0</td>\n",
       "      <td>1920</td>\n",
       "      <td>1080</td>\n",
       "      <td>899.00</td>\n",
       "    </tr>\n",
       "    <tr>\n",
       "      <th>...</th>\n",
       "      <td>...</td>\n",
       "      <td>...</td>\n",
       "      <td>...</td>\n",
       "      <td>...</td>\n",
       "      <td>...</td>\n",
       "      <td>...</td>\n",
       "      <td>...</td>\n",
       "      <td>...</td>\n",
       "      <td>...</td>\n",
       "      <td>...</td>\n",
       "      <td>...</td>\n",
       "      <td>...</td>\n",
       "      <td>...</td>\n",
       "      <td>...</td>\n",
       "      <td>...</td>\n",
       "      <td>...</td>\n",
       "      <td>...</td>\n",
       "      <td>...</td>\n",
       "    </tr>\n",
       "    <tr>\n",
       "      <th>1021</th>\n",
       "      <td>HP</td>\n",
       "      <td>ProBook 440</td>\n",
       "      <td>Notebook</td>\n",
       "      <td>14.0</td>\n",
       "      <td>8</td>\n",
       "      <td>Nvidia GeForce 930MX</td>\n",
       "      <td>Windows</td>\n",
       "      <td>1.64</td>\n",
       "      <td>0</td>\n",
       "      <td>256</td>\n",
       "      <td>0</td>\n",
       "      <td>0</td>\n",
       "      <td>2.7</td>\n",
       "      <td>Intel Core i7</td>\n",
       "      <td>0</td>\n",
       "      <td>1920</td>\n",
       "      <td>1080</td>\n",
       "      <td>1185.43</td>\n",
       "    </tr>\n",
       "    <tr>\n",
       "      <th>789</th>\n",
       "      <td>Vero</td>\n",
       "      <td>K146 (N3350/4GB/32GB/W10)</td>\n",
       "      <td>Notebook</td>\n",
       "      <td>14.0</td>\n",
       "      <td>4</td>\n",
       "      <td>Intel HD Graphics 500</td>\n",
       "      <td>Windows</td>\n",
       "      <td>1.22</td>\n",
       "      <td>0</td>\n",
       "      <td>0</td>\n",
       "      <td>0</td>\n",
       "      <td>32</td>\n",
       "      <td>1.1</td>\n",
       "      <td>Intel Celeron Dual</td>\n",
       "      <td>0</td>\n",
       "      <td>1920</td>\n",
       "      <td>1080</td>\n",
       "      <td>202.90</td>\n",
       "    </tr>\n",
       "    <tr>\n",
       "      <th>256</th>\n",
       "      <td>HP</td>\n",
       "      <td>15-BW094nd (A6-9220/8GB/128GB/W10)</td>\n",
       "      <td>Notebook</td>\n",
       "      <td>15.6</td>\n",
       "      <td>8</td>\n",
       "      <td>AMD Radeon R4 Graphics</td>\n",
       "      <td>Windows</td>\n",
       "      <td>1.91</td>\n",
       "      <td>0</td>\n",
       "      <td>128</td>\n",
       "      <td>0</td>\n",
       "      <td>0</td>\n",
       "      <td>2.5</td>\n",
       "      <td>AMD A6-Series A6-9220</td>\n",
       "      <td>0</td>\n",
       "      <td>1366</td>\n",
       "      <td>768</td>\n",
       "      <td>445.90</td>\n",
       "    </tr>\n",
       "    <tr>\n",
       "      <th>968</th>\n",
       "      <td>Dell</td>\n",
       "      <td>XPS 13</td>\n",
       "      <td>2 in 1 Convertible</td>\n",
       "      <td>13.3</td>\n",
       "      <td>16</td>\n",
       "      <td>Intel HD Graphics 615</td>\n",
       "      <td>Windows</td>\n",
       "      <td>1.22</td>\n",
       "      <td>0</td>\n",
       "      <td>512</td>\n",
       "      <td>0</td>\n",
       "      <td>0</td>\n",
       "      <td>1.3</td>\n",
       "      <td>Intel Core i7</td>\n",
       "      <td>1</td>\n",
       "      <td>3200</td>\n",
       "      <td>1800</td>\n",
       "      <td>1899.00</td>\n",
       "    </tr>\n",
       "    <tr>\n",
       "      <th>952</th>\n",
       "      <td>Lenovo</td>\n",
       "      <td>Thinkpad T460</td>\n",
       "      <td>Ultrabook</td>\n",
       "      <td>14.0</td>\n",
       "      <td>8</td>\n",
       "      <td>Intel HD Graphics 520</td>\n",
       "      <td>Windows</td>\n",
       "      <td>1.70</td>\n",
       "      <td>0</td>\n",
       "      <td>256</td>\n",
       "      <td>0</td>\n",
       "      <td>0</td>\n",
       "      <td>2.6</td>\n",
       "      <td>Intel Core i7</td>\n",
       "      <td>0</td>\n",
       "      <td>1920</td>\n",
       "      <td>1080</td>\n",
       "      <td>1488.99</td>\n",
       "    </tr>\n",
       "  </tbody>\n",
       "</table>\n",
       "<p>1017 rows × 18 columns</p>\n",
       "</div>"
      ],
      "text/plain": [
       "     Laptop_Brand                             Product         Laptop_Type  \\\n",
       "516            HP   15-bs190od (i5-8250U/4GB/1TB/W10)            Notebook   \n",
       "1002      Toshiba                   Portege Z30-C-16H            Notebook   \n",
       "1249       Lenovo                   IdeaPad 310-15ISK            Notebook   \n",
       "782        Lenovo                      ThinkPad T470s           Ultrabook   \n",
       "235          Dell                       Inspiron 5567            Notebook   \n",
       "...           ...                                 ...                 ...   \n",
       "1021           HP                         ProBook 440            Notebook   \n",
       "789          Vero           K146 (N3350/4GB/32GB/W10)            Notebook   \n",
       "256            HP  15-BW094nd (A6-9220/8GB/128GB/W10)            Notebook   \n",
       "968          Dell                              XPS 13  2 in 1 Convertible   \n",
       "952        Lenovo                       Thinkpad T460           Ultrabook   \n",
       "\n",
       "      Inches  RAM_GB                     GPU    OpSys  Weight_Kg  HDD_GB  \\\n",
       "516     15.6       4  Intel UHD Graphics 620  Windows       2.04    1000   \n",
       "1002    13.3       4   Intel HD Graphics 520  Windows       1.20       0   \n",
       "1249    15.6       6    Nvidia GeForce 920MX  Windows       2.40       0   \n",
       "782     14.0      16   Intel HD Graphics 620  Windows       1.70       0   \n",
       "235     15.6      16      AMD Radeon R7 M445    Linux       2.36       0   \n",
       "...      ...     ...                     ...      ...        ...     ...   \n",
       "1021    14.0       8    Nvidia GeForce 930MX  Windows       1.64       0   \n",
       "789     14.0       4   Intel HD Graphics 500  Windows       1.22       0   \n",
       "256     15.6       8  AMD Radeon R4 Graphics  Windows       1.91       0   \n",
       "968     13.3      16   Intel HD Graphics 615  Windows       1.22       0   \n",
       "952     14.0       8   Intel HD Graphics 520  Windows       1.70       0   \n",
       "\n",
       "      SSD_GB  Hybrid_GB  Flash_Storage_GB  CPU_GHz              CPU_Model  \\\n",
       "516        0          0                 0      1.6          Intel Core i5   \n",
       "1002     128          0                 0      2.3          Intel Core i5   \n",
       "1249     128          0                 0      2.3          Intel Core i3   \n",
       "782      512          0                 0      2.7          Intel Core i7   \n",
       "235      256          0                 0      2.7          Intel Core i7   \n",
       "...      ...        ...               ...      ...                    ...   \n",
       "1021     256          0                 0      2.7          Intel Core i7   \n",
       "789        0          0                32      1.1     Intel Celeron Dual   \n",
       "256      128          0                 0      2.5  AMD A6-Series A6-9220   \n",
       "968      512          0                 0      1.3          Intel Core i7   \n",
       "952      256          0                 0      2.6          Intel Core i7   \n",
       "\n",
       "      TouchScreen  Resolution_X  Resolution_Y  Price_euros  \n",
       "516             1          1366           768       521.47  \n",
       "1002            0          1920          1080      1195.00  \n",
       "1249            0          1920          1080       569.00  \n",
       "782             0          1920          1080      2299.00  \n",
       "235             0          1920          1080       899.00  \n",
       "...           ...           ...           ...          ...  \n",
       "1021            0          1920          1080      1185.43  \n",
       "789             0          1920          1080       202.90  \n",
       "256             0          1366           768       445.90  \n",
       "968             1          3200          1800      1899.00  \n",
       "952             0          1920          1080      1488.99  \n",
       "\n",
       "[1017 rows x 18 columns]"
      ]
     },
     "execution_count": 45,
     "metadata": {},
     "output_type": "execute_result"
    }
   ],
   "source": [
    "eda_df = pd.concat([X_train, y_train], axis=1)\n",
    "\n",
    "eda_df"
   ]
  },
  {
   "cell_type": "markdown",
   "metadata": {},
   "source": [
    "list kolom feature numerik dan kategorik"
   ]
  },
  {
   "cell_type": "code",
   "execution_count": 46,
   "metadata": {},
   "outputs": [],
   "source": [
    "num_col = ['Inches', 'RAM_GB', 'Weight_Kg', 'HDD_GB', 'SSD_GB', 'Flash_Storage_GB', 'CPU_GHz', 'Resolution_X', 'Resolution_Y']\n",
    "cat_col = ['Laptop_Brand', 'Product', 'Laptop_Type', 'OpSys', 'CPU_Model', 'GPU', 'TouchScreen']"
   ]
  },
  {
   "cell_type": "markdown",
   "metadata": {},
   "source": [
    "### V.II.I Distribusi Feature Numerik"
   ]
  },
  {
   "cell_type": "markdown",
   "metadata": {},
   "source": [
    "Membuat feature numerik"
   ]
  },
  {
   "cell_type": "code",
   "execution_count": 47,
   "metadata": {},
   "outputs": [],
   "source": [
    "feat_num = eda_df[num_col]"
   ]
  },
  {
   "cell_type": "markdown",
   "metadata": {},
   "source": [
    "Memplot distribusi feature numerik"
   ]
  },
  {
   "cell_type": "code",
   "execution_count": 48,
   "metadata": {},
   "outputs": [
    {
     "data": {
      "image/png": "[encoded data removed]",
      "text/plain": [
       "<Figure size 1440x720 with 9 Axes>"
      ]
     },
     "metadata": {
      "needs_background": "light"
     },
     "output_type": "display_data"
    }
   ],
   "source": [
    "plt.figure(figsize=(20,10))\n",
    "\n",
    "for idx, col in enumerate(feat_num):\n",
    "        plt.subplot(3,3,idx+1)\n",
    "        sns.distplot(feat_num[col])\n",
    "        plt.title(f'skew : {feat_num[col].skew()}', fontsize=14)\n",
    "        plt.axvline(x=feat_num[col].mean(), color='red', label=f'mean {col} = {round(feat_num[col].mean(), 2)}')\n",
    "        plt.axvline(x=feat_num[col].median(), color='green', label=f'median {col} = {feat_num[col].median()}')\n",
    "        plt.legend()\n",
    "        plt.xlabel(f'{col}', fontsize=14)\n",
    "        plt.tight_layout()"
   ]
  },
  {
   "cell_type": "markdown",
   "metadata": {},
   "source": [
    "Terlihat bahwa feature numerik kebanyakan memiliki distribusi skew right karena nilai skewnya diatas 0,5 dan ada juga yang terdistribusi skew left yaitu `CPU_GHz`, dan terdapat feature yang terdistribusi normal yaitu `Inches`."
   ]
  },
  {
   "cell_type": "markdown",
   "metadata": {},
   "source": [
    "### V.II.II Outliers Feature Numerik"
   ]
  },
  {
   "cell_type": "markdown",
   "metadata": {},
   "source": [
    "Pengecekan Outliers pada feature numerik"
   ]
  },
  {
   "cell_type": "code",
   "execution_count": 49,
   "metadata": {},
   "outputs": [
    {
     "data": {
      "image/png": "[encoded data removed]",
      "text/plain": [
       "<Figure size 1944x1440 with 9 Axes>"
      ]
     },
     "metadata": {
      "needs_background": "light"
     },
     "output_type": "display_data"
    }
   ],
   "source": [
    "fig, ax = plt.subplots(ncols=3,nrows=3, figsize=[27,20])\n",
    "ax = ax.flatten()\n",
    "\n",
    "for idx, col in enumerate(feat_num.columns):\n",
    "    sns.boxplot(feat_num[col], ax=ax[idx], whis=3)\n",
    "    ax[idx].set_title(f'{[idx]} skew: {feat_num[col].skew()}')"
   ]
  },
  {
   "cell_type": "code",
   "execution_count": 50,
   "metadata": {},
   "outputs": [
    {
     "name": "stdout",
     "output_type": "stream",
     "text": [
      "percentage outlier from Inches : 0.19665683382497542 %    skew : -0.4244747418589596\n",
      "percentage outlier from RAM_GB : 1.671583087512291 %    skew : 2.878430853600353\n",
      "percentage outlier from Weight_Kg : 0.0 %    skew : 1.167872473052644\n",
      "percentage outlier from HDD_GB : 0.0 %    skew : 0.8805199870780098\n",
      "percentage outlier from SSD_GB : 0.0 %    skew : 1.419316688448071\n",
      "percentage outlier from Flash_Storage_GB : 5.2114060963618485 %    skew : 11.45137938044996\n",
      "percentage outlier from CPU_GHz : 0.09832841691248771 %    skew : -0.7910875212834316\n",
      "percentage outlier from Resolution_X : 5.408062930186824 %    skew : 2.2325363454110527\n",
      "percentage outlier from Resolution_Y : 5.604719764011799 %    skew : 2.149435581416154\n"
     ]
    }
   ],
   "source": [
    "def outlier_analysis(train,col):\n",
    "  skewness = train[col].skew()\n",
    "  if skewness>=-0.5 and skewness<=0.5:\n",
    "    upper = train[col].mean() + 3*train[col].std()\n",
    "    lower = train[col].mean() - 3*train[col].std()\n",
    "  elif (skewness>=-1 and skewness<=-0.5) or (skewness>=0.5 and skewness<=1):\n",
    "    Q1 = train[col].quantile(0.25)\n",
    "    Q3 = train[col].quantile(0.75)\n",
    "    IQR = Q3 - Q1\n",
    "    upper = Q3 + (1.5*IQR)\n",
    "    lower = Q1 - (1.5*IQR)\n",
    "  else:\n",
    "    Q1 = train[col].quantile(0.25)\n",
    "    Q3 = train[col].quantile(0.75)\n",
    "    IQR = Q3 - Q1\n",
    "    upper = Q3 + (3*IQR)\n",
    "    lower = Q1 - (3*IQR)\n",
    "  \n",
    "  # no_outliers = train[(train[col]>=lower) & (train[col]<=upper)]\n",
    "  outliers = train[(train[col]<lower) | (train[col]>upper)]\n",
    "  print('percentage outlier from',i,':',outliers.shape[0]/train.shape[0] * 100, '%', '  ', 'skew :', train[col].skew())\n",
    "  return outliers, upper, lower\n",
    "\n",
    "for i in list(feat_num.columns):\n",
    "  outlier_analysis(feat_num,i)"
   ]
  },
  {
   "cell_type": "markdown",
   "metadata": {},
   "source": [
    "Feature `Resolution_X` dan `Resolution_Y` merupakan feature yang menjelaskan kualitas layar laptop dengan satuan pixel dan ini dapat disatukan menjadi 1 buah feature yaitu `PPI` yang dimana feature ini merupakan nilai pixel per inch dari layar laptop."
   ]
  },
  {
   "cell_type": "markdown",
   "metadata": {},
   "source": [
    "$PPI = \\frac{\\sqrt{X^2+Y^2}}{Inches}$\n",
    "\n",
    "dimana X adalah jumlah pixel pada kolom `Resolution_X`, Y adalah jumlah pixel pada kolom `Resolution_Y`, `Inches` adalah diagonal layar laptop dalam satuan inch."
   ]
  },
  {
   "cell_type": "code",
   "execution_count": 51,
   "metadata": {},
   "outputs": [
    {
     "data": {
      "text/html": [
       "<div>\n",
       "<style scoped>\n",
       "    .dataframe tbody tr th:only-of-type {\n",
       "        vertical-align: middle;\n",
       "    }\n",
       "\n",
       "    .dataframe tbody tr th {\n",
       "        vertical-align: top;\n",
       "    }\n",
       "\n",
       "    .dataframe thead th {\n",
       "        text-align: right;\n",
       "    }\n",
       "</style>\n",
       "<table border=\"1\" class=\"dataframe\">\n",
       "  <thead>\n",
       "    <tr style=\"text-align: right;\">\n",
       "      <th></th>\n",
       "      <th>Laptop_Brand</th>\n",
       "      <th>Product</th>\n",
       "      <th>Laptop_Type</th>\n",
       "      <th>Inches</th>\n",
       "      <th>RAM_GB</th>\n",
       "      <th>GPU</th>\n",
       "      <th>OpSys</th>\n",
       "      <th>Weight_Kg</th>\n",
       "      <th>HDD_GB</th>\n",
       "      <th>SSD_GB</th>\n",
       "      <th>Hybrid_GB</th>\n",
       "      <th>Flash_Storage_GB</th>\n",
       "      <th>CPU_GHz</th>\n",
       "      <th>CPU_Model</th>\n",
       "      <th>TouchScreen</th>\n",
       "      <th>Resolution_X</th>\n",
       "      <th>Resolution_Y</th>\n",
       "      <th>Price_euros</th>\n",
       "      <th>PPI</th>\n",
       "    </tr>\n",
       "  </thead>\n",
       "  <tbody>\n",
       "    <tr>\n",
       "      <th>516</th>\n",
       "      <td>HP</td>\n",
       "      <td>15-bs190od (i5-8250U/4GB/1TB/W10)</td>\n",
       "      <td>Notebook</td>\n",
       "      <td>15.6</td>\n",
       "      <td>4</td>\n",
       "      <td>Intel UHD Graphics 620</td>\n",
       "      <td>Windows</td>\n",
       "      <td>2.04</td>\n",
       "      <td>1000</td>\n",
       "      <td>0</td>\n",
       "      <td>0</td>\n",
       "      <td>0</td>\n",
       "      <td>1.6</td>\n",
       "      <td>Intel Core i5</td>\n",
       "      <td>1</td>\n",
       "      <td>1366</td>\n",
       "      <td>768</td>\n",
       "      <td>521.47</td>\n",
       "      <td>100.454670</td>\n",
       "    </tr>\n",
       "    <tr>\n",
       "      <th>1002</th>\n",
       "      <td>Toshiba</td>\n",
       "      <td>Portege Z30-C-16H</td>\n",
       "      <td>Notebook</td>\n",
       "      <td>13.3</td>\n",
       "      <td>4</td>\n",
       "      <td>Intel HD Graphics 520</td>\n",
       "      <td>Windows</td>\n",
       "      <td>1.20</td>\n",
       "      <td>0</td>\n",
       "      <td>128</td>\n",
       "      <td>0</td>\n",
       "      <td>0</td>\n",
       "      <td>2.3</td>\n",
       "      <td>Intel Core i5</td>\n",
       "      <td>0</td>\n",
       "      <td>1920</td>\n",
       "      <td>1080</td>\n",
       "      <td>1195.00</td>\n",
       "      <td>165.632118</td>\n",
       "    </tr>\n",
       "  </tbody>\n",
       "</table>\n",
       "</div>"
      ],
      "text/plain": [
       "     Laptop_Brand                            Product Laptop_Type  Inches  \\\n",
       "516            HP  15-bs190od (i5-8250U/4GB/1TB/W10)    Notebook    15.6   \n",
       "1002      Toshiba                  Portege Z30-C-16H    Notebook    13.3   \n",
       "\n",
       "      RAM_GB                     GPU    OpSys  Weight_Kg  HDD_GB  SSD_GB  \\\n",
       "516        4  Intel UHD Graphics 620  Windows       2.04    1000       0   \n",
       "1002       4   Intel HD Graphics 520  Windows       1.20       0     128   \n",
       "\n",
       "      Hybrid_GB  Flash_Storage_GB  CPU_GHz      CPU_Model  TouchScreen  \\\n",
       "516           0                 0      1.6  Intel Core i5            1   \n",
       "1002          0                 0      2.3  Intel Core i5            0   \n",
       "\n",
       "      Resolution_X  Resolution_Y  Price_euros         PPI  \n",
       "516           1366           768       521.47  100.454670  \n",
       "1002          1920          1080      1195.00  165.632118  "
      ]
     },
     "execution_count": 51,
     "metadata": {},
     "output_type": "execute_result"
    }
   ],
   "source": [
    "eda_df['PPI'] = (((eda_df['Resolution_X']**2) + (eda_df['Resolution_Y']**2))**0.5/eda_df['Inches'])\n",
    "eda_df.head(2)"
   ]
  },
  {
   "cell_type": "markdown",
   "metadata": {},
   "source": [
    "Mengecek outlier pada feature PPI"
   ]
  },
  {
   "cell_type": "code",
   "execution_count": 52,
   "metadata": {},
   "outputs": [
    {
     "data": {
      "image/png": "[encoded data removed]",
      "text/plain": [
       "<Figure size 360x360 with 1 Axes>"
      ]
     },
     "metadata": {
      "needs_background": "light"
     },
     "output_type": "display_data"
    }
   ],
   "source": [
    "feat_ppi = eda_df['PPI']\n",
    "plt.figure(figsize=(5,5))\n",
    "sns.boxplot(data=eda_df, x='PPI')\n",
    "plt.title(f'skew : {feat_ppi.skew()}')\n",
    "plt.show()"
   ]
  },
  {
   "cell_type": "code",
   "execution_count": 53,
   "metadata": {},
   "outputs": [
    {
     "name": "stdout",
     "output_type": "stream",
     "text": [
      "percentage outlier from PPI : 5.408062930186824 %    skew : 2.059673237859755\n"
     ]
    }
   ],
   "source": [
    "for i in ['PPI']:\n",
    "    outlier_analysis(eda_df,i)"
   ]
  },
  {
   "cell_type": "markdown",
   "metadata": {},
   "source": [
    "Setelah feature resolusi digabungkan maka outliers dari feature tersebut menurun dan berada di bawah angka 10 %. Sehingga Saya memutuskan untuk menggunakan Feature `PPI` untuk menjelaskan resolusi layar."
   ]
  },
  {
   "cell_type": "markdown",
   "metadata": {},
   "source": [
    "Laptop memiliki penyimpanan yang dapat berasal dari HDD, SSD, dan Flash Storage atau pun gabungan dari beberapa jenis penyimpanan. Untuk itu, saya memutuskan untuk membuat feature `Total_Storage_GB` untuk menjelaskan jumlah storage yang digunakan pada laptop."
   ]
  },
  {
   "cell_type": "code",
   "execution_count": 54,
   "metadata": {},
   "outputs": [],
   "source": [
    "eda_df['Total_Storage_GB'] = eda_df['HDD_GB'] + eda_df['SSD_GB'] + eda_df['Flash_Storage_GB']"
   ]
  },
  {
   "cell_type": "markdown",
   "metadata": {},
   "source": [
    "Mengecek outlier pada feature `Total_Storage_GB`"
   ]
  },
  {
   "cell_type": "code",
   "execution_count": 55,
   "metadata": {},
   "outputs": [
    {
     "name": "stdout",
     "output_type": "stream",
     "text": [
      "percentage outlier from Total_Storage_GB : 0.0 %    skew : 1.0705768033977252\n"
     ]
    }
   ],
   "source": [
    "for i in ['Total_Storage_GB']:\n",
    "    outlier_analysis(eda_df,i)"
   ]
  },
  {
   "cell_type": "markdown",
   "metadata": {},
   "source": [
    "Feaeture Total_Storage_GB tidak memiliki outliers dan saya memutuskan untuk menggunakan Feature `Total_Storage_GB` untuk menjelaskan jumlah storage yang diganakan pada laptop."
   ]
  },
  {
   "cell_type": "markdown",
   "metadata": {},
   "source": [
    "Komponen penyusun laptop seperti layar, RAM, Storage, CPU memiliki harga yang berbeda bergantung spesifikasi komponennya. Karena itu, outliers pada RAM dan PPI akan dilakukan trimming dengan metode iqr dengan fold 3."
   ]
  },
  {
   "cell_type": "markdown",
   "metadata": {},
   "source": [
    "Handling Outlier dengan trimming"
   ]
  },
  {
   "cell_type": "code",
   "execution_count": 56,
   "metadata": {},
   "outputs": [],
   "source": [
    "trims = OutlierTrimmer(capping_method='iqr', tail='both', fold=3, variables=['RAM_GB', 'PPI'])\n",
    "eda_df_clean = trims.fit_transform(eda_df)"
   ]
  },
  {
   "cell_type": "markdown",
   "metadata": {},
   "source": [
    "Dari EDA Modeling yang telah dilakukan, kita dapat membuat list feature numerik sebagai berikut"
   ]
  },
  {
   "cell_type": "code",
   "execution_count": 57,
   "metadata": {},
   "outputs": [],
   "source": [
    "num_col = ['Inches', 'PPI', 'CPU_GHz', 'RAM_GB', 'Weight_Kg', 'Total_Storage_GB']"
   ]
  },
  {
   "cell_type": "markdown",
   "metadata": {},
   "source": [
    "### V.II.III Pengecekan Multikolinearitas Pada Feature Numerik"
   ]
  },
  {
   "cell_type": "markdown",
   "metadata": {},
   "source": [
    "Pengecekan multikolinearitas dari sebuah feature akan di cek menggunakan VIF. Feature yang memiliki Threshold diatas 10 % tidak akan digunakan karena feature tersebut saling berhubungan dan menimbulkan ambiguitas terhadap target."
   ]
  },
  {
   "cell_type": "markdown",
   "metadata": {},
   "source": [
    "#### VIF Feature `Inches` dan `PPI`"
   ]
  },
  {
   "cell_type": "code",
   "execution_count": 58,
   "metadata": {},
   "outputs": [
    {
     "name": "stdout",
     "output_type": "stream",
     "text": [
      "  feature        VIF\n",
      "0  Inches  16.452918\n",
      "1     PPI  16.452918\n"
     ]
    }
   ],
   "source": [
    "# the independent variables set\n",
    "X = eda_df_clean[['Inches', 'PPI']]\n",
    "  \n",
    "# VIF dataframe\n",
    "vif_data = pd.DataFrame()\n",
    "vif_data[\"feature\"] = X.columns\n",
    "  \n",
    "# calculating VIF for each feature\n",
    "vif_data[\"VIF\"] = [variance_inflation_factor(X.values, i)\n",
    "                          for i in range(len(X.columns))]\n",
    "  \n",
    "print(vif_data)"
   ]
  },
  {
   "cell_type": "markdown",
   "metadata": {},
   "source": [
    "Feature `Inches` dan `PPI` memiliki nilai VIF diatas 10 sehingga akan dipilih feature PPI saja."
   ]
  },
  {
   "cell_type": "code",
   "execution_count": 59,
   "metadata": {},
   "outputs": [],
   "source": [
    "num_col = ['PPI', 'CPU_GHz', 'RAM_GB', 'Weight_Kg', 'Total_Storage_GB']"
   ]
  },
  {
   "cell_type": "markdown",
   "metadata": {},
   "source": [
    "### V.III Korelasi Featuere Numerik"
   ]
  },
  {
   "cell_type": "code",
   "execution_count": 60,
   "metadata": {},
   "outputs": [
    {
     "data": {
      "image/png": "[encoded data removed]",
      "text/plain": [
       "<Figure size 1080x720 with 2 Axes>"
      ]
     },
     "metadata": {
      "needs_background": "light"
     },
     "output_type": "display_data"
    }
   ],
   "source": [
    "kor_feat = eda_df_clean[num_col]\n",
    "kor_feat['Price_euros'] = eda_df['Price_euros']\n",
    "plt.figure(figsize=(15, 10))\n",
    "sns.heatmap(round(kor_feat.corr(method='spearman'), 2), \n",
    "            annot=True, mask=None, cmap='GnBu')\n",
    "plt.show()"
   ]
  },
  {
   "cell_type": "markdown",
   "metadata": {},
   "source": [
    "Dari hasil korelasi di atas, terlihat bahwa feature `Weight_Kg` tidak memiliki hubungan terhadap target `Price_euros`. Berat dari laptop tidak mempengaruhi harga. \n",
    "\n",
    "Feature `Total_Storage_GB` memiliki korelasi yang kecil terhadap target `Price_euros` namun karena Penyimpanan merupakan komponen penting pada sebuah laptop maka feature ini tetap digunakan."
   ]
  },
  {
   "cell_type": "markdown",
   "metadata": {},
   "source": [
    "Dari hasil korelasi, dapat dibuat list kolom feature numerik yang akan digunakan pada pemodelan yaitu"
   ]
  },
  {
   "cell_type": "code",
   "execution_count": 61,
   "metadata": {},
   "outputs": [],
   "source": [
    "num_col_final = ['PPI', 'CPU_GHz', 'RAM_GB', 'Total_Storage_GB']"
   ]
  },
  {
   "cell_type": "markdown",
   "metadata": {},
   "source": [
    "### V.IV EDA Feature Kategorik"
   ]
  },
  {
   "cell_type": "markdown",
   "metadata": {},
   "source": [
    "Disini saya ingin mengetahui apa saja yang terdapat pada feature kategorik"
   ]
  },
  {
   "cell_type": "code",
   "execution_count": 62,
   "metadata": {},
   "outputs": [],
   "source": [
    "feat_cat = eda_df_clean[cat_col]"
   ]
  },
  {
   "cell_type": "markdown",
   "metadata": {},
   "source": [
    "Feature `Laptop_Brand`"
   ]
  },
  {
   "cell_type": "code",
   "execution_count": 63,
   "metadata": {},
   "outputs": [
    {
     "data": {
      "text/plain": [
       "Lenovo       232\n",
       "HP           207\n",
       "Dell         198\n",
       "Asus         118\n",
       "Acer          79\n",
       "Toshiba       39\n",
       "MSI           27\n",
       "Apple         15\n",
       "Mediacom       7\n",
       "Samsung        6\n",
       "Microsoft      6\n",
       "Xiaomi         4\n",
       "Razer          3\n",
       "Vero           3\n",
       "Chuwi          2\n",
       "Huawei         2\n",
       "Google         1\n",
       "Fujitsu        1\n",
       "LG             1\n",
       "Name: Laptop_Brand, dtype: int64"
      ]
     },
     "execution_count": 63,
     "metadata": {},
     "output_type": "execute_result"
    }
   ],
   "source": [
    "feat_cat['Laptop_Brand'].value_counts()"
   ]
  },
  {
   "cell_type": "code",
   "execution_count": 64,
   "metadata": {},
   "outputs": [],
   "source": [
    "for i in ['Samsung', 'Mediacom', 'Razer', 'Microsoft', 'Xiaomi', 'Chuwi', 'Huawei', 'Google', 'Fujitsu', 'LG', 'Vero']:\n",
    "    eda_df_clean['Laptop_Brand'] = eda_df_clean['Laptop_Brand'].replace(i, 'Others Brand')"
   ]
  },
  {
   "cell_type": "code",
   "execution_count": 65,
   "metadata": {},
   "outputs": [
    {
     "data": {
      "text/plain": [
       "Lenovo          232\n",
       "HP              207\n",
       "Dell            198\n",
       "Asus            118\n",
       "Acer             79\n",
       "Toshiba          39\n",
       "Others Brand     36\n",
       "MSI              27\n",
       "Apple            15\n",
       "Name: Laptop_Brand, dtype: int64"
      ]
     },
     "execution_count": 65,
     "metadata": {},
     "output_type": "execute_result"
    }
   ],
   "source": [
    "eda_df_clean['Laptop_Brand'].value_counts()"
   ]
  },
  {
   "cell_type": "markdown",
   "metadata": {},
   "source": [
    "Feature `Product` dan `Laptop_Type`"
   ]
  },
  {
   "cell_type": "code",
   "execution_count": 66,
   "metadata": {},
   "outputs": [
    {
     "data": {
      "text/plain": [
       "250 G6                                     19\n",
       "Inspiron 3567                              18\n",
       "Legion Y520-15IKBN                         16\n",
       "ProBook 450                                14\n",
       "Vostro 3568                                13\n",
       "                                           ..\n",
       "Swift SF114-31-P5HY                         1\n",
       "17-Y002nv (A10-9600P/6GB/2TB/Radeon         1\n",
       "Portege Z30-C-1CW                           1\n",
       "V330-15IKB (i5-8250U/8GB/256GB/FHD/W10)     1\n",
       "15-BW094nd (A6-9220/8GB/128GB/W10)          1\n",
       "Name: Product, Length: 501, dtype: int64"
      ]
     },
     "execution_count": 66,
     "metadata": {},
     "output_type": "execute_result"
    }
   ],
   "source": [
    "feat_cat['Product'].value_counts()"
   ]
  },
  {
   "cell_type": "code",
   "execution_count": 67,
   "metadata": {},
   "outputs": [
    {
     "data": {
      "text/plain": [
       "Notebook              573\n",
       "Ultrabook             131\n",
       "Gaming                128\n",
       "2 in 1 Convertible     79\n",
       "Netbook                21\n",
       "Workstation            19\n",
       "Name: Laptop_Type, dtype: int64"
      ]
     },
     "execution_count": 67,
     "metadata": {},
     "output_type": "execute_result"
    }
   ],
   "source": [
    "feat_cat['Laptop_Type'].value_counts()"
   ]
  },
  {
   "cell_type": "markdown",
   "metadata": {},
   "source": [
    "Kedua feature ini menjelaskan model laptop yang dikeluarkan oleh brand laptop. Disini karena unique value dari `Product` sangatlah banyak, saya memutuskan untuk menggunakan feature `Laptop_Type` untuk menjelaskan model laptop yang dikeluarkan oleh brand laptop tersebut."
   ]
  },
  {
   "cell_type": "markdown",
   "metadata": {},
   "source": [
    "Feature `OpSys`"
   ]
  },
  {
   "cell_type": "code",
   "execution_count": 68,
   "metadata": {},
   "outputs": [
    {
     "data": {
      "text/plain": [
       "Windows    813\n",
       "DOS         58\n",
       "Linux       45\n",
       "Others      20\n",
       "Mac         15\n",
       "Name: OpSys, dtype: int64"
      ]
     },
     "execution_count": 68,
     "metadata": {},
     "output_type": "execute_result"
    }
   ],
   "source": [
    "feat_cat['OpSys'].value_counts()"
   ]
  },
  {
   "cell_type": "markdown",
   "metadata": {},
   "source": [
    "Laptop kebanyakan menggunakan sistem operasi berupa Windows, lalu tanpa sistem operasi (DOS), dan Linux."
   ]
  },
  {
   "cell_type": "markdown",
   "metadata": {},
   "source": [
    "Feature `CPU_Model`"
   ]
  },
  {
   "cell_type": "code",
   "execution_count": 69,
   "metadata": {},
   "outputs": [
    {
     "data": {
      "text/html": [
       "<div>\n",
       "<style scoped>\n",
       "    .dataframe tbody tr th:only-of-type {\n",
       "        vertical-align: middle;\n",
       "    }\n",
       "\n",
       "    .dataframe tbody tr th {\n",
       "        vertical-align: top;\n",
       "    }\n",
       "\n",
       "    .dataframe thead th {\n",
       "        text-align: right;\n",
       "    }\n",
       "</style>\n",
       "<table border=\"1\" class=\"dataframe\">\n",
       "  <thead>\n",
       "    <tr style=\"text-align: right;\">\n",
       "      <th></th>\n",
       "      <th>CPU_Model</th>\n",
       "      <th>Laptop_Brand</th>\n",
       "    </tr>\n",
       "  </thead>\n",
       "  <tbody>\n",
       "    <tr>\n",
       "      <th>0</th>\n",
       "      <td>AMD A10-Series 9600P</td>\n",
       "      <td>2</td>\n",
       "    </tr>\n",
       "    <tr>\n",
       "      <th>1</th>\n",
       "      <td>AMD A10-Series A10-9620P</td>\n",
       "      <td>2</td>\n",
       "    </tr>\n",
       "    <tr>\n",
       "      <th>2</th>\n",
       "      <td>AMD A12-Series 9700P</td>\n",
       "      <td>1</td>\n",
       "    </tr>\n",
       "    <tr>\n",
       "      <th>3</th>\n",
       "      <td>AMD A12-Series 9720P</td>\n",
       "      <td>7</td>\n",
       "    </tr>\n",
       "    <tr>\n",
       "      <th>4</th>\n",
       "      <td>AMD A4-Series 7210</td>\n",
       "      <td>1</td>\n",
       "    </tr>\n",
       "    <tr>\n",
       "      <th>5</th>\n",
       "      <td>AMD A6-Series 7310</td>\n",
       "      <td>1</td>\n",
       "    </tr>\n",
       "    <tr>\n",
       "      <th>6</th>\n",
       "      <td>AMD A6-Series 9220</td>\n",
       "      <td>6</td>\n",
       "    </tr>\n",
       "    <tr>\n",
       "      <th>7</th>\n",
       "      <td>AMD A6-Series A6-9220</td>\n",
       "      <td>2</td>\n",
       "    </tr>\n",
       "    <tr>\n",
       "      <th>8</th>\n",
       "      <td>AMD A8-Series 7410</td>\n",
       "      <td>3</td>\n",
       "    </tr>\n",
       "    <tr>\n",
       "      <th>9</th>\n",
       "      <td>AMD A9-Series 9410</td>\n",
       "      <td>1</td>\n",
       "    </tr>\n",
       "    <tr>\n",
       "      <th>10</th>\n",
       "      <td>AMD A9-Series 9420</td>\n",
       "      <td>11</td>\n",
       "    </tr>\n",
       "    <tr>\n",
       "      <th>11</th>\n",
       "      <td>AMD A9-Series A9-9420</td>\n",
       "      <td>2</td>\n",
       "    </tr>\n",
       "    <tr>\n",
       "      <th>12</th>\n",
       "      <td>AMD E-Series 6110</td>\n",
       "      <td>1</td>\n",
       "    </tr>\n",
       "    <tr>\n",
       "      <th>13</th>\n",
       "      <td>AMD E-Series 7110</td>\n",
       "      <td>2</td>\n",
       "    </tr>\n",
       "    <tr>\n",
       "      <th>14</th>\n",
       "      <td>AMD E-Series 9000e</td>\n",
       "      <td>1</td>\n",
       "    </tr>\n",
       "    <tr>\n",
       "      <th>15</th>\n",
       "      <td>AMD E-Series E2-9000e</td>\n",
       "      <td>2</td>\n",
       "    </tr>\n",
       "    <tr>\n",
       "      <th>16</th>\n",
       "      <td>AMD FX 8800P</td>\n",
       "      <td>1</td>\n",
       "    </tr>\n",
       "    <tr>\n",
       "      <th>17</th>\n",
       "      <td>AMD FX 9830P</td>\n",
       "      <td>1</td>\n",
       "    </tr>\n",
       "    <tr>\n",
       "      <th>18</th>\n",
       "      <td>AMD Ryzen 1600</td>\n",
       "      <td>1</td>\n",
       "    </tr>\n",
       "    <tr>\n",
       "      <th>19</th>\n",
       "      <td>AMD Ryzen 1700</td>\n",
       "      <td>3</td>\n",
       "    </tr>\n",
       "    <tr>\n",
       "      <th>20</th>\n",
       "      <td>Intel Atom X5-Z8350</td>\n",
       "      <td>1</td>\n",
       "    </tr>\n",
       "    <tr>\n",
       "      <th>21</th>\n",
       "      <td>Intel Atom Z8350</td>\n",
       "      <td>1</td>\n",
       "    </tr>\n",
       "    <tr>\n",
       "      <th>22</th>\n",
       "      <td>Intel Atom x5-Z8300</td>\n",
       "      <td>1</td>\n",
       "    </tr>\n",
       "    <tr>\n",
       "      <th>23</th>\n",
       "      <td>Intel Atom x5-Z8350</td>\n",
       "      <td>5</td>\n",
       "    </tr>\n",
       "    <tr>\n",
       "      <th>24</th>\n",
       "      <td>Intel Atom x5-Z8550</td>\n",
       "      <td>2</td>\n",
       "    </tr>\n",
       "    <tr>\n",
       "      <th>25</th>\n",
       "      <td>Intel Celeron Dual</td>\n",
       "      <td>60</td>\n",
       "    </tr>\n",
       "    <tr>\n",
       "      <th>26</th>\n",
       "      <td>Intel Celeron Quad</td>\n",
       "      <td>5</td>\n",
       "    </tr>\n",
       "    <tr>\n",
       "      <th>27</th>\n",
       "      <td>Intel Core M</td>\n",
       "      <td>11</td>\n",
       "    </tr>\n",
       "    <tr>\n",
       "      <th>28</th>\n",
       "      <td>Intel Core i3</td>\n",
       "      <td>108</td>\n",
       "    </tr>\n",
       "    <tr>\n",
       "      <th>29</th>\n",
       "      <td>Intel Core i5</td>\n",
       "      <td>328</td>\n",
       "    </tr>\n",
       "    <tr>\n",
       "      <th>30</th>\n",
       "      <td>Intel Core i7</td>\n",
       "      <td>347</td>\n",
       "    </tr>\n",
       "    <tr>\n",
       "      <th>31</th>\n",
       "      <td>Intel Pentium Dual</td>\n",
       "      <td>2</td>\n",
       "    </tr>\n",
       "    <tr>\n",
       "      <th>32</th>\n",
       "      <td>Intel Pentium Quad</td>\n",
       "      <td>27</td>\n",
       "    </tr>\n",
       "    <tr>\n",
       "      <th>33</th>\n",
       "      <td>Intel Xeon E3-1505M</td>\n",
       "      <td>1</td>\n",
       "    </tr>\n",
       "    <tr>\n",
       "      <th>34</th>\n",
       "      <td>Intel Xeon E3-1535M</td>\n",
       "      <td>1</td>\n",
       "    </tr>\n",
       "  </tbody>\n",
       "</table>\n",
       "</div>"
      ],
      "text/plain": [
       "                   CPU_Model  Laptop_Brand\n",
       "0       AMD A10-Series 9600P             2\n",
       "1   AMD A10-Series A10-9620P             2\n",
       "2       AMD A12-Series 9700P             1\n",
       "3       AMD A12-Series 9720P             7\n",
       "4         AMD A4-Series 7210             1\n",
       "5         AMD A6-Series 7310             1\n",
       "6         AMD A6-Series 9220             6\n",
       "7      AMD A6-Series A6-9220             2\n",
       "8         AMD A8-Series 7410             3\n",
       "9         AMD A9-Series 9410             1\n",
       "10        AMD A9-Series 9420            11\n",
       "11     AMD A9-Series A9-9420             2\n",
       "12         AMD E-Series 6110             1\n",
       "13         AMD E-Series 7110             2\n",
       "14        AMD E-Series 9000e             1\n",
       "15     AMD E-Series E2-9000e             2\n",
       "16              AMD FX 8800P             1\n",
       "17              AMD FX 9830P             1\n",
       "18            AMD Ryzen 1600             1\n",
       "19            AMD Ryzen 1700             3\n",
       "20       Intel Atom X5-Z8350             1\n",
       "21          Intel Atom Z8350             1\n",
       "22       Intel Atom x5-Z8300             1\n",
       "23       Intel Atom x5-Z8350             5\n",
       "24       Intel Atom x5-Z8550             2\n",
       "25        Intel Celeron Dual            60\n",
       "26        Intel Celeron Quad             5\n",
       "27              Intel Core M            11\n",
       "28             Intel Core i3           108\n",
       "29             Intel Core i5           328\n",
       "30             Intel Core i7           347\n",
       "31        Intel Pentium Dual             2\n",
       "32        Intel Pentium Quad            27\n",
       "33       Intel Xeon E3-1505M             1\n",
       "34       Intel Xeon E3-1535M             1"
      ]
     },
     "execution_count": 69,
     "metadata": {},
     "output_type": "execute_result"
    }
   ],
   "source": [
    "feat_cat.groupby(['CPU_Model'], as_index=False)['Laptop_Brand'].count()"
   ]
  },
  {
   "cell_type": "markdown",
   "metadata": {},
   "source": [
    "Dari hasil diatas, dapat diketahui bahwa laptop kebanyakan menggunakan CPU dari Intel yaitu model i7, i5, dan i3."
   ]
  },
  {
   "cell_type": "markdown",
   "metadata": {},
   "source": [
    "Feature `GPU`"
   ]
  },
  {
   "cell_type": "code",
   "execution_count": 70,
   "metadata": {},
   "outputs": [
    {
     "data": {
      "text/html": [
       "<div>\n",
       "<style scoped>\n",
       "    .dataframe tbody tr th:only-of-type {\n",
       "        vertical-align: middle;\n",
       "    }\n",
       "\n",
       "    .dataframe tbody tr th {\n",
       "        vertical-align: top;\n",
       "    }\n",
       "\n",
       "    .dataframe thead th {\n",
       "        text-align: right;\n",
       "    }\n",
       "</style>\n",
       "<table border=\"1\" class=\"dataframe\">\n",
       "  <thead>\n",
       "    <tr style=\"text-align: right;\">\n",
       "      <th></th>\n",
       "      <th>GPU</th>\n",
       "      <th>Laptop_Brand</th>\n",
       "    </tr>\n",
       "  </thead>\n",
       "  <tbody>\n",
       "    <tr>\n",
       "      <th>0</th>\n",
       "      <td>AMD FirePro W4190M</td>\n",
       "      <td>2</td>\n",
       "    </tr>\n",
       "    <tr>\n",
       "      <th>1</th>\n",
       "      <td>AMD FirePro W6150M</td>\n",
       "      <td>1</td>\n",
       "    </tr>\n",
       "    <tr>\n",
       "      <th>2</th>\n",
       "      <td>AMD R17M-M1-70</td>\n",
       "      <td>1</td>\n",
       "    </tr>\n",
       "    <tr>\n",
       "      <th>3</th>\n",
       "      <td>AMD R4 Graphics</td>\n",
       "      <td>1</td>\n",
       "    </tr>\n",
       "    <tr>\n",
       "      <th>4</th>\n",
       "      <td>AMD Radeon 520</td>\n",
       "      <td>16</td>\n",
       "    </tr>\n",
       "    <tr>\n",
       "      <th>5</th>\n",
       "      <td>AMD Radeon 530</td>\n",
       "      <td>34</td>\n",
       "    </tr>\n",
       "    <tr>\n",
       "      <th>6</th>\n",
       "      <td>AMD Radeon Pro 555</td>\n",
       "      <td>1</td>\n",
       "    </tr>\n",
       "    <tr>\n",
       "      <th>7</th>\n",
       "      <td>AMD Radeon Pro 560</td>\n",
       "      <td>1</td>\n",
       "    </tr>\n",
       "    <tr>\n",
       "      <th>8</th>\n",
       "      <td>AMD Radeon R2</td>\n",
       "      <td>4</td>\n",
       "    </tr>\n",
       "    <tr>\n",
       "      <th>9</th>\n",
       "      <td>AMD Radeon R2 Graphics</td>\n",
       "      <td>2</td>\n",
       "    </tr>\n",
       "    <tr>\n",
       "      <th>10</th>\n",
       "      <td>AMD Radeon R3</td>\n",
       "      <td>1</td>\n",
       "    </tr>\n",
       "    <tr>\n",
       "      <th>11</th>\n",
       "      <td>AMD Radeon R4</td>\n",
       "      <td>3</td>\n",
       "    </tr>\n",
       "    <tr>\n",
       "      <th>12</th>\n",
       "      <td>AMD Radeon R4 Graphics</td>\n",
       "      <td>3</td>\n",
       "    </tr>\n",
       "    <tr>\n",
       "      <th>13</th>\n",
       "      <td>AMD Radeon R5</td>\n",
       "      <td>10</td>\n",
       "    </tr>\n",
       "    <tr>\n",
       "      <th>14</th>\n",
       "      <td>AMD Radeon R5 430</td>\n",
       "      <td>1</td>\n",
       "    </tr>\n",
       "    <tr>\n",
       "      <th>15</th>\n",
       "      <td>AMD Radeon R5 520</td>\n",
       "      <td>1</td>\n",
       "    </tr>\n",
       "    <tr>\n",
       "      <th>16</th>\n",
       "      <td>AMD Radeon R5 M315</td>\n",
       "      <td>1</td>\n",
       "    </tr>\n",
       "    <tr>\n",
       "      <th>17</th>\n",
       "      <td>AMD Radeon R5 M330</td>\n",
       "      <td>4</td>\n",
       "    </tr>\n",
       "    <tr>\n",
       "      <th>18</th>\n",
       "      <td>AMD Radeon R5 M420</td>\n",
       "      <td>4</td>\n",
       "    </tr>\n",
       "    <tr>\n",
       "      <th>19</th>\n",
       "      <td>AMD Radeon R5 M420X</td>\n",
       "      <td>3</td>\n",
       "    </tr>\n",
       "    <tr>\n",
       "      <th>20</th>\n",
       "      <td>AMD Radeon R5 M430</td>\n",
       "      <td>15</td>\n",
       "    </tr>\n",
       "    <tr>\n",
       "      <th>21</th>\n",
       "      <td>AMD Radeon R7</td>\n",
       "      <td>1</td>\n",
       "    </tr>\n",
       "    <tr>\n",
       "      <th>22</th>\n",
       "      <td>AMD Radeon R7 Graphics</td>\n",
       "      <td>1</td>\n",
       "    </tr>\n",
       "    <tr>\n",
       "      <th>23</th>\n",
       "      <td>AMD Radeon R7 M360</td>\n",
       "      <td>1</td>\n",
       "    </tr>\n",
       "    <tr>\n",
       "      <th>24</th>\n",
       "      <td>AMD Radeon R7 M440</td>\n",
       "      <td>3</td>\n",
       "    </tr>\n",
       "    <tr>\n",
       "      <th>25</th>\n",
       "      <td>AMD Radeon R7 M445</td>\n",
       "      <td>13</td>\n",
       "    </tr>\n",
       "    <tr>\n",
       "      <th>26</th>\n",
       "      <td>AMD Radeon R7 M460</td>\n",
       "      <td>2</td>\n",
       "    </tr>\n",
       "    <tr>\n",
       "      <th>27</th>\n",
       "      <td>AMD Radeon R9 M385</td>\n",
       "      <td>1</td>\n",
       "    </tr>\n",
       "    <tr>\n",
       "      <th>28</th>\n",
       "      <td>AMD Radeon RX 540</td>\n",
       "      <td>1</td>\n",
       "    </tr>\n",
       "    <tr>\n",
       "      <th>29</th>\n",
       "      <td>AMD Radeon RX 550</td>\n",
       "      <td>4</td>\n",
       "    </tr>\n",
       "    <tr>\n",
       "      <th>30</th>\n",
       "      <td>AMD Radeon RX 560</td>\n",
       "      <td>1</td>\n",
       "    </tr>\n",
       "    <tr>\n",
       "      <th>31</th>\n",
       "      <td>AMD Radeon RX 580</td>\n",
       "      <td>4</td>\n",
       "    </tr>\n",
       "    <tr>\n",
       "      <th>32</th>\n",
       "      <td>Intel HD Graphics</td>\n",
       "      <td>21</td>\n",
       "    </tr>\n",
       "    <tr>\n",
       "      <th>33</th>\n",
       "      <td>Intel HD Graphics 400</td>\n",
       "      <td>27</td>\n",
       "    </tr>\n",
       "    <tr>\n",
       "      <th>34</th>\n",
       "      <td>Intel HD Graphics 405</td>\n",
       "      <td>9</td>\n",
       "    </tr>\n",
       "    <tr>\n",
       "      <th>35</th>\n",
       "      <td>Intel HD Graphics 500</td>\n",
       "      <td>30</td>\n",
       "    </tr>\n",
       "    <tr>\n",
       "      <th>36</th>\n",
       "      <td>Intel HD Graphics 505</td>\n",
       "      <td>12</td>\n",
       "    </tr>\n",
       "    <tr>\n",
       "      <th>37</th>\n",
       "      <td>Intel HD Graphics 510</td>\n",
       "      <td>4</td>\n",
       "    </tr>\n",
       "    <tr>\n",
       "      <th>38</th>\n",
       "      <td>Intel HD Graphics 515</td>\n",
       "      <td>6</td>\n",
       "    </tr>\n",
       "    <tr>\n",
       "      <th>39</th>\n",
       "      <td>Intel HD Graphics 520</td>\n",
       "      <td>145</td>\n",
       "    </tr>\n",
       "    <tr>\n",
       "      <th>40</th>\n",
       "      <td>Intel HD Graphics 5300</td>\n",
       "      <td>2</td>\n",
       "    </tr>\n",
       "    <tr>\n",
       "      <th>41</th>\n",
       "      <td>Intel HD Graphics 6000</td>\n",
       "      <td>4</td>\n",
       "    </tr>\n",
       "    <tr>\n",
       "      <th>42</th>\n",
       "      <td>Intel HD Graphics 615</td>\n",
       "      <td>7</td>\n",
       "    </tr>\n",
       "    <tr>\n",
       "      <th>43</th>\n",
       "      <td>Intel HD Graphics 620</td>\n",
       "      <td>222</td>\n",
       "    </tr>\n",
       "    <tr>\n",
       "      <th>44</th>\n",
       "      <td>Intel HD Graphics 630</td>\n",
       "      <td>3</td>\n",
       "    </tr>\n",
       "    <tr>\n",
       "      <th>45</th>\n",
       "      <td>Intel Iris Graphics 540</td>\n",
       "      <td>1</td>\n",
       "    </tr>\n",
       "    <tr>\n",
       "      <th>46</th>\n",
       "      <td>Intel Iris Graphics 550</td>\n",
       "      <td>1</td>\n",
       "    </tr>\n",
       "    <tr>\n",
       "      <th>47</th>\n",
       "      <td>Intel Iris Plus Graphics 640</td>\n",
       "      <td>5</td>\n",
       "    </tr>\n",
       "    <tr>\n",
       "      <th>48</th>\n",
       "      <td>Intel Iris Plus Graphics 650</td>\n",
       "      <td>1</td>\n",
       "    </tr>\n",
       "    <tr>\n",
       "      <th>49</th>\n",
       "      <td>Intel UHD Graphics 620</td>\n",
       "      <td>45</td>\n",
       "    </tr>\n",
       "    <tr>\n",
       "      <th>50</th>\n",
       "      <td>Nvidia GeForce 150MX</td>\n",
       "      <td>3</td>\n",
       "    </tr>\n",
       "    <tr>\n",
       "      <th>51</th>\n",
       "      <td>Nvidia GeForce 920</td>\n",
       "      <td>1</td>\n",
       "    </tr>\n",
       "    <tr>\n",
       "      <th>52</th>\n",
       "      <td>Nvidia GeForce 920M</td>\n",
       "      <td>4</td>\n",
       "    </tr>\n",
       "    <tr>\n",
       "      <th>53</th>\n",
       "      <td>Nvidia GeForce 920MX</td>\n",
       "      <td>15</td>\n",
       "    </tr>\n",
       "    <tr>\n",
       "      <th>54</th>\n",
       "      <td>Nvidia GeForce 930M</td>\n",
       "      <td>6</td>\n",
       "    </tr>\n",
       "    <tr>\n",
       "      <th>55</th>\n",
       "      <td>Nvidia GeForce 930MX</td>\n",
       "      <td>20</td>\n",
       "    </tr>\n",
       "    <tr>\n",
       "      <th>56</th>\n",
       "      <td>Nvidia GeForce 940M</td>\n",
       "      <td>1</td>\n",
       "    </tr>\n",
       "    <tr>\n",
       "      <th>57</th>\n",
       "      <td>Nvidia GeForce 940MX</td>\n",
       "      <td>32</td>\n",
       "    </tr>\n",
       "    <tr>\n",
       "      <th>58</th>\n",
       "      <td>Nvidia GeForce GT 940MX</td>\n",
       "      <td>3</td>\n",
       "    </tr>\n",
       "    <tr>\n",
       "      <th>59</th>\n",
       "      <td>Nvidia GeForce GTX 1050</td>\n",
       "      <td>46</td>\n",
       "    </tr>\n",
       "    <tr>\n",
       "      <th>60</th>\n",
       "      <td>Nvidia GeForce GTX 1050 Ti</td>\n",
       "      <td>15</td>\n",
       "    </tr>\n",
       "    <tr>\n",
       "      <th>61</th>\n",
       "      <td>Nvidia GeForce GTX 1050M</td>\n",
       "      <td>3</td>\n",
       "    </tr>\n",
       "    <tr>\n",
       "      <th>62</th>\n",
       "      <td>Nvidia GeForce GTX 1060</td>\n",
       "      <td>35</td>\n",
       "    </tr>\n",
       "    <tr>\n",
       "      <th>63</th>\n",
       "      <td>Nvidia GeForce GTX 1070</td>\n",
       "      <td>12</td>\n",
       "    </tr>\n",
       "    <tr>\n",
       "      <th>64</th>\n",
       "      <td>Nvidia GeForce GTX 1080</td>\n",
       "      <td>1</td>\n",
       "    </tr>\n",
       "    <tr>\n",
       "      <th>65</th>\n",
       "      <td>Nvidia GeForce GTX 930MX</td>\n",
       "      <td>1</td>\n",
       "    </tr>\n",
       "    <tr>\n",
       "      <th>66</th>\n",
       "      <td>Nvidia GeForce GTX 940M</td>\n",
       "      <td>1</td>\n",
       "    </tr>\n",
       "    <tr>\n",
       "      <th>67</th>\n",
       "      <td>Nvidia GeForce GTX 940MX</td>\n",
       "      <td>3</td>\n",
       "    </tr>\n",
       "    <tr>\n",
       "      <th>68</th>\n",
       "      <td>Nvidia GeForce GTX 950M</td>\n",
       "      <td>5</td>\n",
       "    </tr>\n",
       "    <tr>\n",
       "      <th>69</th>\n",
       "      <td>Nvidia GeForce GTX 960</td>\n",
       "      <td>2</td>\n",
       "    </tr>\n",
       "    <tr>\n",
       "      <th>70</th>\n",
       "      <td>Nvidia GeForce GTX 960&lt;U+039C&gt;</td>\n",
       "      <td>2</td>\n",
       "    </tr>\n",
       "    <tr>\n",
       "      <th>71</th>\n",
       "      <td>Nvidia GeForce GTX 960M</td>\n",
       "      <td>6</td>\n",
       "    </tr>\n",
       "    <tr>\n",
       "      <th>72</th>\n",
       "      <td>Nvidia GeForce GTX 965M</td>\n",
       "      <td>1</td>\n",
       "    </tr>\n",
       "    <tr>\n",
       "      <th>73</th>\n",
       "      <td>Nvidia GeForce GTX 970M</td>\n",
       "      <td>3</td>\n",
       "    </tr>\n",
       "    <tr>\n",
       "      <th>74</th>\n",
       "      <td>Nvidia GeForce GTX 980M</td>\n",
       "      <td>7</td>\n",
       "    </tr>\n",
       "    <tr>\n",
       "      <th>75</th>\n",
       "      <td>Nvidia GeForce GTX1050 Ti</td>\n",
       "      <td>1</td>\n",
       "    </tr>\n",
       "    <tr>\n",
       "      <th>76</th>\n",
       "      <td>Nvidia GeForce GTX1060</td>\n",
       "      <td>1</td>\n",
       "    </tr>\n",
       "    <tr>\n",
       "      <th>77</th>\n",
       "      <td>Nvidia GeForce MX130</td>\n",
       "      <td>5</td>\n",
       "    </tr>\n",
       "    <tr>\n",
       "      <th>78</th>\n",
       "      <td>Nvidia GeForce MX150</td>\n",
       "      <td>11</td>\n",
       "    </tr>\n",
       "    <tr>\n",
       "      <th>79</th>\n",
       "      <td>Nvidia Quadro M1000M</td>\n",
       "      <td>4</td>\n",
       "    </tr>\n",
       "    <tr>\n",
       "      <th>80</th>\n",
       "      <td>Nvidia Quadro M1200</td>\n",
       "      <td>5</td>\n",
       "    </tr>\n",
       "    <tr>\n",
       "      <th>81</th>\n",
       "      <td>Nvidia Quadro M2000M</td>\n",
       "      <td>1</td>\n",
       "    </tr>\n",
       "    <tr>\n",
       "      <th>82</th>\n",
       "      <td>Nvidia Quadro M2200</td>\n",
       "      <td>2</td>\n",
       "    </tr>\n",
       "    <tr>\n",
       "      <th>83</th>\n",
       "      <td>Nvidia Quadro M2200M</td>\n",
       "      <td>1</td>\n",
       "    </tr>\n",
       "    <tr>\n",
       "      <th>84</th>\n",
       "      <td>Nvidia Quadro M500M</td>\n",
       "      <td>1</td>\n",
       "    </tr>\n",
       "    <tr>\n",
       "      <th>85</th>\n",
       "      <td>Nvidia Quadro M620</td>\n",
       "      <td>4</td>\n",
       "    </tr>\n",
       "    <tr>\n",
       "      <th>86</th>\n",
       "      <td>Nvidia Quadro M620M</td>\n",
       "      <td>1</td>\n",
       "    </tr>\n",
       "  </tbody>\n",
       "</table>\n",
       "</div>"
      ],
      "text/plain": [
       "                               GPU  Laptop_Brand\n",
       "0               AMD FirePro W4190M             2\n",
       "1               AMD FirePro W6150M             1\n",
       "2                   AMD R17M-M1-70             1\n",
       "3                  AMD R4 Graphics             1\n",
       "4                   AMD Radeon 520            16\n",
       "5                   AMD Radeon 530            34\n",
       "6               AMD Radeon Pro 555             1\n",
       "7               AMD Radeon Pro 560             1\n",
       "8                    AMD Radeon R2             4\n",
       "9           AMD Radeon R2 Graphics             2\n",
       "10                   AMD Radeon R3             1\n",
       "11                   AMD Radeon R4             3\n",
       "12          AMD Radeon R4 Graphics             3\n",
       "13                   AMD Radeon R5            10\n",
       "14               AMD Radeon R5 430             1\n",
       "15               AMD Radeon R5 520             1\n",
       "16              AMD Radeon R5 M315             1\n",
       "17              AMD Radeon R5 M330             4\n",
       "18              AMD Radeon R5 M420             4\n",
       "19             AMD Radeon R5 M420X             3\n",
       "20              AMD Radeon R5 M430            15\n",
       "21                   AMD Radeon R7             1\n",
       "22          AMD Radeon R7 Graphics             1\n",
       "23              AMD Radeon R7 M360             1\n",
       "24              AMD Radeon R7 M440             3\n",
       "25              AMD Radeon R7 M445            13\n",
       "26              AMD Radeon R7 M460             2\n",
       "27              AMD Radeon R9 M385             1\n",
       "28               AMD Radeon RX 540             1\n",
       "29               AMD Radeon RX 550             4\n",
       "30               AMD Radeon RX 560             1\n",
       "31               AMD Radeon RX 580             4\n",
       "32               Intel HD Graphics            21\n",
       "33           Intel HD Graphics 400            27\n",
       "34           Intel HD Graphics 405             9\n",
       "35           Intel HD Graphics 500            30\n",
       "36           Intel HD Graphics 505            12\n",
       "37           Intel HD Graphics 510             4\n",
       "38           Intel HD Graphics 515             6\n",
       "39           Intel HD Graphics 520           145\n",
       "40          Intel HD Graphics 5300             2\n",
       "41          Intel HD Graphics 6000             4\n",
       "42           Intel HD Graphics 615             7\n",
       "43           Intel HD Graphics 620           222\n",
       "44           Intel HD Graphics 630             3\n",
       "45         Intel Iris Graphics 540             1\n",
       "46         Intel Iris Graphics 550             1\n",
       "47    Intel Iris Plus Graphics 640             5\n",
       "48    Intel Iris Plus Graphics 650             1\n",
       "49          Intel UHD Graphics 620            45\n",
       "50            Nvidia GeForce 150MX             3\n",
       "51              Nvidia GeForce 920             1\n",
       "52             Nvidia GeForce 920M             4\n",
       "53            Nvidia GeForce 920MX            15\n",
       "54             Nvidia GeForce 930M             6\n",
       "55            Nvidia GeForce 930MX            20\n",
       "56             Nvidia GeForce 940M             1\n",
       "57            Nvidia GeForce 940MX            32\n",
       "58         Nvidia GeForce GT 940MX             3\n",
       "59         Nvidia GeForce GTX 1050            46\n",
       "60      Nvidia GeForce GTX 1050 Ti            15\n",
       "61        Nvidia GeForce GTX 1050M             3\n",
       "62         Nvidia GeForce GTX 1060            35\n",
       "63         Nvidia GeForce GTX 1070            12\n",
       "64         Nvidia GeForce GTX 1080             1\n",
       "65        Nvidia GeForce GTX 930MX             1\n",
       "66         Nvidia GeForce GTX 940M             1\n",
       "67        Nvidia GeForce GTX 940MX             3\n",
       "68         Nvidia GeForce GTX 950M             5\n",
       "69          Nvidia GeForce GTX 960             2\n",
       "70  Nvidia GeForce GTX 960<U+039C>             2\n",
       "71         Nvidia GeForce GTX 960M             6\n",
       "72         Nvidia GeForce GTX 965M             1\n",
       "73         Nvidia GeForce GTX 970M             3\n",
       "74         Nvidia GeForce GTX 980M             7\n",
       "75       Nvidia GeForce GTX1050 Ti             1\n",
       "76          Nvidia GeForce GTX1060             1\n",
       "77            Nvidia GeForce MX130             5\n",
       "78            Nvidia GeForce MX150            11\n",
       "79            Nvidia Quadro M1000M             4\n",
       "80             Nvidia Quadro M1200             5\n",
       "81            Nvidia Quadro M2000M             1\n",
       "82             Nvidia Quadro M2200             2\n",
       "83            Nvidia Quadro M2200M             1\n",
       "84             Nvidia Quadro M500M             1\n",
       "85              Nvidia Quadro M620             4\n",
       "86             Nvidia Quadro M620M             1"
      ]
     },
     "execution_count": 70,
     "metadata": {},
     "output_type": "execute_result"
    }
   ],
   "source": [
    "feat_cat.groupby(['GPU'], as_index=False)['Laptop_Brand'].count()"
   ]
  },
  {
   "cell_type": "markdown",
   "metadata": {},
   "source": [
    "Feature `TouchScreen`"
   ]
  },
  {
   "cell_type": "code",
   "execution_count": 71,
   "metadata": {},
   "outputs": [
    {
     "data": {
      "text/plain": [
       "0    842\n",
       "1    109\n",
       "Name: TouchScreen, dtype: int64"
      ]
     },
     "execution_count": 71,
     "metadata": {},
     "output_type": "execute_result"
    }
   ],
   "source": [
    "feat_cat['TouchScreen'].value_counts()"
   ]
  },
  {
   "cell_type": "markdown",
   "metadata": {},
   "source": [
    "Terlihat bahwa pada data train terdapat 873 laptop yang tidak menggunakan teknologi touchscreen dan 144 laptop menggunakan teknologi touchscreen."
   ]
  },
  {
   "cell_type": "markdown",
   "metadata": {},
   "source": [
    "Dari EDA yang telah dilakukan diatas, dapat dibuat list kolom kategori yaitu"
   ]
  },
  {
   "cell_type": "code",
   "execution_count": 72,
   "metadata": {},
   "outputs": [],
   "source": [
    "cat_col_final = ['Laptop_Brand', 'Laptop_Type', 'OpSys', 'CPU_Model', 'GPU', 'TouchScreen']"
   ]
  },
  {
   "cell_type": "markdown",
   "metadata": {},
   "source": [
    "### V.V Encoding dan Seleksi Feature Kategorik"
   ]
  },
  {
   "cell_type": "markdown",
   "metadata": {},
   "source": [
    "Feature kategori akan di encoding dan di seleksi menggunkan ANOVA score terhadap target `Price_euros`"
   ]
  },
  {
   "cell_type": "code",
   "execution_count": 73,
   "metadata": {},
   "outputs": [],
   "source": [
    "feat_cat_kor = eda_df_clean[cat_col_final].copy()\n",
    "ohe = OneHotEncoder(sparse=False)\n",
    "encoded = ohe.fit_transform(feat_cat_kor)\n",
    "colum_encod = ohe.get_feature_names(cat_col_final)\n",
    "feat_cat_encoded = pd.DataFrame(encoded, columns=colum_encod)"
   ]
  },
  {
   "cell_type": "code",
   "execution_count": 74,
   "metadata": {},
   "outputs": [],
   "source": [
    "feat_cat_encoded['Price_euros'] = eda_df_clean['Price_euros'].values"
   ]
  },
  {
   "cell_type": "code",
   "execution_count": 75,
   "metadata": {},
   "outputs": [
    {
     "data": {
      "text/html": [
       "<div>\n",
       "<style scoped>\n",
       "    .dataframe tbody tr th:only-of-type {\n",
       "        vertical-align: middle;\n",
       "    }\n",
       "\n",
       "    .dataframe tbody tr th {\n",
       "        vertical-align: top;\n",
       "    }\n",
       "\n",
       "    .dataframe thead th {\n",
       "        text-align: right;\n",
       "    }\n",
       "</style>\n",
       "<table border=\"1\" class=\"dataframe\">\n",
       "  <thead>\n",
       "    <tr style=\"text-align: right;\">\n",
       "      <th></th>\n",
       "      <th>ANOVA_SCORE</th>\n",
       "    </tr>\n",
       "  </thead>\n",
       "  <tbody>\n",
       "    <tr>\n",
       "      <th>GPU_AMD Radeon R5 M315</th>\n",
       "      <td>inf</td>\n",
       "    </tr>\n",
       "    <tr>\n",
       "      <th>CPU_Model_Intel Atom X5-Z8350</th>\n",
       "      <td>inf</td>\n",
       "    </tr>\n",
       "    <tr>\n",
       "      <th>CPU_Model_AMD A9-Series 9410</th>\n",
       "      <td>inf</td>\n",
       "    </tr>\n",
       "    <tr>\n",
       "      <th>GPU_Nvidia GeForce GTX1060</th>\n",
       "      <td>inf</td>\n",
       "    </tr>\n",
       "    <tr>\n",
       "      <th>CPU_Model_AMD A6-Series A6-9220</th>\n",
       "      <td>inf</td>\n",
       "    </tr>\n",
       "    <tr>\n",
       "      <th>CPU_Model_AMD E-Series 6110</th>\n",
       "      <td>inf</td>\n",
       "    </tr>\n",
       "    <tr>\n",
       "      <th>CPU_Model_AMD E-Series 9000e</th>\n",
       "      <td>inf</td>\n",
       "    </tr>\n",
       "    <tr>\n",
       "      <th>GPU_Nvidia Quadro M1200</th>\n",
       "      <td>inf</td>\n",
       "    </tr>\n",
       "    <tr>\n",
       "      <th>GPU_Nvidia Quadro M2000M</th>\n",
       "      <td>inf</td>\n",
       "    </tr>\n",
       "    <tr>\n",
       "      <th>GPU_Intel Iris Plus Graphics 650</th>\n",
       "      <td>inf</td>\n",
       "    </tr>\n",
       "    <tr>\n",
       "      <th>GPU_Nvidia GeForce GTX 960&lt;U+039C&gt;</th>\n",
       "      <td>inf</td>\n",
       "    </tr>\n",
       "    <tr>\n",
       "      <th>GPU_Nvidia Quadro M500M</th>\n",
       "      <td>inf</td>\n",
       "    </tr>\n",
       "    <tr>\n",
       "      <th>CPU_Model_AMD Ryzen 1600</th>\n",
       "      <td>inf</td>\n",
       "    </tr>\n",
       "    <tr>\n",
       "      <th>GPU_Intel Iris Graphics 540</th>\n",
       "      <td>inf</td>\n",
       "    </tr>\n",
       "    <tr>\n",
       "      <th>GPU_Nvidia GeForce GTX 960</th>\n",
       "      <td>inf</td>\n",
       "    </tr>\n",
       "    <tr>\n",
       "      <th>GPU_Intel HD Graphics 5300</th>\n",
       "      <td>inf</td>\n",
       "    </tr>\n",
       "    <tr>\n",
       "      <th>GPU_Nvidia GeForce GTX1050 Ti</th>\n",
       "      <td>inf</td>\n",
       "    </tr>\n",
       "    <tr>\n",
       "      <th>GPU_Nvidia GeForce GTX 930MX</th>\n",
       "      <td>inf</td>\n",
       "    </tr>\n",
       "    <tr>\n",
       "      <th>CPU_Model_Intel Atom x5-Z8300</th>\n",
       "      <td>inf</td>\n",
       "    </tr>\n",
       "    <tr>\n",
       "      <th>GPU_Nvidia GeForce GTX 1080</th>\n",
       "      <td>inf</td>\n",
       "    </tr>\n",
       "    <tr>\n",
       "      <th>GPU_AMD Radeon RX 550</th>\n",
       "      <td>inf</td>\n",
       "    </tr>\n",
       "    <tr>\n",
       "      <th>CPU_Model_Intel Xeon E3-1505M</th>\n",
       "      <td>inf</td>\n",
       "    </tr>\n",
       "    <tr>\n",
       "      <th>CPU_Model_Intel Xeon E3-1535M</th>\n",
       "      <td>inf</td>\n",
       "    </tr>\n",
       "    <tr>\n",
       "      <th>GPU_Nvidia Quadro M620M</th>\n",
       "      <td>inf</td>\n",
       "    </tr>\n",
       "    <tr>\n",
       "      <th>GPU_AMD R17M-M1-70</th>\n",
       "      <td>inf</td>\n",
       "    </tr>\n",
       "    <tr>\n",
       "      <th>GPU_Nvidia GeForce 940M</th>\n",
       "      <td>inf</td>\n",
       "    </tr>\n",
       "    <tr>\n",
       "      <th>GPU_AMD Radeon Pro 555</th>\n",
       "      <td>inf</td>\n",
       "    </tr>\n",
       "    <tr>\n",
       "      <th>GPU_AMD Radeon Pro 560</th>\n",
       "      <td>inf</td>\n",
       "    </tr>\n",
       "    <tr>\n",
       "      <th>GPU_Nvidia GeForce 920M</th>\n",
       "      <td>inf</td>\n",
       "    </tr>\n",
       "    <tr>\n",
       "      <th>GPU_Intel Iris Graphics 550</th>\n",
       "      <td>inf</td>\n",
       "    </tr>\n",
       "    <tr>\n",
       "      <th>CPU_Model_Intel Atom x5-Z8350</th>\n",
       "      <td>4.609279</td>\n",
       "    </tr>\n",
       "    <tr>\n",
       "      <th>CPU_Model_Intel Celeron Dual</th>\n",
       "      <td>3.479192</td>\n",
       "    </tr>\n",
       "    <tr>\n",
       "      <th>OpSys_Mac</th>\n",
       "      <td>3.468625</td>\n",
       "    </tr>\n",
       "    <tr>\n",
       "      <th>Laptop_Brand_Apple</th>\n",
       "      <td>3.468625</td>\n",
       "    </tr>\n",
       "    <tr>\n",
       "      <th>GPU_Intel HD Graphics 500</th>\n",
       "      <td>2.810853</td>\n",
       "    </tr>\n",
       "    <tr>\n",
       "      <th>Laptop_Brand_Toshiba</th>\n",
       "      <td>2.666554</td>\n",
       "    </tr>\n",
       "    <tr>\n",
       "      <th>GPU_Nvidia Quadro M620</th>\n",
       "      <td>2.562757</td>\n",
       "    </tr>\n",
       "    <tr>\n",
       "      <th>GPU_Intel Iris Plus Graphics 640</th>\n",
       "      <td>2.331754</td>\n",
       "    </tr>\n",
       "    <tr>\n",
       "      <th>Laptop_Type_Netbook</th>\n",
       "      <td>2.185945</td>\n",
       "    </tr>\n",
       "    <tr>\n",
       "      <th>GPU_Nvidia GeForce 930M</th>\n",
       "      <td>2.117484</td>\n",
       "    </tr>\n",
       "    <tr>\n",
       "      <th>GPU_Intel HD Graphics</th>\n",
       "      <td>2.023879</td>\n",
       "    </tr>\n",
       "    <tr>\n",
       "      <th>Laptop_Type_Notebook</th>\n",
       "      <td>2.011591</td>\n",
       "    </tr>\n",
       "    <tr>\n",
       "      <th>GPU_AMD Radeon R5 M420</th>\n",
       "      <td>1.947175</td>\n",
       "    </tr>\n",
       "    <tr>\n",
       "      <th>GPU_AMD Radeon R2</th>\n",
       "      <td>1.947175</td>\n",
       "    </tr>\n",
       "    <tr>\n",
       "      <th>OpSys_Linux</th>\n",
       "      <td>1.934738</td>\n",
       "    </tr>\n",
       "    <tr>\n",
       "      <th>Laptop_Type_Workstation</th>\n",
       "      <td>1.933953</td>\n",
       "    </tr>\n",
       "    <tr>\n",
       "      <th>GPU_Nvidia GeForce MX150</th>\n",
       "      <td>1.861082</td>\n",
       "    </tr>\n",
       "    <tr>\n",
       "      <th>CPU_Model_Intel Core i7</th>\n",
       "      <td>1.803105</td>\n",
       "    </tr>\n",
       "    <tr>\n",
       "      <th>GPU_AMD Radeon R5 M420X</th>\n",
       "      <td>1.795717</td>\n",
       "    </tr>\n",
       "    <tr>\n",
       "      <th>GPU_Nvidia GeForce GTX 1050M</th>\n",
       "      <td>1.795717</td>\n",
       "    </tr>\n",
       "    <tr>\n",
       "      <th>GPU_Nvidia GeForce GTX 970M</th>\n",
       "      <td>1.795717</td>\n",
       "    </tr>\n",
       "    <tr>\n",
       "      <th>GPU_Nvidia GeForce GTX 1070</th>\n",
       "      <td>1.773779</td>\n",
       "    </tr>\n",
       "    <tr>\n",
       "      <th>GPU_Intel HD Graphics 520</th>\n",
       "      <td>1.713004</td>\n",
       "    </tr>\n",
       "    <tr>\n",
       "      <th>GPU_Nvidia GeForce MX130</th>\n",
       "      <td>1.681033</td>\n",
       "    </tr>\n",
       "    <tr>\n",
       "      <th>GPU_Nvidia GeForce GTX 980M</th>\n",
       "      <td>1.654253</td>\n",
       "    </tr>\n",
       "    <tr>\n",
       "      <th>GPU_AMD FirePro W4190M</th>\n",
       "      <td>1.541121</td>\n",
       "    </tr>\n",
       "    <tr>\n",
       "      <th>CPU_Model_AMD A10-Series A10-9620P</th>\n",
       "      <td>1.541121</td>\n",
       "    </tr>\n",
       "    <tr>\n",
       "      <th>GPU_Nvidia Quadro M2200</th>\n",
       "      <td>1.541121</td>\n",
       "    </tr>\n",
       "    <tr>\n",
       "      <th>GPU_AMD Radeon R4 Graphics</th>\n",
       "      <td>1.538954</td>\n",
       "    </tr>\n",
       "    <tr>\n",
       "      <th>Laptop_Brand_MSI</th>\n",
       "      <td>1.536525</td>\n",
       "    </tr>\n",
       "    <tr>\n",
       "      <th>GPU_AMD Radeon R5 M430</th>\n",
       "      <td>1.486267</td>\n",
       "    </tr>\n",
       "    <tr>\n",
       "      <th>GPU_Nvidia GeForce 930MX</th>\n",
       "      <td>1.449722</td>\n",
       "    </tr>\n",
       "    <tr>\n",
       "      <th>CPU_Model_Intel Core i5</th>\n",
       "      <td>1.411673</td>\n",
       "    </tr>\n",
       "    <tr>\n",
       "      <th>GPU_Intel HD Graphics 400</th>\n",
       "      <td>1.370550</td>\n",
       "    </tr>\n",
       "    <tr>\n",
       "      <th>CPU_Model_Intel Core i3</th>\n",
       "      <td>1.352058</td>\n",
       "    </tr>\n",
       "    <tr>\n",
       "      <th>Laptop_Type_Ultrabook</th>\n",
       "      <td>1.297177</td>\n",
       "    </tr>\n",
       "    <tr>\n",
       "      <th>CPU_Model_Intel Pentium Quad</th>\n",
       "      <td>1.286741</td>\n",
       "    </tr>\n",
       "    <tr>\n",
       "      <th>GPU_AMD Radeon R5</th>\n",
       "      <td>1.283912</td>\n",
       "    </tr>\n",
       "    <tr>\n",
       "      <th>Laptop_Brand_Dell</th>\n",
       "      <td>1.271655</td>\n",
       "    </tr>\n",
       "    <tr>\n",
       "      <th>OpSys_Windows</th>\n",
       "      <td>1.250753</td>\n",
       "    </tr>\n",
       "    <tr>\n",
       "      <th>GPU_Intel HD Graphics 505</th>\n",
       "      <td>1.228795</td>\n",
       "    </tr>\n",
       "    <tr>\n",
       "      <th>GPU_AMD Radeon R7 M445</th>\n",
       "      <td>1.187556</td>\n",
       "    </tr>\n",
       "    <tr>\n",
       "      <th>GPU_Nvidia GeForce GT 940MX</th>\n",
       "      <td>1.179486</td>\n",
       "    </tr>\n",
       "    <tr>\n",
       "      <th>CPU_Model_Intel Core M</th>\n",
       "      <td>1.160995</td>\n",
       "    </tr>\n",
       "    <tr>\n",
       "      <th>Laptop_Type_Gaming</th>\n",
       "      <td>1.118597</td>\n",
       "    </tr>\n",
       "    <tr>\n",
       "      <th>GPU_Intel HD Graphics 620</th>\n",
       "      <td>1.094551</td>\n",
       "    </tr>\n",
       "    <tr>\n",
       "      <th>GPU_AMD Radeon 520</th>\n",
       "      <td>1.061795</td>\n",
       "    </tr>\n",
       "    <tr>\n",
       "      <th>Laptop_Brand_Lenovo</th>\n",
       "      <td>1.045205</td>\n",
       "    </tr>\n",
       "    <tr>\n",
       "      <th>Laptop_Brand_Acer</th>\n",
       "      <td>1.025377</td>\n",
       "    </tr>\n",
       "    <tr>\n",
       "      <th>CPU_Model_AMD A9-Series 9420</th>\n",
       "      <td>1.024088</td>\n",
       "    </tr>\n",
       "    <tr>\n",
       "      <th>OpSys_Others</th>\n",
       "      <td>0.997801</td>\n",
       "    </tr>\n",
       "    <tr>\n",
       "      <th>Laptop_Brand_HP</th>\n",
       "      <td>0.991177</td>\n",
       "    </tr>\n",
       "    <tr>\n",
       "      <th>GPU_Intel HD Graphics 510</th>\n",
       "      <td>0.962245</td>\n",
       "    </tr>\n",
       "    <tr>\n",
       "      <th>GPU_Intel HD Graphics 6000</th>\n",
       "      <td>0.941063</td>\n",
       "    </tr>\n",
       "    <tr>\n",
       "      <th>GPU_Nvidia GeForce GTX 1050</th>\n",
       "      <td>0.911674</td>\n",
       "    </tr>\n",
       "    <tr>\n",
       "      <th>GPU_Nvidia GeForce GTX 960M</th>\n",
       "      <td>0.888030</td>\n",
       "    </tr>\n",
       "    <tr>\n",
       "      <th>OpSys_DOS</th>\n",
       "      <td>0.882517</td>\n",
       "    </tr>\n",
       "    <tr>\n",
       "      <th>Laptop_Brand_Asus</th>\n",
       "      <td>0.849972</td>\n",
       "    </tr>\n",
       "    <tr>\n",
       "      <th>GPU_Intel HD Graphics 615</th>\n",
       "      <td>0.827168</td>\n",
       "    </tr>\n",
       "    <tr>\n",
       "      <th>GPU_Intel UHD Graphics 620</th>\n",
       "      <td>0.760644</td>\n",
       "    </tr>\n",
       "    <tr>\n",
       "      <th>GPU_AMD Radeon R5 M330</th>\n",
       "      <td>0.723088</td>\n",
       "    </tr>\n",
       "    <tr>\n",
       "      <th>CPU_Model_AMD E-Series E2-9000e</th>\n",
       "      <td>0.718612</td>\n",
       "    </tr>\n",
       "    <tr>\n",
       "      <th>CPU_Model_Intel Atom x5-Z8550</th>\n",
       "      <td>0.718612</td>\n",
       "    </tr>\n",
       "    <tr>\n",
       "      <th>GPU_AMD Radeon 530</th>\n",
       "      <td>0.715554</td>\n",
       "    </tr>\n",
       "    <tr>\n",
       "      <th>TouchScreen_0</th>\n",
       "      <td>0.709361</td>\n",
       "    </tr>\n",
       "    <tr>\n",
       "      <th>TouchScreen_1</th>\n",
       "      <td>0.709361</td>\n",
       "    </tr>\n",
       "    <tr>\n",
       "      <th>GPU_Nvidia Quadro M1000M</th>\n",
       "      <td>0.657385</td>\n",
       "    </tr>\n",
       "    <tr>\n",
       "      <th>GPU_Nvidia GeForce GTX 1060</th>\n",
       "      <td>0.650401</td>\n",
       "    </tr>\n",
       "    <tr>\n",
       "      <th>CPU_Model_Intel Pentium Dual</th>\n",
       "      <td>0.641502</td>\n",
       "    </tr>\n",
       "    <tr>\n",
       "      <th>GPU_Intel HD Graphics 515</th>\n",
       "      <td>0.633038</td>\n",
       "    </tr>\n",
       "    <tr>\n",
       "      <th>CPU_Model_Intel Celeron Quad</th>\n",
       "      <td>0.623611</td>\n",
       "    </tr>\n",
       "    <tr>\n",
       "      <th>Laptop_Type_2 in 1 Convertible</th>\n",
       "      <td>0.618085</td>\n",
       "    </tr>\n",
       "    <tr>\n",
       "      <th>Laptop_Brand_Others Brand</th>\n",
       "      <td>0.611293</td>\n",
       "    </tr>\n",
       "    <tr>\n",
       "      <th>GPU_Intel HD Graphics 630</th>\n",
       "      <td>0.605270</td>\n",
       "    </tr>\n",
       "    <tr>\n",
       "      <th>GPU_AMD Radeon R7 M440</th>\n",
       "      <td>0.594066</td>\n",
       "    </tr>\n",
       "    <tr>\n",
       "      <th>GPU_Nvidia GeForce 150MX</th>\n",
       "      <td>0.594066</td>\n",
       "    </tr>\n",
       "    <tr>\n",
       "      <th>GPU_AMD Radeon RX 580</th>\n",
       "      <td>0.579216</td>\n",
       "    </tr>\n",
       "    <tr>\n",
       "      <th>GPU_Nvidia GeForce 920MX</th>\n",
       "      <td>0.577403</td>\n",
       "    </tr>\n",
       "    <tr>\n",
       "      <th>GPU_Nvidia GeForce 940MX</th>\n",
       "      <td>0.565705</td>\n",
       "    </tr>\n",
       "    <tr>\n",
       "      <th>GPU_AMD FirePro W6150M</th>\n",
       "      <td>0.514068</td>\n",
       "    </tr>\n",
       "    <tr>\n",
       "      <th>GPU_AMD Radeon R7</th>\n",
       "      <td>0.514068</td>\n",
       "    </tr>\n",
       "    <tr>\n",
       "      <th>GPU_Nvidia Quadro M2200M</th>\n",
       "      <td>0.514068</td>\n",
       "    </tr>\n",
       "    <tr>\n",
       "      <th>CPU_Model_AMD A6-Series 7310</th>\n",
       "      <td>0.514068</td>\n",
       "    </tr>\n",
       "    <tr>\n",
       "      <th>CPU_Model_Intel Atom Z8350</th>\n",
       "      <td>0.514068</td>\n",
       "    </tr>\n",
       "    <tr>\n",
       "      <th>GPU_Intel HD Graphics 405</th>\n",
       "      <td>0.451688</td>\n",
       "    </tr>\n",
       "    <tr>\n",
       "      <th>GPU_AMD Radeon R4</th>\n",
       "      <td>0.409196</td>\n",
       "    </tr>\n",
       "    <tr>\n",
       "      <th>CPU_Model_AMD A6-Series 9220</th>\n",
       "      <td>0.406271</td>\n",
       "    </tr>\n",
       "    <tr>\n",
       "      <th>GPU_Nvidia GeForce GTX 1050 Ti</th>\n",
       "      <td>0.395804</td>\n",
       "    </tr>\n",
       "    <tr>\n",
       "      <th>GPU_Nvidia GeForce GTX 950M</th>\n",
       "      <td>0.334202</td>\n",
       "    </tr>\n",
       "    <tr>\n",
       "      <th>CPU_Model_AMD A9-Series A9-9420</th>\n",
       "      <td>0.307357</td>\n",
       "    </tr>\n",
       "    <tr>\n",
       "      <th>CPU_Model_AMD Ryzen 1700</th>\n",
       "      <td>0.306491</td>\n",
       "    </tr>\n",
       "    <tr>\n",
       "      <th>CPU_Model_AMD A12-Series 9720P</th>\n",
       "      <td>0.296034</td>\n",
       "    </tr>\n",
       "    <tr>\n",
       "      <th>GPU_AMD Radeon R7 M460</th>\n",
       "      <td>0.275723</td>\n",
       "    </tr>\n",
       "    <tr>\n",
       "      <th>GPU_AMD R4 Graphics</th>\n",
       "      <td>0.256763</td>\n",
       "    </tr>\n",
       "    <tr>\n",
       "      <th>CPU_Model_AMD A4-Series 7210</th>\n",
       "      <td>0.256763</td>\n",
       "    </tr>\n",
       "    <tr>\n",
       "      <th>GPU_AMD Radeon R3</th>\n",
       "      <td>0.256763</td>\n",
       "    </tr>\n",
       "    <tr>\n",
       "      <th>GPU_Nvidia GeForce 920</th>\n",
       "      <td>0.256763</td>\n",
       "    </tr>\n",
       "    <tr>\n",
       "      <th>CPU_Model_AMD E-Series 7110</th>\n",
       "      <td>0.255951</td>\n",
       "    </tr>\n",
       "    <tr>\n",
       "      <th>GPU_AMD Radeon R2 Graphics</th>\n",
       "      <td>0.255951</td>\n",
       "    </tr>\n",
       "    <tr>\n",
       "      <th>CPU_Model_AMD A10-Series 9600P</th>\n",
       "      <td>0.225107</td>\n",
       "    </tr>\n",
       "    <tr>\n",
       "      <th>GPU_Nvidia GeForce GTX 940M</th>\n",
       "      <td>0.170995</td>\n",
       "    </tr>\n",
       "    <tr>\n",
       "      <th>CPU_Model_AMD A8-Series 7410</th>\n",
       "      <td>0.145097</td>\n",
       "    </tr>\n",
       "    <tr>\n",
       "      <th>GPU_Nvidia GeForce GTX 965M</th>\n",
       "      <td>0.128111</td>\n",
       "    </tr>\n",
       "    <tr>\n",
       "      <th>CPU_Model_AMD A12-Series 9700P</th>\n",
       "      <td>0.128111</td>\n",
       "    </tr>\n",
       "    <tr>\n",
       "      <th>GPU_AMD Radeon R7 Graphics</th>\n",
       "      <td>0.128111</td>\n",
       "    </tr>\n",
       "    <tr>\n",
       "      <th>GPU_Nvidia GeForce GTX 940MX</th>\n",
       "      <td>0.122330</td>\n",
       "    </tr>\n",
       "    <tr>\n",
       "      <th>CPU_Model_AMD FX 9830P</th>\n",
       "      <td>0.102380</td>\n",
       "    </tr>\n",
       "    <tr>\n",
       "      <th>GPU_AMD Radeon RX 560</th>\n",
       "      <td>0.102380</td>\n",
       "    </tr>\n",
       "    <tr>\n",
       "      <th>GPU_AMD Radeon R5 520</th>\n",
       "      <td>0.102380</td>\n",
       "    </tr>\n",
       "    <tr>\n",
       "      <th>GPU_AMD Radeon RX 540</th>\n",
       "      <td>0.085227</td>\n",
       "    </tr>\n",
       "    <tr>\n",
       "      <th>CPU_Model_AMD FX 8800P</th>\n",
       "      <td>0.063785</td>\n",
       "    </tr>\n",
       "    <tr>\n",
       "      <th>GPU_AMD Radeon R9 M385</th>\n",
       "      <td>0.063785</td>\n",
       "    </tr>\n",
       "    <tr>\n",
       "      <th>GPU_AMD Radeon R5 430</th>\n",
       "      <td>0.063785</td>\n",
       "    </tr>\n",
       "    <tr>\n",
       "      <th>GPU_AMD Radeon R7 M360</th>\n",
       "      <td>0.050919</td>\n",
       "    </tr>\n",
       "  </tbody>\n",
       "</table>\n",
       "</div>"
      ],
      "text/plain": [
       "                                    ANOVA_SCORE\n",
       "GPU_AMD Radeon R5 M315                      inf\n",
       "CPU_Model_Intel Atom X5-Z8350               inf\n",
       "CPU_Model_AMD A9-Series 9410                inf\n",
       "GPU_Nvidia GeForce GTX1060                  inf\n",
       "CPU_Model_AMD A6-Series A6-9220             inf\n",
       "CPU_Model_AMD E-Series 6110                 inf\n",
       "CPU_Model_AMD E-Series 9000e                inf\n",
       "GPU_Nvidia Quadro M1200                     inf\n",
       "GPU_Nvidia Quadro M2000M                    inf\n",
       "GPU_Intel Iris Plus Graphics 650            inf\n",
       "GPU_Nvidia GeForce GTX 960<U+039C>          inf\n",
       "GPU_Nvidia Quadro M500M                     inf\n",
       "CPU_Model_AMD Ryzen 1600                    inf\n",
       "GPU_Intel Iris Graphics 540                 inf\n",
       "GPU_Nvidia GeForce GTX 960                  inf\n",
       "GPU_Intel HD Graphics 5300                  inf\n",
       "GPU_Nvidia GeForce GTX1050 Ti               inf\n",
       "GPU_Nvidia GeForce GTX 930MX                inf\n",
       "CPU_Model_Intel Atom x5-Z8300               inf\n",
       "GPU_Nvidia GeForce GTX 1080                 inf\n",
       "GPU_AMD Radeon RX 550                       inf\n",
       "CPU_Model_Intel Xeon E3-1505M               inf\n",
       "CPU_Model_Intel Xeon E3-1535M               inf\n",
       "GPU_Nvidia Quadro M620M                     inf\n",
       "GPU_AMD R17M-M1-70                          inf\n",
       "GPU_Nvidia GeForce 940M                     inf\n",
       "GPU_AMD Radeon Pro 555                      inf\n",
       "GPU_AMD Radeon Pro 560                      inf\n",
       "GPU_Nvidia GeForce 920M                     inf\n",
       "GPU_Intel Iris Graphics 550                 inf\n",
       "CPU_Model_Intel Atom x5-Z8350          4.609279\n",
       "CPU_Model_Intel Celeron Dual           3.479192\n",
       "OpSys_Mac                              3.468625\n",
       "Laptop_Brand_Apple                     3.468625\n",
       "GPU_Intel HD Graphics 500              2.810853\n",
       "Laptop_Brand_Toshiba                   2.666554\n",
       "GPU_Nvidia Quadro M620                 2.562757\n",
       "GPU_Intel Iris Plus Graphics 640       2.331754\n",
       "Laptop_Type_Netbook                    2.185945\n",
       "GPU_Nvidia GeForce 930M                2.117484\n",
       "GPU_Intel HD Graphics                  2.023879\n",
       "Laptop_Type_Notebook                   2.011591\n",
       "GPU_AMD Radeon R5 M420                 1.947175\n",
       "GPU_AMD Radeon R2                      1.947175\n",
       "OpSys_Linux                            1.934738\n",
       "Laptop_Type_Workstation                1.933953\n",
       "GPU_Nvidia GeForce MX150               1.861082\n",
       "CPU_Model_Intel Core i7                1.803105\n",
       "GPU_AMD Radeon R5 M420X                1.795717\n",
       "GPU_Nvidia GeForce GTX 1050M           1.795717\n",
       "GPU_Nvidia GeForce GTX 970M            1.795717\n",
       "GPU_Nvidia GeForce GTX 1070            1.773779\n",
       "GPU_Intel HD Graphics 520              1.713004\n",
       "GPU_Nvidia GeForce MX130               1.681033\n",
       "GPU_Nvidia GeForce GTX 980M            1.654253\n",
       "GPU_AMD FirePro W4190M                 1.541121\n",
       "CPU_Model_AMD A10-Series A10-9620P     1.541121\n",
       "GPU_Nvidia Quadro M2200                1.541121\n",
       "GPU_AMD Radeon R4 Graphics             1.538954\n",
       "Laptop_Brand_MSI                       1.536525\n",
       "GPU_AMD Radeon R5 M430                 1.486267\n",
       "GPU_Nvidia GeForce 930MX               1.449722\n",
       "CPU_Model_Intel Core i5                1.411673\n",
       "GPU_Intel HD Graphics 400              1.370550\n",
       "CPU_Model_Intel Core i3                1.352058\n",
       "Laptop_Type_Ultrabook                  1.297177\n",
       "CPU_Model_Intel Pentium Quad           1.286741\n",
       "GPU_AMD Radeon R5                      1.283912\n",
       "Laptop_Brand_Dell                      1.271655\n",
       "OpSys_Windows                          1.250753\n",
       "GPU_Intel HD Graphics 505              1.228795\n",
       "GPU_AMD Radeon R7 M445                 1.187556\n",
       "GPU_Nvidia GeForce GT 940MX            1.179486\n",
       "CPU_Model_Intel Core M                 1.160995\n",
       "Laptop_Type_Gaming                     1.118597\n",
       "GPU_Intel HD Graphics 620              1.094551\n",
       "GPU_AMD Radeon 520                     1.061795\n",
       "Laptop_Brand_Lenovo                    1.045205\n",
       "Laptop_Brand_Acer                      1.025377\n",
       "CPU_Model_AMD A9-Series 9420           1.024088\n",
       "OpSys_Others                           0.997801\n",
       "Laptop_Brand_HP                        0.991177\n",
       "GPU_Intel HD Graphics 510              0.962245\n",
       "GPU_Intel HD Graphics 6000             0.941063\n",
       "GPU_Nvidia GeForce GTX 1050            0.911674\n",
       "GPU_Nvidia GeForce GTX 960M            0.888030\n",
       "OpSys_DOS                              0.882517\n",
       "Laptop_Brand_Asus                      0.849972\n",
       "GPU_Intel HD Graphics 615              0.827168\n",
       "GPU_Intel UHD Graphics 620             0.760644\n",
       "GPU_AMD Radeon R5 M330                 0.723088\n",
       "CPU_Model_AMD E-Series E2-9000e        0.718612\n",
       "CPU_Model_Intel Atom x5-Z8550          0.718612\n",
       "GPU_AMD Radeon 530                     0.715554\n",
       "TouchScreen_0                          0.709361\n",
       "TouchScreen_1                          0.709361\n",
       "GPU_Nvidia Quadro M1000M               0.657385\n",
       "GPU_Nvidia GeForce GTX 1060            0.650401\n",
       "CPU_Model_Intel Pentium Dual           0.641502\n",
       "GPU_Intel HD Graphics 515              0.633038\n",
       "CPU_Model_Intel Celeron Quad           0.623611\n",
       "Laptop_Type_2 in 1 Convertible         0.618085\n",
       "Laptop_Brand_Others Brand              0.611293\n",
       "GPU_Intel HD Graphics 630              0.605270\n",
       "GPU_AMD Radeon R7 M440                 0.594066\n",
       "GPU_Nvidia GeForce 150MX               0.594066\n",
       "GPU_AMD Radeon RX 580                  0.579216\n",
       "GPU_Nvidia GeForce 920MX               0.577403\n",
       "GPU_Nvidia GeForce 940MX               0.565705\n",
       "GPU_AMD FirePro W6150M                 0.514068\n",
       "GPU_AMD Radeon R7                      0.514068\n",
       "GPU_Nvidia Quadro M2200M               0.514068\n",
       "CPU_Model_AMD A6-Series 7310           0.514068\n",
       "CPU_Model_Intel Atom Z8350             0.514068\n",
       "GPU_Intel HD Graphics 405              0.451688\n",
       "GPU_AMD Radeon R4                      0.409196\n",
       "CPU_Model_AMD A6-Series 9220           0.406271\n",
       "GPU_Nvidia GeForce GTX 1050 Ti         0.395804\n",
       "GPU_Nvidia GeForce GTX 950M            0.334202\n",
       "CPU_Model_AMD A9-Series A9-9420        0.307357\n",
       "CPU_Model_AMD Ryzen 1700               0.306491\n",
       "CPU_Model_AMD A12-Series 9720P         0.296034\n",
       "GPU_AMD Radeon R7 M460                 0.275723\n",
       "GPU_AMD R4 Graphics                    0.256763\n",
       "CPU_Model_AMD A4-Series 7210           0.256763\n",
       "GPU_AMD Radeon R3                      0.256763\n",
       "GPU_Nvidia GeForce 920                 0.256763\n",
       "CPU_Model_AMD E-Series 7110            0.255951\n",
       "GPU_AMD Radeon R2 Graphics             0.255951\n",
       "CPU_Model_AMD A10-Series 9600P         0.225107\n",
       "GPU_Nvidia GeForce GTX 940M            0.170995\n",
       "CPU_Model_AMD A8-Series 7410           0.145097\n",
       "GPU_Nvidia GeForce GTX 965M            0.128111\n",
       "CPU_Model_AMD A12-Series 9700P         0.128111\n",
       "GPU_AMD Radeon R7 Graphics             0.128111\n",
       "GPU_Nvidia GeForce GTX 940MX           0.122330\n",
       "CPU_Model_AMD FX 9830P                 0.102380\n",
       "GPU_AMD Radeon RX 560                  0.102380\n",
       "GPU_AMD Radeon R5 520                  0.102380\n",
       "GPU_AMD Radeon RX 540                  0.085227\n",
       "CPU_Model_AMD FX 8800P                 0.063785\n",
       "GPU_AMD Radeon R9 M385                 0.063785\n",
       "GPU_AMD Radeon R5 430                  0.063785\n",
       "GPU_AMD Radeon R7 M360                 0.050919"
      ]
     },
     "execution_count": 75,
     "metadata": {},
     "output_type": "execute_result"
    }
   ],
   "source": [
    "f_test = SelectKBest(score_func=f_classif, k=4)\n",
    "fit = f_test.fit(feat_cat_encoded[colum_encod], feat_cat_encoded['Price_euros'])\n",
    "result = pd.DataFrame(fit.scores_, index=feat_cat_encoded[colum_encod].columns, columns=['ANOVA_SCORE'])\n",
    "result.sort_values(by='ANOVA_SCORE', ascending=False)"
   ]
  },
  {
   "cell_type": "markdown",
   "metadata": {},
   "source": [
    "Dari hasil diatas, terdapat beberapa jenis Model CPU dan GPU yang memiliki score yang kecil namun bila dilihat secara keseluruhan `GPU_Model` dan `CPU_Model` memiliki hubungan terhadap Target. Sehingga seluruh feature kategori yang telah ditetapkan sebelumnya akan dipakai seluruhnya."
   ]
  },
  {
   "cell_type": "markdown",
   "metadata": {},
   "source": [
    "List Feature yang digunakan"
   ]
  },
  {
   "cell_type": "code",
   "execution_count": 76,
   "metadata": {},
   "outputs": [],
   "source": [
    "num_col_final = ['PPI', 'CPU_GHz', 'RAM_GB', 'Total_Storage_GB']\n",
    "cat_col_final = ['Laptop_Brand', 'Laptop_Type', 'OpSys', 'CPU_Model', 'GPU', 'TouchScreen']\n",
    "num_cat_target = ['PPI', 'CPU_GHz', 'RAM_GB', 'Total_Storage_GB', 'Laptop_Brand', 'Laptop_Type', 'OpSys', 'CPU_Model', 'GPU', 'TouchScreen', 'Price_euros']"
   ]
  },
  {
   "cell_type": "markdown",
   "metadata": {},
   "source": [
    "Data train final"
   ]
  },
  {
   "cell_type": "code",
   "execution_count": 77,
   "metadata": {},
   "outputs": [],
   "source": [
    "eda_df_final = eda_df_clean[num_cat_target]"
   ]
  },
  {
   "cell_type": "markdown",
   "metadata": {},
   "source": [
    "### V.VI Data Test"
   ]
  },
  {
   "cell_type": "markdown",
   "metadata": {},
   "source": [
    "concat data test"
   ]
  },
  {
   "cell_type": "code",
   "execution_count": 78,
   "metadata": {},
   "outputs": [
    {
     "data": {
      "text/html": [
       "<div>\n",
       "<style scoped>\n",
       "    .dataframe tbody tr th:only-of-type {\n",
       "        vertical-align: middle;\n",
       "    }\n",
       "\n",
       "    .dataframe tbody tr th {\n",
       "        vertical-align: top;\n",
       "    }\n",
       "\n",
       "    .dataframe thead th {\n",
       "        text-align: right;\n",
       "    }\n",
       "</style>\n",
       "<table border=\"1\" class=\"dataframe\">\n",
       "  <thead>\n",
       "    <tr style=\"text-align: right;\">\n",
       "      <th></th>\n",
       "      <th>Laptop_Brand</th>\n",
       "      <th>Product</th>\n",
       "      <th>Laptop_Type</th>\n",
       "      <th>Inches</th>\n",
       "      <th>RAM_GB</th>\n",
       "      <th>GPU</th>\n",
       "      <th>OpSys</th>\n",
       "      <th>Weight_Kg</th>\n",
       "      <th>HDD_GB</th>\n",
       "      <th>SSD_GB</th>\n",
       "      <th>Hybrid_GB</th>\n",
       "      <th>Flash_Storage_GB</th>\n",
       "      <th>CPU_GHz</th>\n",
       "      <th>CPU_Model</th>\n",
       "      <th>TouchScreen</th>\n",
       "      <th>Resolution_X</th>\n",
       "      <th>Resolution_Y</th>\n",
       "      <th>Price_euros</th>\n",
       "    </tr>\n",
       "  </thead>\n",
       "  <tbody>\n",
       "    <tr>\n",
       "      <th>712</th>\n",
       "      <td>Asus</td>\n",
       "      <td>VivoBook E403NA</td>\n",
       "      <td>Notebook</td>\n",
       "      <td>14.0</td>\n",
       "      <td>4</td>\n",
       "      <td>Intel HD Graphics 500</td>\n",
       "      <td>Windows</td>\n",
       "      <td>1.50</td>\n",
       "      <td>0</td>\n",
       "      <td>0</td>\n",
       "      <td>0</td>\n",
       "      <td>32</td>\n",
       "      <td>1.1</td>\n",
       "      <td>Intel Celeron Dual</td>\n",
       "      <td>0</td>\n",
       "      <td>1920</td>\n",
       "      <td>1080</td>\n",
       "      <td>298.00</td>\n",
       "    </tr>\n",
       "    <tr>\n",
       "      <th>745</th>\n",
       "      <td>HP</td>\n",
       "      <td>250 G6</td>\n",
       "      <td>Notebook</td>\n",
       "      <td>15.6</td>\n",
       "      <td>8</td>\n",
       "      <td>Intel HD Graphics 520</td>\n",
       "      <td>Windows</td>\n",
       "      <td>1.86</td>\n",
       "      <td>0</td>\n",
       "      <td>256</td>\n",
       "      <td>0</td>\n",
       "      <td>0</td>\n",
       "      <td>2.0</td>\n",
       "      <td>Intel Core i3</td>\n",
       "      <td>0</td>\n",
       "      <td>1920</td>\n",
       "      <td>1080</td>\n",
       "      <td>539.00</td>\n",
       "    </tr>\n",
       "    <tr>\n",
       "      <th>692</th>\n",
       "      <td>HP</td>\n",
       "      <td>ZBook 17</td>\n",
       "      <td>Workstation</td>\n",
       "      <td>17.3</td>\n",
       "      <td>8</td>\n",
       "      <td>Nvidia Quadro M1200</td>\n",
       "      <td>Windows</td>\n",
       "      <td>3.14</td>\n",
       "      <td>500</td>\n",
       "      <td>0</td>\n",
       "      <td>0</td>\n",
       "      <td>0</td>\n",
       "      <td>2.8</td>\n",
       "      <td>Intel Core i7</td>\n",
       "      <td>0</td>\n",
       "      <td>1920</td>\n",
       "      <td>1080</td>\n",
       "      <td>1907.99</td>\n",
       "    </tr>\n",
       "    <tr>\n",
       "      <th>590</th>\n",
       "      <td>Asus</td>\n",
       "      <td>TP501UA-CJ131T (i5-7200U/8GB/1TB/W10)</td>\n",
       "      <td>2 in 1 Convertible</td>\n",
       "      <td>15.6</td>\n",
       "      <td>8</td>\n",
       "      <td>Intel HD Graphics 520</td>\n",
       "      <td>Windows</td>\n",
       "      <td>2.20</td>\n",
       "      <td>1000</td>\n",
       "      <td>0</td>\n",
       "      <td>0</td>\n",
       "      <td>0</td>\n",
       "      <td>2.5</td>\n",
       "      <td>Intel Core i5</td>\n",
       "      <td>1</td>\n",
       "      <td>1366</td>\n",
       "      <td>768</td>\n",
       "      <td>739.00</td>\n",
       "    </tr>\n",
       "    <tr>\n",
       "      <th>343</th>\n",
       "      <td>Lenovo</td>\n",
       "      <td>Yoga 920-13IKB</td>\n",
       "      <td>2 in 1 Convertible</td>\n",
       "      <td>13.9</td>\n",
       "      <td>16</td>\n",
       "      <td>Intel UHD Graphics 620</td>\n",
       "      <td>Windows</td>\n",
       "      <td>1.40</td>\n",
       "      <td>0</td>\n",
       "      <td>512</td>\n",
       "      <td>0</td>\n",
       "      <td>0</td>\n",
       "      <td>1.8</td>\n",
       "      <td>Intel Core i7</td>\n",
       "      <td>1</td>\n",
       "      <td>3840</td>\n",
       "      <td>2160</td>\n",
       "      <td>2099.00</td>\n",
       "    </tr>\n",
       "    <tr>\n",
       "      <th>...</th>\n",
       "      <td>...</td>\n",
       "      <td>...</td>\n",
       "      <td>...</td>\n",
       "      <td>...</td>\n",
       "      <td>...</td>\n",
       "      <td>...</td>\n",
       "      <td>...</td>\n",
       "      <td>...</td>\n",
       "      <td>...</td>\n",
       "      <td>...</td>\n",
       "      <td>...</td>\n",
       "      <td>...</td>\n",
       "      <td>...</td>\n",
       "      <td>...</td>\n",
       "      <td>...</td>\n",
       "      <td>...</td>\n",
       "      <td>...</td>\n",
       "      <td>...</td>\n",
       "    </tr>\n",
       "    <tr>\n",
       "      <th>27</th>\n",
       "      <td>Dell</td>\n",
       "      <td>Inspiron 5570</td>\n",
       "      <td>Notebook</td>\n",
       "      <td>15.6</td>\n",
       "      <td>8</td>\n",
       "      <td>AMD Radeon 530</td>\n",
       "      <td>Windows</td>\n",
       "      <td>2.20</td>\n",
       "      <td>0</td>\n",
       "      <td>256</td>\n",
       "      <td>0</td>\n",
       "      <td>0</td>\n",
       "      <td>1.6</td>\n",
       "      <td>Intel Core i5</td>\n",
       "      <td>0</td>\n",
       "      <td>1920</td>\n",
       "      <td>1080</td>\n",
       "      <td>800.00</td>\n",
       "    </tr>\n",
       "    <tr>\n",
       "      <th>1022</th>\n",
       "      <td>Dell</td>\n",
       "      <td>Latitude E5570</td>\n",
       "      <td>Notebook</td>\n",
       "      <td>15.6</td>\n",
       "      <td>8</td>\n",
       "      <td>Intel HD Graphics 520</td>\n",
       "      <td>Windows</td>\n",
       "      <td>2.09</td>\n",
       "      <td>500</td>\n",
       "      <td>0</td>\n",
       "      <td>0</td>\n",
       "      <td>0</td>\n",
       "      <td>2.4</td>\n",
       "      <td>Intel Core i5</td>\n",
       "      <td>0</td>\n",
       "      <td>1920</td>\n",
       "      <td>1080</td>\n",
       "      <td>1046.44</td>\n",
       "    </tr>\n",
       "    <tr>\n",
       "      <th>573</th>\n",
       "      <td>Lenovo</td>\n",
       "      <td>Thinkpad E570</td>\n",
       "      <td>Notebook</td>\n",
       "      <td>15.6</td>\n",
       "      <td>8</td>\n",
       "      <td>Intel HD Graphics 620</td>\n",
       "      <td>Windows</td>\n",
       "      <td>2.30</td>\n",
       "      <td>0</td>\n",
       "      <td>256</td>\n",
       "      <td>0</td>\n",
       "      <td>0</td>\n",
       "      <td>2.5</td>\n",
       "      <td>Intel Core i5</td>\n",
       "      <td>0</td>\n",
       "      <td>1920</td>\n",
       "      <td>1080</td>\n",
       "      <td>830.00</td>\n",
       "    </tr>\n",
       "    <tr>\n",
       "      <th>247</th>\n",
       "      <td>Asus</td>\n",
       "      <td>Rog G701VIK-BA060T</td>\n",
       "      <td>Gaming</td>\n",
       "      <td>17.3</td>\n",
       "      <td>16</td>\n",
       "      <td>Nvidia GeForce GTX 1080</td>\n",
       "      <td>Windows</td>\n",
       "      <td>3.60</td>\n",
       "      <td>0</td>\n",
       "      <td>256</td>\n",
       "      <td>0</td>\n",
       "      <td>0</td>\n",
       "      <td>2.9</td>\n",
       "      <td>Intel Core i7</td>\n",
       "      <td>0</td>\n",
       "      <td>1920</td>\n",
       "      <td>1080</td>\n",
       "      <td>2999.00</td>\n",
       "    </tr>\n",
       "    <tr>\n",
       "      <th>477</th>\n",
       "      <td>Lenovo</td>\n",
       "      <td>Thinkpad T470</td>\n",
       "      <td>Notebook</td>\n",
       "      <td>14.0</td>\n",
       "      <td>8</td>\n",
       "      <td>Intel HD Graphics 620</td>\n",
       "      <td>Windows</td>\n",
       "      <td>1.70</td>\n",
       "      <td>0</td>\n",
       "      <td>180</td>\n",
       "      <td>0</td>\n",
       "      <td>0</td>\n",
       "      <td>2.5</td>\n",
       "      <td>Intel Core i5</td>\n",
       "      <td>0</td>\n",
       "      <td>1920</td>\n",
       "      <td>1080</td>\n",
       "      <td>1364.00</td>\n",
       "    </tr>\n",
       "  </tbody>\n",
       "</table>\n",
       "<p>255 rows × 18 columns</p>\n",
       "</div>"
      ],
      "text/plain": [
       "     Laptop_Brand                                Product         Laptop_Type  \\\n",
       "712          Asus                        VivoBook E403NA            Notebook   \n",
       "745            HP                                 250 G6            Notebook   \n",
       "692            HP                               ZBook 17         Workstation   \n",
       "590          Asus  TP501UA-CJ131T (i5-7200U/8GB/1TB/W10)  2 in 1 Convertible   \n",
       "343        Lenovo                         Yoga 920-13IKB  2 in 1 Convertible   \n",
       "...           ...                                    ...                 ...   \n",
       "27           Dell                          Inspiron 5570            Notebook   \n",
       "1022         Dell                         Latitude E5570            Notebook   \n",
       "573        Lenovo                          Thinkpad E570            Notebook   \n",
       "247          Asus                     Rog G701VIK-BA060T              Gaming   \n",
       "477        Lenovo                          Thinkpad T470            Notebook   \n",
       "\n",
       "      Inches  RAM_GB                      GPU    OpSys  Weight_Kg  HDD_GB  \\\n",
       "712     14.0       4    Intel HD Graphics 500  Windows       1.50       0   \n",
       "745     15.6       8    Intel HD Graphics 520  Windows       1.86       0   \n",
       "692     17.3       8      Nvidia Quadro M1200  Windows       3.14     500   \n",
       "590     15.6       8    Intel HD Graphics 520  Windows       2.20    1000   \n",
       "343     13.9      16   Intel UHD Graphics 620  Windows       1.40       0   \n",
       "...      ...     ...                      ...      ...        ...     ...   \n",
       "27      15.6       8           AMD Radeon 530  Windows       2.20       0   \n",
       "1022    15.6       8    Intel HD Graphics 520  Windows       2.09     500   \n",
       "573     15.6       8    Intel HD Graphics 620  Windows       2.30       0   \n",
       "247     17.3      16  Nvidia GeForce GTX 1080  Windows       3.60       0   \n",
       "477     14.0       8    Intel HD Graphics 620  Windows       1.70       0   \n",
       "\n",
       "      SSD_GB  Hybrid_GB  Flash_Storage_GB  CPU_GHz           CPU_Model  \\\n",
       "712        0          0                32      1.1  Intel Celeron Dual   \n",
       "745      256          0                 0      2.0       Intel Core i3   \n",
       "692        0          0                 0      2.8       Intel Core i7   \n",
       "590        0          0                 0      2.5       Intel Core i5   \n",
       "343      512          0                 0      1.8       Intel Core i7   \n",
       "...      ...        ...               ...      ...                 ...   \n",
       "27       256          0                 0      1.6       Intel Core i5   \n",
       "1022       0          0                 0      2.4       Intel Core i5   \n",
       "573      256          0                 0      2.5       Intel Core i5   \n",
       "247      256          0                 0      2.9       Intel Core i7   \n",
       "477      180          0                 0      2.5       Intel Core i5   \n",
       "\n",
       "      TouchScreen  Resolution_X  Resolution_Y  Price_euros  \n",
       "712             0          1920          1080       298.00  \n",
       "745             0          1920          1080       539.00  \n",
       "692             0          1920          1080      1907.99  \n",
       "590             1          1366           768       739.00  \n",
       "343             1          3840          2160      2099.00  \n",
       "...           ...           ...           ...          ...  \n",
       "27              0          1920          1080       800.00  \n",
       "1022            0          1920          1080      1046.44  \n",
       "573             0          1920          1080       830.00  \n",
       "247             0          1920          1080      2999.00  \n",
       "477             0          1920          1080      1364.00  \n",
       "\n",
       "[255 rows x 18 columns]"
      ]
     },
     "execution_count": 78,
     "metadata": {},
     "output_type": "execute_result"
    }
   ],
   "source": [
    "data_test = pd.concat([X_test,y_test], axis=1)\n",
    "data_test"
   ]
  },
  {
   "cell_type": "markdown",
   "metadata": {},
   "source": [
    "Membuat Kolom `PPI` dan `Total_Storage_GB`"
   ]
  },
  {
   "cell_type": "code",
   "execution_count": 79,
   "metadata": {},
   "outputs": [],
   "source": [
    "data_test['PPI'] = (((data_test['Resolution_X']**2) + (data_test['Resolution_Y']**2))**0.5/data_test['Inches'])\n",
    "data_test['Total_Storage_GB'] = data_test['HDD_GB'] + data_test['SSD_GB'] + data_test['Flash_Storage_GB']"
   ]
  },
  {
   "cell_type": "markdown",
   "metadata": {},
   "source": [
    "Membuat kolom data test final yang telah dilakukan seleksi feature"
   ]
  },
  {
   "cell_type": "code",
   "execution_count": 80,
   "metadata": {},
   "outputs": [],
   "source": [
    "data_test_final = data_test[num_cat_target]"
   ]
  },
  {
   "cell_type": "markdown",
   "metadata": {},
   "source": [
    "### V.VII Split Data : X Feature dan y Target"
   ]
  },
  {
   "cell_type": "code",
   "execution_count": 81,
   "metadata": {},
   "outputs": [],
   "source": [
    "X_train = eda_df_final.drop('Price_euros',axis=1).copy()\n",
    "y_train = eda_df_final['Price_euros']\n",
    "\n",
    "X_test = data_test_final.drop('Price_euros',axis=1).copy()\n",
    "y_test = data_test_final['Price_euros']"
   ]
  },
  {
   "cell_type": "markdown",
   "metadata": {},
   "source": [
    "### V.V Preprocessing"
   ]
  },
  {
   "cell_type": "markdown",
   "metadata": {},
   "source": [
    "Pipeline Numerical"
   ]
  },
  {
   "cell_type": "markdown",
   "metadata": {},
   "source": [
    "Pipeline Numerical berisi langkah-langkah yang dilakukan pada feature numerik yaitu feature scaling"
   ]
  },
  {
   "cell_type": "code",
   "execution_count": 82,
   "metadata": {},
   "outputs": [],
   "source": [
    "num_pipeline = Pipeline([\n",
    "        ('scaler', MinMaxScaler())\n",
    "    ])"
   ]
  },
  {
   "cell_type": "markdown",
   "metadata": {},
   "source": [
    "Pipeline Categorical"
   ]
  },
  {
   "cell_type": "markdown",
   "metadata": {},
   "source": [
    "Pipeline Categorical berisi langkah-langkah yang dilakukan pada feature ketegori yaitu One Hot Encoder"
   ]
  },
  {
   "cell_type": "code",
   "execution_count": 83,
   "metadata": {},
   "outputs": [],
   "source": [
    "cat_pipeline = Pipeline([\n",
    "        ('ohe_enc', OneHotEncoder(sparse=False, handle_unknown='ignore'))\n",
    "    ])"
   ]
  },
  {
   "cell_type": "markdown",
   "metadata": {},
   "source": [
    "Full Pipeline "
   ]
  },
  {
   "cell_type": "markdown",
   "metadata": {},
   "source": [
    "Menggabungkan langkah pipeline yang dilakukan"
   ]
  },
  {
   "cell_type": "code",
   "execution_count": 84,
   "metadata": {},
   "outputs": [],
   "source": [
    "full_pipeline = ColumnTransformer([\n",
    "        (\"num\", num_pipeline, num_col_final),\n",
    "        (\"cat_ohe\", cat_pipeline, cat_col_final)\n",
    "    ])"
   ]
  },
  {
   "cell_type": "markdown",
   "metadata": {},
   "source": [
    "Melakukan preprocessing pada X train"
   ]
  },
  {
   "cell_type": "code",
   "execution_count": 85,
   "metadata": {},
   "outputs": [],
   "source": [
    "X_train_pipe = full_pipeline.fit_transform(X_train)"
   ]
  },
  {
   "cell_type": "markdown",
   "metadata": {},
   "source": [
    "Menerapkan preprocessing pada X test"
   ]
  },
  {
   "cell_type": "code",
   "execution_count": 86,
   "metadata": {},
   "outputs": [],
   "source": [
    "X_test_pipe = full_pipeline.transform(X_test)"
   ]
  },
  {
   "cell_type": "markdown",
   "metadata": {},
   "source": [
    "## VI. Model Definition"
   ]
  },
  {
   "cell_type": "markdown",
   "metadata": {},
   "source": [
    "Model yang akan digunakan adalah Linear Regression, Ridge, Decision Tree, dan Random Forest"
   ]
  },
  {
   "cell_type": "markdown",
   "metadata": {},
   "source": [
    "Definisi Model Linear Regression"
   ]
  },
  {
   "cell_type": "code",
   "execution_count": 87,
   "metadata": {},
   "outputs": [],
   "source": [
    "linreg = LinearRegression()"
   ]
  },
  {
   "cell_type": "markdown",
   "metadata": {},
   "source": [
    "Definisi Model Ridge Regression"
   ]
  },
  {
   "cell_type": "code",
   "execution_count": 88,
   "metadata": {},
   "outputs": [],
   "source": [
    "rid_model = Ridge()"
   ]
  },
  {
   "cell_type": "markdown",
   "metadata": {},
   "source": [
    "Definisi Model Decision Tree Regression"
   ]
  },
  {
   "cell_type": "code",
   "execution_count": 89,
   "metadata": {},
   "outputs": [],
   "source": [
    "dt_model = DecisionTreeRegressor(random_state=0)"
   ]
  },
  {
   "cell_type": "markdown",
   "metadata": {},
   "source": [
    "Definisi Model Random Forest Regression"
   ]
  },
  {
   "cell_type": "code",
   "execution_count": 90,
   "metadata": {},
   "outputs": [],
   "source": [
    "rf_model = RandomForestRegressor(random_state=0)"
   ]
  },
  {
   "cell_type": "markdown",
   "metadata": {},
   "source": [
    "## VII. Model Training"
   ]
  },
  {
   "cell_type": "markdown",
   "metadata": {},
   "source": [
    "Training Model Linear Regression"
   ]
  },
  {
   "cell_type": "code",
   "execution_count": 91,
   "metadata": {},
   "outputs": [
    {
     "data": {
      "text/html": [
       "<style>#sk-container-id-1 {color: black;background-color: white;}#sk-container-id-1 pre{padding: 0;}#sk-container-id-1 div.sk-toggleable {background-color: white;}#sk-container-id-1 label.sk-toggleable__label {cursor: pointer;display: block;width: 100%;margin-bottom: 0;padding: 0.3em;box-sizing: border-box;text-align: center;}#sk-container-id-1 label.sk-toggleable__label-arrow:before {content: \"▸\";float: left;margin-right: 0.25em;color: #696969;}#sk-container-id-1 label.sk-toggleable__label-arrow:hover:before {color: black;}#sk-container-id-1 div.sk-estimator:hover label.sk-toggleable__label-arrow:before {color: black;}#sk-container-id-1 div.sk-toggleable__content {max-height: 0;max-width: 0;overflow: hidden;text-align: left;background-color: #f0f8ff;}#sk-container-id-1 div.sk-toggleable__content pre {margin: 0.2em;color: black;border-radius: 0.25em;background-color: #f0f8ff;}#sk-container-id-1 input.sk-toggleable__control:checked~div.sk-toggleable__content {max-height: 200px;max-width: 100%;overflow: auto;}#sk-container-id-1 input.sk-toggleable__control:checked~label.sk-toggleable__label-arrow:before {content: \"▾\";}#sk-container-id-1 div.sk-estimator input.sk-toggleable__control:checked~label.sk-toggleable__label {background-color: #d4ebff;}#sk-container-id-1 div.sk-label input.sk-toggleable__control:checked~label.sk-toggleable__label {background-color: #d4ebff;}#sk-container-id-1 input.sk-hidden--visually {border: 0;clip: rect(1px 1px 1px 1px);clip: rect(1px, 1px, 1px, 1px);height: 1px;margin: -1px;overflow: hidden;padding: 0;position: absolute;width: 1px;}#sk-container-id-1 div.sk-estimator {font-family: monospace;background-color: #f0f8ff;border: 1px dotted black;border-radius: 0.25em;box-sizing: border-box;margin-bottom: 0.5em;}#sk-container-id-1 div.sk-estimator:hover {background-color: #d4ebff;}#sk-container-id-1 div.sk-parallel-item::after {content: \"\";width: 100%;border-bottom: 1px solid gray;flex-grow: 1;}#sk-container-id-1 div.sk-label:hover label.sk-toggleable__label {background-color: #d4ebff;}#sk-container-id-1 div.sk-serial::before {content: \"\";position: absolute;border-left: 1px solid gray;box-sizing: border-box;top: 0;bottom: 0;left: 50%;z-index: 0;}#sk-container-id-1 div.sk-serial {display: flex;flex-direction: column;align-items: center;background-color: white;padding-right: 0.2em;padding-left: 0.2em;position: relative;}#sk-container-id-1 div.sk-item {position: relative;z-index: 1;}#sk-container-id-1 div.sk-parallel {display: flex;align-items: stretch;justify-content: center;background-color: white;position: relative;}#sk-container-id-1 div.sk-item::before, #sk-container-id-1 div.sk-parallel-item::before {content: \"\";position: absolute;border-left: 1px solid gray;box-sizing: border-box;top: 0;bottom: 0;left: 50%;z-index: -1;}#sk-container-id-1 div.sk-parallel-item {display: flex;flex-direction: column;z-index: 1;position: relative;background-color: white;}#sk-container-id-1 div.sk-parallel-item:first-child::after {align-self: flex-end;width: 50%;}#sk-container-id-1 div.sk-parallel-item:last-child::after {align-self: flex-start;width: 50%;}#sk-container-id-1 div.sk-parallel-item:only-child::after {width: 0;}#sk-container-id-1 div.sk-dashed-wrapped {border: 1px dashed gray;margin: 0 0.4em 0.5em 0.4em;box-sizing: border-box;padding-bottom: 0.4em;background-color: white;}#sk-container-id-1 div.sk-label label {font-family: monospace;font-weight: bold;display: inline-block;line-height: 1.2em;}#sk-container-id-1 div.sk-label-container {text-align: center;}#sk-container-id-1 div.sk-container {/* jupyter's `normalize.less` sets `[hidden] { display: none; }` but bootstrap.min.css set `[hidden] { display: none !important; }` so we also need the `!important` here to be able to override the default hidden behavior on the sphinx rendered scikit-learn.org. See: https://github.com/scikit-learn/scikit-learn/issues/21755 */display: inline-block !important;position: relative;}#sk-container-id-1 div.sk-text-repr-fallback {display: none;}</style><div id=\"sk-container-id-1\" class=\"sk-top-container\"><div class=\"sk-text-repr-fallback\"><pre>LinearRegression()</pre><b>In a Jupyter environment, please rerun this cell to show the HTML representation or trust the notebook. <br />On GitHub, the HTML representation is unable to render, please try loading this page with nbviewer.org.</b></div><div class=\"sk-container\" hidden><div class=\"sk-item\"><div class=\"sk-estimator sk-toggleable\"><input class=\"sk-toggleable__control sk-hidden--visually\" id=\"sk-estimator-id-1\" type=\"checkbox\" checked><label for=\"sk-estimator-id-1\" class=\"sk-toggleable__label sk-toggleable__label-arrow\">LinearRegression</label><div class=\"sk-toggleable__content\"><pre>LinearRegression()</pre></div></div></div></div></div>"
      ],
      "text/plain": [
       "LinearRegression()"
      ]
     },
     "execution_count": 91,
     "metadata": {},
     "output_type": "execute_result"
    }
   ],
   "source": [
    "linreg.fit(X_train_pipe, y_train)"
   ]
  },
  {
   "cell_type": "markdown",
   "metadata": {},
   "source": [
    "Training Model Random Forest Regression"
   ]
  },
  {
   "cell_type": "code",
   "execution_count": 92,
   "metadata": {},
   "outputs": [
    {
     "data": {
      "text/html": [
       "<style>#sk-container-id-2 {color: black;background-color: white;}#sk-container-id-2 pre{padding: 0;}#sk-container-id-2 div.sk-toggleable {background-color: white;}#sk-container-id-2 label.sk-toggleable__label {cursor: pointer;display: block;width: 100%;margin-bottom: 0;padding: 0.3em;box-sizing: border-box;text-align: center;}#sk-container-id-2 label.sk-toggleable__label-arrow:before {content: \"▸\";float: left;margin-right: 0.25em;color: #696969;}#sk-container-id-2 label.sk-toggleable__label-arrow:hover:before {color: black;}#sk-container-id-2 div.sk-estimator:hover label.sk-toggleable__label-arrow:before {color: black;}#sk-container-id-2 div.sk-toggleable__content {max-height: 0;max-width: 0;overflow: hidden;text-align: left;background-color: #f0f8ff;}#sk-container-id-2 div.sk-toggleable__content pre {margin: 0.2em;color: black;border-radius: 0.25em;background-color: #f0f8ff;}#sk-container-id-2 input.sk-toggleable__control:checked~div.sk-toggleable__content {max-height: 200px;max-width: 100%;overflow: auto;}#sk-container-id-2 input.sk-toggleable__control:checked~label.sk-toggleable__label-arrow:before {content: \"▾\";}#sk-container-id-2 div.sk-estimator input.sk-toggleable__control:checked~label.sk-toggleable__label {background-color: #d4ebff;}#sk-container-id-2 div.sk-label input.sk-toggleable__control:checked~label.sk-toggleable__label {background-color: #d4ebff;}#sk-container-id-2 input.sk-hidden--visually {border: 0;clip: rect(1px 1px 1px 1px);clip: rect(1px, 1px, 1px, 1px);height: 1px;margin: -1px;overflow: hidden;padding: 0;position: absolute;width: 1px;}#sk-container-id-2 div.sk-estimator {font-family: monospace;background-color: #f0f8ff;border: 1px dotted black;border-radius: 0.25em;box-sizing: border-box;margin-bottom: 0.5em;}#sk-container-id-2 div.sk-estimator:hover {background-color: #d4ebff;}#sk-container-id-2 div.sk-parallel-item::after {content: \"\";width: 100%;border-bottom: 1px solid gray;flex-grow: 1;}#sk-container-id-2 div.sk-label:hover label.sk-toggleable__label {background-color: #d4ebff;}#sk-container-id-2 div.sk-serial::before {content: \"\";position: absolute;border-left: 1px solid gray;box-sizing: border-box;top: 0;bottom: 0;left: 50%;z-index: 0;}#sk-container-id-2 div.sk-serial {display: flex;flex-direction: column;align-items: center;background-color: white;padding-right: 0.2em;padding-left: 0.2em;position: relative;}#sk-container-id-2 div.sk-item {position: relative;z-index: 1;}#sk-container-id-2 div.sk-parallel {display: flex;align-items: stretch;justify-content: center;background-color: white;position: relative;}#sk-container-id-2 div.sk-item::before, #sk-container-id-2 div.sk-parallel-item::before {content: \"\";position: absolute;border-left: 1px solid gray;box-sizing: border-box;top: 0;bottom: 0;left: 50%;z-index: -1;}#sk-container-id-2 div.sk-parallel-item {display: flex;flex-direction: column;z-index: 1;position: relative;background-color: white;}#sk-container-id-2 div.sk-parallel-item:first-child::after {align-self: flex-end;width: 50%;}#sk-container-id-2 div.sk-parallel-item:last-child::after {align-self: flex-start;width: 50%;}#sk-container-id-2 div.sk-parallel-item:only-child::after {width: 0;}#sk-container-id-2 div.sk-dashed-wrapped {border: 1px dashed gray;margin: 0 0.4em 0.5em 0.4em;box-sizing: border-box;padding-bottom: 0.4em;background-color: white;}#sk-container-id-2 div.sk-label label {font-family: monospace;font-weight: bold;display: inline-block;line-height: 1.2em;}#sk-container-id-2 div.sk-label-container {text-align: center;}#sk-container-id-2 div.sk-container {/* jupyter's `normalize.less` sets `[hidden] { display: none; }` but bootstrap.min.css set `[hidden] { display: none !important; }` so we also need the `!important` here to be able to override the default hidden behavior on the sphinx rendered scikit-learn.org. See: https://github.com/scikit-learn/scikit-learn/issues/21755 */display: inline-block !important;position: relative;}#sk-container-id-2 div.sk-text-repr-fallback {display: none;}</style><div id=\"sk-container-id-2\" class=\"sk-top-container\"><div class=\"sk-text-repr-fallback\"><pre>RandomForestRegressor(random_state=0)</pre><b>In a Jupyter environment, please rerun this cell to show the HTML representation or trust the notebook. <br />On GitHub, the HTML representation is unable to render, please try loading this page with nbviewer.org.</b></div><div class=\"sk-container\" hidden><div class=\"sk-item\"><div class=\"sk-estimator sk-toggleable\"><input class=\"sk-toggleable__control sk-hidden--visually\" id=\"sk-estimator-id-2\" type=\"checkbox\" checked><label for=\"sk-estimator-id-2\" class=\"sk-toggleable__label sk-toggleable__label-arrow\">RandomForestRegressor</label><div class=\"sk-toggleable__content\"><pre>RandomForestRegressor(random_state=0)</pre></div></div></div></div></div>"
      ],
      "text/plain": [
       "RandomForestRegressor(random_state=0)"
      ]
     },
     "execution_count": 92,
     "metadata": {},
     "output_type": "execute_result"
    }
   ],
   "source": [
    "rf_model.fit(X_train_pipe, y_train)"
   ]
  },
  {
   "cell_type": "markdown",
   "metadata": {},
   "source": [
    "Training Model Decision Tress Regression"
   ]
  },
  {
   "cell_type": "code",
   "execution_count": 93,
   "metadata": {},
   "outputs": [
    {
     "data": {
      "text/html": [
       "<style>#sk-container-id-3 {color: black;background-color: white;}#sk-container-id-3 pre{padding: 0;}#sk-container-id-3 div.sk-toggleable {background-color: white;}#sk-container-id-3 label.sk-toggleable__label {cursor: pointer;display: block;width: 100%;margin-bottom: 0;padding: 0.3em;box-sizing: border-box;text-align: center;}#sk-container-id-3 label.sk-toggleable__label-arrow:before {content: \"▸\";float: left;margin-right: 0.25em;color: #696969;}#sk-container-id-3 label.sk-toggleable__label-arrow:hover:before {color: black;}#sk-container-id-3 div.sk-estimator:hover label.sk-toggleable__label-arrow:before {color: black;}#sk-container-id-3 div.sk-toggleable__content {max-height: 0;max-width: 0;overflow: hidden;text-align: left;background-color: #f0f8ff;}#sk-container-id-3 div.sk-toggleable__content pre {margin: 0.2em;color: black;border-radius: 0.25em;background-color: #f0f8ff;}#sk-container-id-3 input.sk-toggleable__control:checked~div.sk-toggleable__content {max-height: 200px;max-width: 100%;overflow: auto;}#sk-container-id-3 input.sk-toggleable__control:checked~label.sk-toggleable__label-arrow:before {content: \"▾\";}#sk-container-id-3 div.sk-estimator input.sk-toggleable__control:checked~label.sk-toggleable__label {background-color: #d4ebff;}#sk-container-id-3 div.sk-label input.sk-toggleable__control:checked~label.sk-toggleable__label {background-color: #d4ebff;}#sk-container-id-3 input.sk-hidden--visually {border: 0;clip: rect(1px 1px 1px 1px);clip: rect(1px, 1px, 1px, 1px);height: 1px;margin: -1px;overflow: hidden;padding: 0;position: absolute;width: 1px;}#sk-container-id-3 div.sk-estimator {font-family: monospace;background-color: #f0f8ff;border: 1px dotted black;border-radius: 0.25em;box-sizing: border-box;margin-bottom: 0.5em;}#sk-container-id-3 div.sk-estimator:hover {background-color: #d4ebff;}#sk-container-id-3 div.sk-parallel-item::after {content: \"\";width: 100%;border-bottom: 1px solid gray;flex-grow: 1;}#sk-container-id-3 div.sk-label:hover label.sk-toggleable__label {background-color: #d4ebff;}#sk-container-id-3 div.sk-serial::before {content: \"\";position: absolute;border-left: 1px solid gray;box-sizing: border-box;top: 0;bottom: 0;left: 50%;z-index: 0;}#sk-container-id-3 div.sk-serial {display: flex;flex-direction: column;align-items: center;background-color: white;padding-right: 0.2em;padding-left: 0.2em;position: relative;}#sk-container-id-3 div.sk-item {position: relative;z-index: 1;}#sk-container-id-3 div.sk-parallel {display: flex;align-items: stretch;justify-content: center;background-color: white;position: relative;}#sk-container-id-3 div.sk-item::before, #sk-container-id-3 div.sk-parallel-item::before {content: \"\";position: absolute;border-left: 1px solid gray;box-sizing: border-box;top: 0;bottom: 0;left: 50%;z-index: -1;}#sk-container-id-3 div.sk-parallel-item {display: flex;flex-direction: column;z-index: 1;position: relative;background-color: white;}#sk-container-id-3 div.sk-parallel-item:first-child::after {align-self: flex-end;width: 50%;}#sk-container-id-3 div.sk-parallel-item:last-child::after {align-self: flex-start;width: 50%;}#sk-container-id-3 div.sk-parallel-item:only-child::after {width: 0;}#sk-container-id-3 div.sk-dashed-wrapped {border: 1px dashed gray;margin: 0 0.4em 0.5em 0.4em;box-sizing: border-box;padding-bottom: 0.4em;background-color: white;}#sk-container-id-3 div.sk-label label {font-family: monospace;font-weight: bold;display: inline-block;line-height: 1.2em;}#sk-container-id-3 div.sk-label-container {text-align: center;}#sk-container-id-3 div.sk-container {/* jupyter's `normalize.less` sets `[hidden] { display: none; }` but bootstrap.min.css set `[hidden] { display: none !important; }` so we also need the `!important` here to be able to override the default hidden behavior on the sphinx rendered scikit-learn.org. See: https://github.com/scikit-learn/scikit-learn/issues/21755 */display: inline-block !important;position: relative;}#sk-container-id-3 div.sk-text-repr-fallback {display: none;}</style><div id=\"sk-container-id-3\" class=\"sk-top-container\"><div class=\"sk-text-repr-fallback\"><pre>DecisionTreeRegressor(random_state=0)</pre><b>In a Jupyter environment, please rerun this cell to show the HTML representation or trust the notebook. <br />On GitHub, the HTML representation is unable to render, please try loading this page with nbviewer.org.</b></div><div class=\"sk-container\" hidden><div class=\"sk-item\"><div class=\"sk-estimator sk-toggleable\"><input class=\"sk-toggleable__control sk-hidden--visually\" id=\"sk-estimator-id-3\" type=\"checkbox\" checked><label for=\"sk-estimator-id-3\" class=\"sk-toggleable__label sk-toggleable__label-arrow\">DecisionTreeRegressor</label><div class=\"sk-toggleable__content\"><pre>DecisionTreeRegressor(random_state=0)</pre></div></div></div></div></div>"
      ],
      "text/plain": [
       "DecisionTreeRegressor(random_state=0)"
      ]
     },
     "execution_count": 93,
     "metadata": {},
     "output_type": "execute_result"
    }
   ],
   "source": [
    "dt_model.fit(X_train_pipe, y_train)"
   ]
  },
  {
   "cell_type": "markdown",
   "metadata": {},
   "source": [
    "Training Model Ridge Regression"
   ]
  },
  {
   "cell_type": "code",
   "execution_count": 94,
   "metadata": {},
   "outputs": [
    {
     "data": {
      "text/html": [
       "<style>#sk-container-id-4 {color: black;background-color: white;}#sk-container-id-4 pre{padding: 0;}#sk-container-id-4 div.sk-toggleable {background-color: white;}#sk-container-id-4 label.sk-toggleable__label {cursor: pointer;display: block;width: 100%;margin-bottom: 0;padding: 0.3em;box-sizing: border-box;text-align: center;}#sk-container-id-4 label.sk-toggleable__label-arrow:before {content: \"▸\";float: left;margin-right: 0.25em;color: #696969;}#sk-container-id-4 label.sk-toggleable__label-arrow:hover:before {color: black;}#sk-container-id-4 div.sk-estimator:hover label.sk-toggleable__label-arrow:before {color: black;}#sk-container-id-4 div.sk-toggleable__content {max-height: 0;max-width: 0;overflow: hidden;text-align: left;background-color: #f0f8ff;}#sk-container-id-4 div.sk-toggleable__content pre {margin: 0.2em;color: black;border-radius: 0.25em;background-color: #f0f8ff;}#sk-container-id-4 input.sk-toggleable__control:checked~div.sk-toggleable__content {max-height: 200px;max-width: 100%;overflow: auto;}#sk-container-id-4 input.sk-toggleable__control:checked~label.sk-toggleable__label-arrow:before {content: \"▾\";}#sk-container-id-4 div.sk-estimator input.sk-toggleable__control:checked~label.sk-toggleable__label {background-color: #d4ebff;}#sk-container-id-4 div.sk-label input.sk-toggleable__control:checked~label.sk-toggleable__label {background-color: #d4ebff;}#sk-container-id-4 input.sk-hidden--visually {border: 0;clip: rect(1px 1px 1px 1px);clip: rect(1px, 1px, 1px, 1px);height: 1px;margin: -1px;overflow: hidden;padding: 0;position: absolute;width: 1px;}#sk-container-id-4 div.sk-estimator {font-family: monospace;background-color: #f0f8ff;border: 1px dotted black;border-radius: 0.25em;box-sizing: border-box;margin-bottom: 0.5em;}#sk-container-id-4 div.sk-estimator:hover {background-color: #d4ebff;}#sk-container-id-4 div.sk-parallel-item::after {content: \"\";width: 100%;border-bottom: 1px solid gray;flex-grow: 1;}#sk-container-id-4 div.sk-label:hover label.sk-toggleable__label {background-color: #d4ebff;}#sk-container-id-4 div.sk-serial::before {content: \"\";position: absolute;border-left: 1px solid gray;box-sizing: border-box;top: 0;bottom: 0;left: 50%;z-index: 0;}#sk-container-id-4 div.sk-serial {display: flex;flex-direction: column;align-items: center;background-color: white;padding-right: 0.2em;padding-left: 0.2em;position: relative;}#sk-container-id-4 div.sk-item {position: relative;z-index: 1;}#sk-container-id-4 div.sk-parallel {display: flex;align-items: stretch;justify-content: center;background-color: white;position: relative;}#sk-container-id-4 div.sk-item::before, #sk-container-id-4 div.sk-parallel-item::before {content: \"\";position: absolute;border-left: 1px solid gray;box-sizing: border-box;top: 0;bottom: 0;left: 50%;z-index: -1;}#sk-container-id-4 div.sk-parallel-item {display: flex;flex-direction: column;z-index: 1;position: relative;background-color: white;}#sk-container-id-4 div.sk-parallel-item:first-child::after {align-self: flex-end;width: 50%;}#sk-container-id-4 div.sk-parallel-item:last-child::after {align-self: flex-start;width: 50%;}#sk-container-id-4 div.sk-parallel-item:only-child::after {width: 0;}#sk-container-id-4 div.sk-dashed-wrapped {border: 1px dashed gray;margin: 0 0.4em 0.5em 0.4em;box-sizing: border-box;padding-bottom: 0.4em;background-color: white;}#sk-container-id-4 div.sk-label label {font-family: monospace;font-weight: bold;display: inline-block;line-height: 1.2em;}#sk-container-id-4 div.sk-label-container {text-align: center;}#sk-container-id-4 div.sk-container {/* jupyter's `normalize.less` sets `[hidden] { display: none; }` but bootstrap.min.css set `[hidden] { display: none !important; }` so we also need the `!important` here to be able to override the default hidden behavior on the sphinx rendered scikit-learn.org. See: https://github.com/scikit-learn/scikit-learn/issues/21755 */display: inline-block !important;position: relative;}#sk-container-id-4 div.sk-text-repr-fallback {display: none;}</style><div id=\"sk-container-id-4\" class=\"sk-top-container\"><div class=\"sk-text-repr-fallback\"><pre>Ridge()</pre><b>In a Jupyter environment, please rerun this cell to show the HTML representation or trust the notebook. <br />On GitHub, the HTML representation is unable to render, please try loading this page with nbviewer.org.</b></div><div class=\"sk-container\" hidden><div class=\"sk-item\"><div class=\"sk-estimator sk-toggleable\"><input class=\"sk-toggleable__control sk-hidden--visually\" id=\"sk-estimator-id-4\" type=\"checkbox\" checked><label for=\"sk-estimator-id-4\" class=\"sk-toggleable__label sk-toggleable__label-arrow\">Ridge</label><div class=\"sk-toggleable__content\"><pre>Ridge()</pre></div></div></div></div></div>"
      ],
      "text/plain": [
       "Ridge()"
      ]
     },
     "execution_count": 94,
     "metadata": {},
     "output_type": "execute_result"
    }
   ],
   "source": [
    "rid_model.fit(X_train_pipe, y_train)"
   ]
  },
  {
   "cell_type": "markdown",
   "metadata": {},
   "source": [
    "## VIII. Model Evaluation"
   ]
  },
  {
   "cell_type": "markdown",
   "metadata": {},
   "source": [
    "### VIII.I Model Linear Regression"
   ]
  },
  {
   "cell_type": "code",
   "execution_count": 95,
   "metadata": {},
   "outputs": [
    {
     "name": "stdout",
     "output_type": "stream",
     "text": [
      "==================== TRAINING ====================\n",
      "Mean absolute error: 176.81731861198736\n",
      "R2 Score: 0.8333357539038568\n",
      "==================== TEST ====================\n",
      "Mean absolute error: 129925772316783.9\n",
      "R2 Score: -4.66993162461108e+23\n"
     ]
    }
   ],
   "source": [
    "pred_train_lr = linreg.predict(X_train_pipe)\n",
    "pred_test_lr = linreg.predict(X_test_pipe)\n",
    "\n",
    "print(\"=\"*20,\"TRAINING\",\"=\"*20)\n",
    "print(\"Mean absolute error:\",mean_absolute_error(y_train,pred_train_lr))\n",
    "print(\"R2 Score:\",r2_score(y_train,pred_train_lr))\n",
    "print(\"=\"*20,\"TEST\",\"=\"*20)\n",
    "print(\"Mean absolute error:\",mean_absolute_error(y_test,pred_test_lr))\n",
    "print(\"R2 Score:\",r2_score(y_test,pred_test_lr))"
   ]
  },
  {
   "cell_type": "markdown",
   "metadata": {},
   "source": [
    "Model `linear regression` memiliki `training` yang `baik` dengan `MAE 176,8` dan `R2 Score 0,83` namun sangat buruk saat model di `test` dengan data baru selain data train, Model linear regression `sangat overfit` sehingga ketika dimasukkan data baru maka `eror` yang dihasilkan `sangat tinggi` dimana R2 Score -4,67 yang artinya model benar-benar tidak bisa memprediksi harga."
   ]
  },
  {
   "cell_type": "markdown",
   "metadata": {},
   "source": [
    "### VIII.II Model Random Forest"
   ]
  },
  {
   "cell_type": "code",
   "execution_count": 96,
   "metadata": {},
   "outputs": [
    {
     "name": "stdout",
     "output_type": "stream",
     "text": [
      "==================== TRAINING ====================\n",
      "Mean absolute error: 69.55884853627913\n",
      "R2 Score: 0.9674994858024376\n",
      "==================== TEST ====================\n",
      "Mean absolute error: 209.8104654249497\n",
      "R2 Score: 0.7674104533508822\n"
     ]
    }
   ],
   "source": [
    "pred_train_rf = rf_model.predict(X_train_pipe)\n",
    "pred_test_rf = rf_model.predict(X_test_pipe)\n",
    "\n",
    "print(\"=\"*20,\"TRAINING\",\"=\"*20)\n",
    "print(\"Mean absolute error:\",mean_absolute_error(y_train,pred_train_rf))\n",
    "print(\"R2 Score:\",r2_score(y_train,pred_train_rf))\n",
    "print(\"=\"*20,\"TEST\",\"=\"*20)\n",
    "print(\"Mean absolute error:\",mean_absolute_error(y_test,pred_test_rf))\n",
    "print(\"R2 Score:\",r2_score(y_test,pred_test_rf))"
   ]
  },
  {
   "cell_type": "markdown",
   "metadata": {},
   "source": [
    "Model `Random Forest` memiliki `training` yang `sangat baik` dengan `MAE 69,56` dan `R2 Score 0,97` namun saat di `test` hasil prediksinya semakin buruk dimana `MAE 209,81` dan `R2 Score 0,77`. Model Random Forest masuk dalam kategori overfit namun jauh lebih baik dari Model Linear Regression karena model masih dapat memprediksi harga."
   ]
  },
  {
   "cell_type": "markdown",
   "metadata": {},
   "source": [
    "### VIII.III Model Ridge"
   ]
  },
  {
   "cell_type": "code",
   "execution_count": 97,
   "metadata": {},
   "outputs": [
    {
     "name": "stdout",
     "output_type": "stream",
     "text": [
      "==================== TRAINING ====================\n",
      "Mean absolute error: 185.2975041108365\n",
      "R2 Score: 0.8225701606143181\n",
      "==================== TEST ====================\n",
      "Mean absolute error: 223.45953095340502\n",
      "R2 Score: 0.7753108910702026\n"
     ]
    }
   ],
   "source": [
    "pred_train_rid = rid_model.predict(X_train_pipe)\n",
    "pred_test_rid = rid_model.predict(X_test_pipe)\n",
    "\n",
    "print(\"=\"*20,\"TRAINING\",\"=\"*20)\n",
    "print(\"Mean absolute error:\",mean_absolute_error(y_train,pred_train_rid))\n",
    "print(\"R2 Score:\",r2_score(y_train,pred_train_rid))\n",
    "print(\"=\"*20,\"TEST\",\"=\"*20)\n",
    "print(\"Mean absolute error:\",mean_absolute_error(y_test,pred_test_rid))\n",
    "print(\"R2 Score:\",r2_score(y_test,pred_test_rid))"
   ]
  },
  {
   "cell_type": "markdown",
   "metadata": {},
   "source": [
    "Model `Ridge` memiliki training yang `baik` dengan `MAE 185,29` dan `R2 Score 0,82` namun saat di `test` hasilnya semakin buruk dengan `MAE 223,46` dan `R2 Score 0,78`. Model Ridge masuk dalam kategori goodfit namun nilai error masih cukup tinggi."
   ]
  },
  {
   "cell_type": "markdown",
   "metadata": {},
   "source": [
    "### VIII.IV Model Decision Tree"
   ]
  },
  {
   "cell_type": "code",
   "execution_count": 98,
   "metadata": {},
   "outputs": [
    {
     "name": "stdout",
     "output_type": "stream",
     "text": [
      "==================== TRAINING ====================\n",
      "Mean absolute error: 19.50347353662811\n",
      "R2 Score: 0.9890846922799847\n",
      "==================== TEST ====================\n",
      "Mean absolute error: 270.7798562091503\n",
      "R2 Score: 0.6439717697690903\n"
     ]
    }
   ],
   "source": [
    "pred_train_dt = dt_model.predict(X_train_pipe)\n",
    "pred_test_dt = dt_model.predict(X_test_pipe)\n",
    "\n",
    "print(\"=\"*20,\"TRAINING\",\"=\"*20)\n",
    "print(\"Mean absolute error:\",mean_absolute_error(y_train,pred_train_dt))\n",
    "print(\"R2 Score:\",r2_score(y_train,pred_train_dt))\n",
    "print(\"=\"*20,\"TEST\",\"=\"*20)\n",
    "print(\"Mean absolute error:\",mean_absolute_error(y_test,pred_test_dt))\n",
    "print(\"R2 Score:\",r2_score(y_test,pred_test_dt))"
   ]
  },
  {
   "cell_type": "markdown",
   "metadata": {},
   "source": [
    "Model `Decision Tree` memiliki `training` yang `sangat baik` dengan `MAE 19,50` dan `R2 Score 0,99` namun saat di `test` hasil prediksinya semakin buruk dimana `MAE 270,78` dan `R2 Score 0,64`. Model Decision Tree masuk dalam kategori overfit namun jauh lebih baik dari Model Linear Regression karena model masih dapat memprediksi harga namun lebih buruk dari Model Random Forest."
   ]
  },
  {
   "cell_type": "markdown",
   "metadata": {},
   "source": [
    "Dari hasil evaluasi dapat disimpulkan model yang terbaik adalah\n",
    "1. Ridge\n",
    "2. Random Forest\n",
    "3. Decision Tree\n",
    "\n",
    "Model Linear Regression tidak bisa digunakan untuk memprediksi harga laptop pada kasus ini."
   ]
  },
  {
   "cell_type": "markdown",
   "metadata": {},
   "source": [
    "### VIII.V Hyperparameter Tuning"
   ]
  },
  {
   "cell_type": "markdown",
   "metadata": {},
   "source": [
    "Pada bagian ini akan dilakukan hyperparameter tuning pada model Ridge."
   ]
  },
  {
   "cell_type": "code",
   "execution_count": 99,
   "metadata": {},
   "outputs": [
    {
     "data": {
      "text/html": [
       "<style>#sk-container-id-5 {color: black;background-color: white;}#sk-container-id-5 pre{padding: 0;}#sk-container-id-5 div.sk-toggleable {background-color: white;}#sk-container-id-5 label.sk-toggleable__label {cursor: pointer;display: block;width: 100%;margin-bottom: 0;padding: 0.3em;box-sizing: border-box;text-align: center;}#sk-container-id-5 label.sk-toggleable__label-arrow:before {content: \"▸\";float: left;margin-right: 0.25em;color: #696969;}#sk-container-id-5 label.sk-toggleable__label-arrow:hover:before {color: black;}#sk-container-id-5 div.sk-estimator:hover label.sk-toggleable__label-arrow:before {color: black;}#sk-container-id-5 div.sk-toggleable__content {max-height: 0;max-width: 0;overflow: hidden;text-align: left;background-color: #f0f8ff;}#sk-container-id-5 div.sk-toggleable__content pre {margin: 0.2em;color: black;border-radius: 0.25em;background-color: #f0f8ff;}#sk-container-id-5 input.sk-toggleable__control:checked~div.sk-toggleable__content {max-height: 200px;max-width: 100%;overflow: auto;}#sk-container-id-5 input.sk-toggleable__control:checked~label.sk-toggleable__label-arrow:before {content: \"▾\";}#sk-container-id-5 div.sk-estimator input.sk-toggleable__control:checked~label.sk-toggleable__label {background-color: #d4ebff;}#sk-container-id-5 div.sk-label input.sk-toggleable__control:checked~label.sk-toggleable__label {background-color: #d4ebff;}#sk-container-id-5 input.sk-hidden--visually {border: 0;clip: rect(1px 1px 1px 1px);clip: rect(1px, 1px, 1px, 1px);height: 1px;margin: -1px;overflow: hidden;padding: 0;position: absolute;width: 1px;}#sk-container-id-5 div.sk-estimator {font-family: monospace;background-color: #f0f8ff;border: 1px dotted black;border-radius: 0.25em;box-sizing: border-box;margin-bottom: 0.5em;}#sk-container-id-5 div.sk-estimator:hover {background-color: #d4ebff;}#sk-container-id-5 div.sk-parallel-item::after {content: \"\";width: 100%;border-bottom: 1px solid gray;flex-grow: 1;}#sk-container-id-5 div.sk-label:hover label.sk-toggleable__label {background-color: #d4ebff;}#sk-container-id-5 div.sk-serial::before {content: \"\";position: absolute;border-left: 1px solid gray;box-sizing: border-box;top: 0;bottom: 0;left: 50%;z-index: 0;}#sk-container-id-5 div.sk-serial {display: flex;flex-direction: column;align-items: center;background-color: white;padding-right: 0.2em;padding-left: 0.2em;position: relative;}#sk-container-id-5 div.sk-item {position: relative;z-index: 1;}#sk-container-id-5 div.sk-parallel {display: flex;align-items: stretch;justify-content: center;background-color: white;position: relative;}#sk-container-id-5 div.sk-item::before, #sk-container-id-5 div.sk-parallel-item::before {content: \"\";position: absolute;border-left: 1px solid gray;box-sizing: border-box;top: 0;bottom: 0;left: 50%;z-index: -1;}#sk-container-id-5 div.sk-parallel-item {display: flex;flex-direction: column;z-index: 1;position: relative;background-color: white;}#sk-container-id-5 div.sk-parallel-item:first-child::after {align-self: flex-end;width: 50%;}#sk-container-id-5 div.sk-parallel-item:last-child::after {align-self: flex-start;width: 50%;}#sk-container-id-5 div.sk-parallel-item:only-child::after {width: 0;}#sk-container-id-5 div.sk-dashed-wrapped {border: 1px dashed gray;margin: 0 0.4em 0.5em 0.4em;box-sizing: border-box;padding-bottom: 0.4em;background-color: white;}#sk-container-id-5 div.sk-label label {font-family: monospace;font-weight: bold;display: inline-block;line-height: 1.2em;}#sk-container-id-5 div.sk-label-container {text-align: center;}#sk-container-id-5 div.sk-container {/* jupyter's `normalize.less` sets `[hidden] { display: none; }` but bootstrap.min.css set `[hidden] { display: none !important; }` so we also need the `!important` here to be able to override the default hidden behavior on the sphinx rendered scikit-learn.org. See: https://github.com/scikit-learn/scikit-learn/issues/21755 */display: inline-block !important;position: relative;}#sk-container-id-5 div.sk-text-repr-fallback {display: none;}</style><div id=\"sk-container-id-5\" class=\"sk-top-container\"><div class=\"sk-text-repr-fallback\"><pre>GridSearchCV(estimator=Ridge(), n_jobs=-1,\n",
       "             param_grid=[{&#x27;alpha&#x27;: [0.1, 0.5, 0.7, 1],\n",
       "                          &#x27;solver&#x27;: [&#x27;auto&#x27;, &#x27;svd&#x27;, &#x27;cholesky&#x27;, &#x27;sparse_cg&#x27;,\n",
       "                                     &#x27;lsqr&#x27;, &#x27;saga&#x27;, &#x27;lbfgs&#x27;]}],\n",
       "             return_train_score=True, scoring=&#x27;r2&#x27;)</pre><b>In a Jupyter environment, please rerun this cell to show the HTML representation or trust the notebook. <br />On GitHub, the HTML representation is unable to render, please try loading this page with nbviewer.org.</b></div><div class=\"sk-container\" hidden><div class=\"sk-item sk-dashed-wrapped\"><div class=\"sk-label-container\"><div class=\"sk-label sk-toggleable\"><input class=\"sk-toggleable__control sk-hidden--visually\" id=\"sk-estimator-id-5\" type=\"checkbox\" ><label for=\"sk-estimator-id-5\" class=\"sk-toggleable__label sk-toggleable__label-arrow\">GridSearchCV</label><div class=\"sk-toggleable__content\"><pre>GridSearchCV(estimator=Ridge(), n_jobs=-1,\n",
       "             param_grid=[{&#x27;alpha&#x27;: [0.1, 0.5, 0.7, 1],\n",
       "                          &#x27;solver&#x27;: [&#x27;auto&#x27;, &#x27;svd&#x27;, &#x27;cholesky&#x27;, &#x27;sparse_cg&#x27;,\n",
       "                                     &#x27;lsqr&#x27;, &#x27;saga&#x27;, &#x27;lbfgs&#x27;]}],\n",
       "             return_train_score=True, scoring=&#x27;r2&#x27;)</pre></div></div></div><div class=\"sk-parallel\"><div class=\"sk-parallel-item\"><div class=\"sk-item\"><div class=\"sk-label-container\"><div class=\"sk-label sk-toggleable\"><input class=\"sk-toggleable__control sk-hidden--visually\" id=\"sk-estimator-id-6\" type=\"checkbox\" ><label for=\"sk-estimator-id-6\" class=\"sk-toggleable__label sk-toggleable__label-arrow\">estimator: Ridge</label><div class=\"sk-toggleable__content\"><pre>Ridge()</pre></div></div></div><div class=\"sk-serial\"><div class=\"sk-item\"><div class=\"sk-estimator sk-toggleable\"><input class=\"sk-toggleable__control sk-hidden--visually\" id=\"sk-estimator-id-7\" type=\"checkbox\" ><label for=\"sk-estimator-id-7\" class=\"sk-toggleable__label sk-toggleable__label-arrow\">Ridge</label><div class=\"sk-toggleable__content\"><pre>Ridge()</pre></div></div></div></div></div></div></div></div></div></div>"
      ],
      "text/plain": [
       "GridSearchCV(estimator=Ridge(), n_jobs=-1,\n",
       "             param_grid=[{'alpha': [0.1, 0.5, 0.7, 1],\n",
       "                          'solver': ['auto', 'svd', 'cholesky', 'sparse_cg',\n",
       "                                     'lsqr', 'saga', 'lbfgs']}],\n",
       "             return_train_score=True, scoring='r2')"
      ]
     },
     "execution_count": 99,
     "metadata": {},
     "output_type": "execute_result"
    }
   ],
   "source": [
    "paramsrid = [\n",
    "    {                                                      \n",
    "     'solver': ['auto','svd','cholesky', 'sparse_cg', 'lsqr', 'saga', 'lbfgs'],       #7\n",
    "     'alpha': [0.1, 0.5, 0.7, 1]                                            #4\n",
    "     }    #   7*4=28 kombinasi      \n",
    "  ]\n",
    "\n",
    "grid_search = GridSearchCV(rid_model, paramsrid,\n",
    "                           scoring='r2', n_jobs= -1,\n",
    "                           return_train_score=True)\n",
    "                           \n",
    "grid_search.fit(X_train_pipe, y_train)"
   ]
  },
  {
   "cell_type": "markdown",
   "metadata": {},
   "source": [
    "Menampilkan parameter terbaik"
   ]
  },
  {
   "cell_type": "code",
   "execution_count": 100,
   "metadata": {},
   "outputs": [
    {
     "data": {
      "text/plain": [
       "{'alpha': 1, 'solver': 'auto'}"
      ]
     },
     "execution_count": 100,
     "metadata": {},
     "output_type": "execute_result"
    }
   ],
   "source": [
    "grid_search.best_params_"
   ]
  },
  {
   "cell_type": "markdown",
   "metadata": {},
   "source": [
    "Menampilkan hasil score prediksi"
   ]
  },
  {
   "cell_type": "code",
   "execution_count": 101,
   "metadata": {},
   "outputs": [
    {
     "data": {
      "text/plain": [
       "0.7535951530647276"
      ]
     },
     "execution_count": 101,
     "metadata": {},
     "output_type": "execute_result"
    }
   ],
   "source": [
    "grid_search.best_score_"
   ]
  },
  {
   "cell_type": "markdown",
   "metadata": {},
   "source": [
    "Dari hasil hypertuning, parameter terbaik adalah `alpha` = 1 dan `solver` = auto dimana nilai ini adalah nilai base dari model Ridge"
   ]
  },
  {
   "cell_type": "code",
   "execution_count": 102,
   "metadata": {},
   "outputs": [],
   "source": [
    "best_model = grid_search.best_estimator_"
   ]
  },
  {
   "cell_type": "markdown",
   "metadata": {},
   "source": [
    "prediksi menggunakan model yang telah dituning dan dilakukan evaluasi"
   ]
  },
  {
   "cell_type": "code",
   "execution_count": 103,
   "metadata": {},
   "outputs": [
    {
     "name": "stdout",
     "output_type": "stream",
     "text": [
      "==================== TRAINING SEBELUM TUNING ====================\n",
      "Mean absolute error: 185.2975041108365\n",
      "R2 Score: 0.8225701606143181\n",
      "==================== TEST SEBELUM TUNING ====================\n",
      "Mean absolute error: 223.45953095340502\n",
      "R2 Score: 0.7753108910702026\n",
      "==================== TRAINING SETELAH TUNING ====================\n",
      "Mean absolute error: 185.2975041108365\n",
      "R2 Score: 0.8225701606143181\n",
      "==================== TEST SETELAH TUNING ====================\n",
      "Mean absolute error: 223.45953095340502\n",
      "R2 Score: 0.7753108910702026\n"
     ]
    }
   ],
   "source": [
    "pred_train_rid_tuning = best_model.predict(X_train_pipe)\n",
    "pred_test_rid_tuning = best_model.predict(X_test_pipe)\n",
    "\n",
    "print(\"=\"*20,\"TRAINING SEBELUM TUNING\",\"=\"*20)\n",
    "print(\"Mean absolute error:\",mean_absolute_error(y_train,pred_train_rid))\n",
    "print(\"R2 Score:\",r2_score(y_train,pred_train_rid))\n",
    "\n",
    "print(\"=\"*20,\"TEST SEBELUM TUNING\",\"=\"*20)\n",
    "print(\"Mean absolute error:\",mean_absolute_error(y_test,pred_test_rid))\n",
    "print(\"R2 Score:\",r2_score(y_test,pred_test_rid))\n",
    "\n",
    "print(\"=\"*20,\"TRAINING SETELAH TUNING\",\"=\"*20)\n",
    "print(\"Mean absolute error:\",mean_absolute_error(y_train,pred_train_rid_tuning))\n",
    "print(\"R2 Score:\",r2_score(y_train,pred_train_rid_tuning))\n",
    "\n",
    "print(\"=\"*20,\"TEST SETELAH TUNING\",\"=\"*20)\n",
    "print(\"Mean absolute error:\",mean_absolute_error(y_test,pred_test_rid_tuning))\n",
    "print(\"R2 Score:\",r2_score(y_test,pred_test_rid_tuning))\n",
    "\n"
   ]
  },
  {
   "cell_type": "markdown",
   "metadata": {},
   "source": [
    "Dari hasil tuning, tidak ada perubahan karena parameter yang terbaik memang menggunakan Model base dari Ridge."
   ]
  },
  {
   "cell_type": "markdown",
   "metadata": {},
   "source": [
    "### VIII.VI Combine Pipeline : Preprocessing + Model"
   ]
  },
  {
   "cell_type": "markdown",
   "metadata": {},
   "source": [
    "Pada bagian ini, akan dilakukan penggabungan model Ridge ke dalam pipeline sebelumnya agar model dapat bekerja saat deployment."
   ]
  },
  {
   "cell_type": "code",
   "execution_count": 104,
   "metadata": {},
   "outputs": [
    {
     "name": "stdout",
     "output_type": "stream",
     "text": [
      "Mean absolute error: 223.45953095340502\n",
      "R2 Score: 0.7753108910702026\n"
     ]
    }
   ],
   "source": [
    "all_process = Pipeline([\n",
    "    (\"preprocess\", full_pipeline),\n",
    "    (\"regression\", best_model)\n",
    "])\n",
    "\n",
    "all_process.fit(X_train, y_train)\n",
    "hasil = all_process.predict(X_test)\n",
    "\n",
    "print(\"Mean absolute error:\",mean_absolute_error(y_test,hasil))\n",
    "print(\"R2 Score:\",r2_score(y_test,hasil))"
   ]
  },
  {
   "cell_type": "markdown",
   "metadata": {},
   "source": [
    "## IX. Model Inference"
   ]
  },
  {
   "cell_type": "markdown",
   "metadata": {},
   "source": [
    "Data Inference"
   ]
  },
  {
   "cell_type": "code",
   "execution_count": 105,
   "metadata": {},
   "outputs": [
    {
     "data": {
      "text/html": [
       "<div>\n",
       "<style scoped>\n",
       "    .dataframe tbody tr th:only-of-type {\n",
       "        vertical-align: middle;\n",
       "    }\n",
       "\n",
       "    .dataframe tbody tr th {\n",
       "        vertical-align: top;\n",
       "    }\n",
       "\n",
       "    .dataframe thead th {\n",
       "        text-align: right;\n",
       "    }\n",
       "</style>\n",
       "<table border=\"1\" class=\"dataframe\">\n",
       "  <thead>\n",
       "    <tr style=\"text-align: right;\">\n",
       "      <th></th>\n",
       "      <th>Laptop_Brand</th>\n",
       "      <th>Product</th>\n",
       "      <th>Laptop_Type</th>\n",
       "      <th>Inches</th>\n",
       "      <th>RAM_GB</th>\n",
       "      <th>GPU</th>\n",
       "      <th>OpSys</th>\n",
       "      <th>Weight_Kg</th>\n",
       "      <th>Price_euros</th>\n",
       "      <th>HDD_GB</th>\n",
       "      <th>SSD_GB</th>\n",
       "      <th>Hybrid_GB</th>\n",
       "      <th>Flash_Storage_GB</th>\n",
       "      <th>CPU_GHz</th>\n",
       "      <th>CPU_Model</th>\n",
       "      <th>TouchScreen</th>\n",
       "      <th>Resolution_X</th>\n",
       "      <th>Resolution_Y</th>\n",
       "    </tr>\n",
       "  </thead>\n",
       "  <tbody>\n",
       "    <tr>\n",
       "      <th>0</th>\n",
       "      <td>Dell</td>\n",
       "      <td>Vostro 5568</td>\n",
       "      <td>Notebook</td>\n",
       "      <td>15.6</td>\n",
       "      <td>8</td>\n",
       "      <td>Intel HD Graphics 620</td>\n",
       "      <td>Linux</td>\n",
       "      <td>1.98</td>\n",
       "      <td>726.0</td>\n",
       "      <td>1000</td>\n",
       "      <td>0</td>\n",
       "      <td>0</td>\n",
       "      <td>0</td>\n",
       "      <td>2.5</td>\n",
       "      <td>Intel Core i5</td>\n",
       "      <td>0</td>\n",
       "      <td>1920</td>\n",
       "      <td>1080</td>\n",
       "    </tr>\n",
       "    <tr>\n",
       "      <th>1</th>\n",
       "      <td>Acer</td>\n",
       "      <td>Chromebook 14</td>\n",
       "      <td>Notebook</td>\n",
       "      <td>14.0</td>\n",
       "      <td>2</td>\n",
       "      <td>Intel HD Graphics 400</td>\n",
       "      <td>Others</td>\n",
       "      <td>1.68</td>\n",
       "      <td>330.0</td>\n",
       "      <td>0</td>\n",
       "      <td>0</td>\n",
       "      <td>0</td>\n",
       "      <td>32</td>\n",
       "      <td>1.6</td>\n",
       "      <td>Intel Celeron Dual</td>\n",
       "      <td>0</td>\n",
       "      <td>1366</td>\n",
       "      <td>768</td>\n",
       "    </tr>\n",
       "  </tbody>\n",
       "</table>\n",
       "</div>"
      ],
      "text/plain": [
       "  Laptop_Brand        Product Laptop_Type  Inches  RAM_GB  \\\n",
       "0         Dell    Vostro 5568    Notebook    15.6       8   \n",
       "1         Acer  Chromebook 14    Notebook    14.0       2   \n",
       "\n",
       "                     GPU   OpSys  Weight_Kg  Price_euros  HDD_GB  SSD_GB  \\\n",
       "0  Intel HD Graphics 620   Linux       1.98        726.0    1000       0   \n",
       "1  Intel HD Graphics 400  Others       1.68        330.0       0       0   \n",
       "\n",
       "   Hybrid_GB  Flash_Storage_GB  CPU_GHz           CPU_Model  TouchScreen  \\\n",
       "0          0                 0      2.5       Intel Core i5            0   \n",
       "1          0                32      1.6  Intel Celeron Dual            0   \n",
       "\n",
       "   Resolution_X  Resolution_Y  \n",
       "0          1920          1080  \n",
       "1          1366           768  "
      ]
     },
     "execution_count": 105,
     "metadata": {},
     "output_type": "execute_result"
    }
   ],
   "source": [
    "data_inf"
   ]
  },
  {
   "cell_type": "markdown",
   "metadata": {},
   "source": [
    "Membuat feature PPI dan Total Storage"
   ]
  },
  {
   "cell_type": "code",
   "execution_count": 106,
   "metadata": {},
   "outputs": [],
   "source": [
    "data_inf['PPI'] = (((data_inf['Resolution_X']**2) + (data_inf['Resolution_Y']**2))**0.5/data_inf['Inches'])\n",
    "data_inf['Total_Storage_GB'] = data_inf['HDD_GB'] + data_inf['SSD_GB'] + data_inf['Flash_Storage_GB']\n",
    "data_inf_final = data_inf[num_cat_target]\n"
   ]
  },
  {
   "cell_type": "markdown",
   "metadata": {},
   "source": [
    "Preprocessing dan Prediksi"
   ]
  },
  {
   "cell_type": "code",
   "execution_count": 107,
   "metadata": {},
   "outputs": [
    {
     "data": {
      "text/plain": [
       "array([946.81239828,  18.30144798])"
      ]
     },
     "execution_count": 107,
     "metadata": {},
     "output_type": "execute_result"
    }
   ],
   "source": [
    "all_process.predict(data_inf_final)"
   ]
  },
  {
   "cell_type": "markdown",
   "metadata": {},
   "source": [
    "## X. Model Saving"
   ]
  },
  {
   "cell_type": "markdown",
   "metadata": {},
   "source": [
    "Sebelum melakukan deploy, model yang telah dibuat harus disimpan"
   ]
  },
  {
   "cell_type": "code",
   "execution_count": 108,
   "metadata": {},
   "outputs": [],
   "source": [
    "# save model\n",
    "pickle.dump(all_process, open(\"price_pred.pkl\", \"wb\"))"
   ]
  },
  {
   "cell_type": "code",
   "execution_count": 109,
   "metadata": {},
   "outputs": [],
   "source": [
    "set_config(display='diagram')"
   ]
  },
  {
   "cell_type": "code",
   "execution_count": 110,
   "metadata": {},
   "outputs": [
    {
     "data": {
      "text/html": [
       "<style>#sk-container-id-6 {color: black;background-color: white;}#sk-container-id-6 pre{padding: 0;}#sk-container-id-6 div.sk-toggleable {background-color: white;}#sk-container-id-6 label.sk-toggleable__label {cursor: pointer;display: block;width: 100%;margin-bottom: 0;padding: 0.3em;box-sizing: border-box;text-align: center;}#sk-container-id-6 label.sk-toggleable__label-arrow:before {content: \"▸\";float: left;margin-right: 0.25em;color: #696969;}#sk-container-id-6 label.sk-toggleable__label-arrow:hover:before {color: black;}#sk-container-id-6 div.sk-estimator:hover label.sk-toggleable__label-arrow:before {color: black;}#sk-container-id-6 div.sk-toggleable__content {max-height: 0;max-width: 0;overflow: hidden;text-align: left;background-color: #f0f8ff;}#sk-container-id-6 div.sk-toggleable__content pre {margin: 0.2em;color: black;border-radius: 0.25em;background-color: #f0f8ff;}#sk-container-id-6 input.sk-toggleable__control:checked~div.sk-toggleable__content {max-height: 200px;max-width: 100%;overflow: auto;}#sk-container-id-6 input.sk-toggleable__control:checked~label.sk-toggleable__label-arrow:before {content: \"▾\";}#sk-container-id-6 div.sk-estimator input.sk-toggleable__control:checked~label.sk-toggleable__label {background-color: #d4ebff;}#sk-container-id-6 div.sk-label input.sk-toggleable__control:checked~label.sk-toggleable__label {background-color: #d4ebff;}#sk-container-id-6 input.sk-hidden--visually {border: 0;clip: rect(1px 1px 1px 1px);clip: rect(1px, 1px, 1px, 1px);height: 1px;margin: -1px;overflow: hidden;padding: 0;position: absolute;width: 1px;}#sk-container-id-6 div.sk-estimator {font-family: monospace;background-color: #f0f8ff;border: 1px dotted black;border-radius: 0.25em;box-sizing: border-box;margin-bottom: 0.5em;}#sk-container-id-6 div.sk-estimator:hover {background-color: #d4ebff;}#sk-container-id-6 div.sk-parallel-item::after {content: \"\";width: 100%;border-bottom: 1px solid gray;flex-grow: 1;}#sk-container-id-6 div.sk-label:hover label.sk-toggleable__label {background-color: #d4ebff;}#sk-container-id-6 div.sk-serial::before {content: \"\";position: absolute;border-left: 1px solid gray;box-sizing: border-box;top: 0;bottom: 0;left: 50%;z-index: 0;}#sk-container-id-6 div.sk-serial {display: flex;flex-direction: column;align-items: center;background-color: white;padding-right: 0.2em;padding-left: 0.2em;position: relative;}#sk-container-id-6 div.sk-item {position: relative;z-index: 1;}#sk-container-id-6 div.sk-parallel {display: flex;align-items: stretch;justify-content: center;background-color: white;position: relative;}#sk-container-id-6 div.sk-item::before, #sk-container-id-6 div.sk-parallel-item::before {content: \"\";position: absolute;border-left: 1px solid gray;box-sizing: border-box;top: 0;bottom: 0;left: 50%;z-index: -1;}#sk-container-id-6 div.sk-parallel-item {display: flex;flex-direction: column;z-index: 1;position: relative;background-color: white;}#sk-container-id-6 div.sk-parallel-item:first-child::after {align-self: flex-end;width: 50%;}#sk-container-id-6 div.sk-parallel-item:last-child::after {align-self: flex-start;width: 50%;}#sk-container-id-6 div.sk-parallel-item:only-child::after {width: 0;}#sk-container-id-6 div.sk-dashed-wrapped {border: 1px dashed gray;margin: 0 0.4em 0.5em 0.4em;box-sizing: border-box;padding-bottom: 0.4em;background-color: white;}#sk-container-id-6 div.sk-label label {font-family: monospace;font-weight: bold;display: inline-block;line-height: 1.2em;}#sk-container-id-6 div.sk-label-container {text-align: center;}#sk-container-id-6 div.sk-container {/* jupyter's `normalize.less` sets `[hidden] { display: none; }` but bootstrap.min.css set `[hidden] { display: none !important; }` so we also need the `!important` here to be able to override the default hidden behavior on the sphinx rendered scikit-learn.org. See: https://github.com/scikit-learn/scikit-learn/issues/21755 */display: inline-block !important;position: relative;}#sk-container-id-6 div.sk-text-repr-fallback {display: none;}</style><div id=\"sk-container-id-6\" class=\"sk-top-container\"><div class=\"sk-text-repr-fallback\"><pre>Pipeline(steps=[(&#x27;preprocess&#x27;,\n",
       "                 ColumnTransformer(transformers=[(&#x27;num&#x27;,\n",
       "                                                  Pipeline(steps=[(&#x27;scaler&#x27;,\n",
       "                                                                   MinMaxScaler())]),\n",
       "                                                  [&#x27;PPI&#x27;, &#x27;CPU_GHz&#x27;, &#x27;RAM_GB&#x27;,\n",
       "                                                   &#x27;Total_Storage_GB&#x27;]),\n",
       "                                                 (&#x27;cat_ohe&#x27;,\n",
       "                                                  Pipeline(steps=[(&#x27;ohe_enc&#x27;,\n",
       "                                                                   OneHotEncoder(handle_unknown=&#x27;ignore&#x27;,\n",
       "                                                                                 sparse=False))]),\n",
       "                                                  [&#x27;Laptop_Brand&#x27;,\n",
       "                                                   &#x27;Laptop_Type&#x27;, &#x27;OpSys&#x27;,\n",
       "                                                   &#x27;CPU_Model&#x27;, &#x27;GPU&#x27;,\n",
       "                                                   &#x27;TouchScreen&#x27;])])),\n",
       "                (&#x27;regression&#x27;, Ridge(alpha=1))])</pre><b>In a Jupyter environment, please rerun this cell to show the HTML representation or trust the notebook. <br />On GitHub, the HTML representation is unable to render, please try loading this page with nbviewer.org.</b></div><div class=\"sk-container\" hidden><div class=\"sk-item sk-dashed-wrapped\"><div class=\"sk-label-container\"><div class=\"sk-label sk-toggleable\"><input class=\"sk-toggleable__control sk-hidden--visually\" id=\"sk-estimator-id-8\" type=\"checkbox\" ><label for=\"sk-estimator-id-8\" class=\"sk-toggleable__label sk-toggleable__label-arrow\">Pipeline</label><div class=\"sk-toggleable__content\"><pre>Pipeline(steps=[(&#x27;preprocess&#x27;,\n",
       "                 ColumnTransformer(transformers=[(&#x27;num&#x27;,\n",
       "                                                  Pipeline(steps=[(&#x27;scaler&#x27;,\n",
       "                                                                   MinMaxScaler())]),\n",
       "                                                  [&#x27;PPI&#x27;, &#x27;CPU_GHz&#x27;, &#x27;RAM_GB&#x27;,\n",
       "                                                   &#x27;Total_Storage_GB&#x27;]),\n",
       "                                                 (&#x27;cat_ohe&#x27;,\n",
       "                                                  Pipeline(steps=[(&#x27;ohe_enc&#x27;,\n",
       "                                                                   OneHotEncoder(handle_unknown=&#x27;ignore&#x27;,\n",
       "                                                                                 sparse=False))]),\n",
       "                                                  [&#x27;Laptop_Brand&#x27;,\n",
       "                                                   &#x27;Laptop_Type&#x27;, &#x27;OpSys&#x27;,\n",
       "                                                   &#x27;CPU_Model&#x27;, &#x27;GPU&#x27;,\n",
       "                                                   &#x27;TouchScreen&#x27;])])),\n",
       "                (&#x27;regression&#x27;, Ridge(alpha=1))])</pre></div></div></div><div class=\"sk-serial\"><div class=\"sk-item sk-dashed-wrapped\"><div class=\"sk-label-container\"><div class=\"sk-label sk-toggleable\"><input class=\"sk-toggleable__control sk-hidden--visually\" id=\"sk-estimator-id-9\" type=\"checkbox\" ><label for=\"sk-estimator-id-9\" class=\"sk-toggleable__label sk-toggleable__label-arrow\">preprocess: ColumnTransformer</label><div class=\"sk-toggleable__content\"><pre>ColumnTransformer(transformers=[(&#x27;num&#x27;,\n",
       "                                 Pipeline(steps=[(&#x27;scaler&#x27;, MinMaxScaler())]),\n",
       "                                 [&#x27;PPI&#x27;, &#x27;CPU_GHz&#x27;, &#x27;RAM_GB&#x27;,\n",
       "                                  &#x27;Total_Storage_GB&#x27;]),\n",
       "                                (&#x27;cat_ohe&#x27;,\n",
       "                                 Pipeline(steps=[(&#x27;ohe_enc&#x27;,\n",
       "                                                  OneHotEncoder(handle_unknown=&#x27;ignore&#x27;,\n",
       "                                                                sparse=False))]),\n",
       "                                 [&#x27;Laptop_Brand&#x27;, &#x27;Laptop_Type&#x27;, &#x27;OpSys&#x27;,\n",
       "                                  &#x27;CPU_Model&#x27;, &#x27;GPU&#x27;, &#x27;TouchScreen&#x27;])])</pre></div></div></div><div class=\"sk-parallel\"><div class=\"sk-parallel-item\"><div class=\"sk-item\"><div class=\"sk-label-container\"><div class=\"sk-label sk-toggleable\"><input class=\"sk-toggleable__control sk-hidden--visually\" id=\"sk-estimator-id-10\" type=\"checkbox\" ><label for=\"sk-estimator-id-10\" class=\"sk-toggleable__label sk-toggleable__label-arrow\">num</label><div class=\"sk-toggleable__content\"><pre>[&#x27;PPI&#x27;, &#x27;CPU_GHz&#x27;, &#x27;RAM_GB&#x27;, &#x27;Total_Storage_GB&#x27;]</pre></div></div></div><div class=\"sk-serial\"><div class=\"sk-item\"><div class=\"sk-serial\"><div class=\"sk-item\"><div class=\"sk-estimator sk-toggleable\"><input class=\"sk-toggleable__control sk-hidden--visually\" id=\"sk-estimator-id-11\" type=\"checkbox\" ><label for=\"sk-estimator-id-11\" class=\"sk-toggleable__label sk-toggleable__label-arrow\">MinMaxScaler</label><div class=\"sk-toggleable__content\"><pre>MinMaxScaler()</pre></div></div></div></div></div></div></div></div><div class=\"sk-parallel-item\"><div class=\"sk-item\"><div class=\"sk-label-container\"><div class=\"sk-label sk-toggleable\"><input class=\"sk-toggleable__control sk-hidden--visually\" id=\"sk-estimator-id-12\" type=\"checkbox\" ><label for=\"sk-estimator-id-12\" class=\"sk-toggleable__label sk-toggleable__label-arrow\">cat_ohe</label><div class=\"sk-toggleable__content\"><pre>[&#x27;Laptop_Brand&#x27;, &#x27;Laptop_Type&#x27;, &#x27;OpSys&#x27;, &#x27;CPU_Model&#x27;, &#x27;GPU&#x27;, &#x27;TouchScreen&#x27;]</pre></div></div></div><div class=\"sk-serial\"><div class=\"sk-item\"><div class=\"sk-serial\"><div class=\"sk-item\"><div class=\"sk-estimator sk-toggleable\"><input class=\"sk-toggleable__control sk-hidden--visually\" id=\"sk-estimator-id-13\" type=\"checkbox\" ><label for=\"sk-estimator-id-13\" class=\"sk-toggleable__label sk-toggleable__label-arrow\">OneHotEncoder</label><div class=\"sk-toggleable__content\"><pre>OneHotEncoder(handle_unknown=&#x27;ignore&#x27;, sparse=False)</pre></div></div></div></div></div></div></div></div></div></div><div class=\"sk-item\"><div class=\"sk-estimator sk-toggleable\"><input class=\"sk-toggleable__control sk-hidden--visually\" id=\"sk-estimator-id-14\" type=\"checkbox\" ><label for=\"sk-estimator-id-14\" class=\"sk-toggleable__label sk-toggleable__label-arrow\">Ridge</label><div class=\"sk-toggleable__content\"><pre>Ridge(alpha=1)</pre></div></div></div></div></div></div></div>"
      ],
      "text/plain": [
       "Pipeline(steps=[('preprocess',\n",
       "                 ColumnTransformer(transformers=[('num',\n",
       "                                                  Pipeline(steps=[('scaler',\n",
       "                                                                   MinMaxScaler())]),\n",
       "                                                  ['PPI', 'CPU_GHz', 'RAM_GB',\n",
       "                                                   'Total_Storage_GB']),\n",
       "                                                 ('cat_ohe',\n",
       "                                                  Pipeline(steps=[('ohe_enc',\n",
       "                                                                   OneHotEncoder(handle_unknown='ignore',\n",
       "                                                                                 sparse=False))]),\n",
       "                                                  ['Laptop_Brand',\n",
       "                                                   'Laptop_Type', 'OpSys',\n",
       "                                                   'CPU_Model', 'GPU',\n",
       "                                                   'TouchScreen'])])),\n",
       "                ('regression', Ridge(alpha=1))])"
      ]
     },
     "execution_count": 110,
     "metadata": {},
     "output_type": "execute_result"
    }
   ],
   "source": [
    "all_process"
   ]
  },
  {
   "cell_type": "markdown",
   "metadata": {},
   "source": [
    "## XI. Kesimpulan"
   ]
  },
  {
   "cell_type": "markdown",
   "metadata": {},
   "source": [
    "Dari model regresi yang telah dikerjakan, dapat disimpulkan:\n",
    "1. `Brand laptop termahal` adalah `Razer` dengan harga rata-rata 2766,5 Euro dan `brand laptop termurah` adalah `Vero` dengan harga rata-rata 217 Euro. Laptop `Razer` berfokus pada laptop tipe `Gaming` sehingga wajar jika harganya mahal karena laptop Gaming merupakan tipe laptop termahal ke dua.\n",
    "2. `Brand laptop` yang paling banyak terjual adalah Brand `DELL`, kemudian `LENOVO`, `HP`, `ASUS`, dan `ACER`. Dari ke lima brand ini, Laptop yang terbanyak terjual adalah XPS 13 untuk DELL, Legion Y520-15IKBN untuk LENOVO, 250 G6 untuk HP, Rog Strix untuk ASUS, dan Aspire 3 untuk Acer.\n",
    "3. Berdasarkan sistem operasi yang digunakan, `Laptop dengan Sistem Operasi Mac` memiliki `harga rata-rata` laptop yang `tertinggi` dengan 1564,2 Euro, Kemudian disusul oleh `Laptop dengan sistem operasi Windows` dengan harga rata-rata 1202,12 Euro, lalu `laptop dengan sistem operasi Linux` dengan harga rata-rata 621,87 Euro, lalu `laptop tanpa sistem operasi (DOS)` dengan harga rata-rata 587,97 Euro, dan yang terakhir adalah `laptop dengan sistem operasi` yang lainnya seperti `Chrome dan Android` dengan harga rata-rata 545,34 Euro.\n",
    "4. Diantara model Linear Regression, Ridge, Decision Tree, dan Random Forest, `model terbaik` untuk melakukan prediksi harga laptop adalah `Model Ridge` dengan menggunakan parameter dasarnya.\n",
    "5. Harga prediksi memiliki error sekitar 223,46 Euro dengan R2 Score adalah 0,78"
   ]
  },
  {
   "cell_type": "markdown",
   "metadata": {},
   "source": [
    "Improvement:\n",
    "- memperbaharui data karena data laptop yang digunakan sudah cukup lama sedangkan laptop hampir setiap tahun selalu keluar tipe terbaru\n",
    "- mencoba menggunakan model regresi yang lain untuk mendapatkan nilai R2 Score yang lebih baik"
   ]
  }
 ],
 "metadata": {
  "kernelspec": {
   "display_name": "Python 3.9.12 ('base')",
   "language": "python",
   "name": "python3"
  },
  "language_info": {
   "codemirror_mode": {
    "name": "ipython",
    "version": 3
   },
   "file_extension": ".py",
   "mimetype": "text/x-python",
   "name": "python",
   "nbconvert_exporter": "python",
   "pygments_lexer": "ipython3",
   "version": "3.9.12"
  },
  "orig_nbformat": 4,
  "vscode": {
   "interpreter": {
    "hash": "c5f4951c5531ed3118c91fcdcb7cd43e4c1b551505bdba506ac1c85debba4207"
   }
  }
 },
 "nbformat": 4,
 "nbformat_minor": 2
}
